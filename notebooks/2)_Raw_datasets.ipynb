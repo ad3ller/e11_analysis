{
 "cells": [
  {
   "cell_type": "code",
   "execution_count": 1,
   "metadata": {},
   "outputs": [],
   "source": [
    "%matplotlib inline"
   ]
  },
  {
   "cell_type": "code",
   "execution_count": 2,
   "metadata": {},
   "outputs": [],
   "source": [
    "import os \n",
    "import numpy as np\n",
    "import pandas as pd\n",
    "import matplotlib.pyplot as plt\n",
    "from e11 import H5Scan, H5Data"
   ]
  },
  {
   "cell_type": "markdown",
   "metadata": {},
   "source": [
    "# Raw datasets\n",
    "---\n",
    "\n",
    "This notebook demonstrates how to use `e11.H5Scan()` and `e11.H5Data()` to access experimental datasets stored in hdf5 files."
   ]
  },
  {
   "cell_type": "markdown",
   "metadata": {
    "collapsed": true
   },
   "source": [
    "# `e11.H5Scan()` \n",
    "---\n",
    "\n",
    "Access to raw datasets with `e11.H5Scan()` requires the name of the dataset."
   ]
  },
  {
   "cell_type": "code",
   "execution_count": 3,
   "metadata": {},
   "outputs": [
    {
     "data": {
      "text/plain": [
       "['analysis', 'osc_0']"
      ]
     },
     "execution_count": 3,
     "metadata": {},
     "output_type": "execute_result"
    }
   ],
   "source": [
    "fil = os.path.join(os.getcwd(), 'example_data', 'microwave_scan.h5')\n",
    "scan = H5Scan(fil)\n",
    "# list the datasets\n",
    "scan.datasets()"
   ]
  },
  {
   "cell_type": "markdown",
   "metadata": {},
   "source": [
    "Array datasets are accessed using the class method `H5Scan.array(dataset)`."
   ]
  },
  {
   "cell_type": "code",
   "execution_count": 4,
   "metadata": {},
   "outputs": [],
   "source": [
    "# array dataset\n",
    "arr = scan.array('osc_0')\n",
    "# attributes\n",
    "arr_info = scan.attrs('osc_0')"
   ]
  },
  {
   "cell_type": "code",
   "execution_count": 5,
   "metadata": {},
   "outputs": [
    {
     "data": {
      "image/png": "[encoded data removed]",
      "text/plain": [
       "<Figure size 432x288 with 1 Axes>"
      ]
     },
     "metadata": {
      "needs_background": "light"
     },
     "output_type": "display_data"
    }
   ],
   "source": [
    "# plot\n",
    "fig, ax = plt.subplots()\n",
    "\n",
    "# data\n",
    "dt = 1e6 * arr_info['dt']\n",
    "xvals = np.arange(0, len(arr[0])*dt, dt)\n",
    "yvals = np.mean(arr, axis=0)\n",
    "ax.plot(xvals, yvals)\n",
    "\n",
    "# format\n",
    "ax.set_xlabel('time ($\\mu$s)')\n",
    "ax.set_ylabel('signal (V)')\n",
    "\n",
    "# output\n",
    "plt.show()"
   ]
  },
  {
   "cell_type": "markdown",
   "metadata": {},
   "source": [
    "And DataFrame data can be accessed using the class method `H5Scan.df(dataset)`."
   ]
  },
  {
   "cell_type": "code",
   "execution_count": 6,
   "metadata": {},
   "outputs": [
    {
     "data": {
      "text/html": [
       "<div>\n",
       "<style scoped>\n",
       "    .dataframe tbody tr th:only-of-type {\n",
       "        vertical-align: middle;\n",
       "    }\n",
       "\n",
       "    .dataframe tbody tr th {\n",
       "        vertical-align: top;\n",
       "    }\n",
       "\n",
       "    .dataframe thead th {\n",
       "        text-align: right;\n",
       "    }\n",
       "</style>\n",
       "<table border=\"1\" class=\"dataframe\">\n",
       "  <thead>\n",
       "    <tr style=\"text-align: right;\">\n",
       "      <th></th>\n",
       "      <th>var</th>\n",
       "      <th>w0</th>\n",
       "      <th>w1</th>\n",
       "      <th>a0</th>\n",
       "      <th>a1</th>\n",
       "      <th>a2</th>\n",
       "      <th>f</th>\n",
       "    </tr>\n",
       "    <tr>\n",
       "      <th>measurement</th>\n",
       "      <th></th>\n",
       "      <th></th>\n",
       "      <th></th>\n",
       "      <th></th>\n",
       "      <th></th>\n",
       "      <th></th>\n",
       "      <th></th>\n",
       "    </tr>\n",
       "  </thead>\n",
       "  <tbody>\n",
       "    <tr>\n",
       "      <th>0</th>\n",
       "      <td>32.0500</td>\n",
       "      <td>777.950119</td>\n",
       "      <td>786.992730</td>\n",
       "      <td>0.000499</td>\n",
       "      <td>-0.005882</td>\n",
       "      <td>-1.118270</td>\n",
       "      <td>-0.006381</td>\n",
       "    </tr>\n",
       "    <tr>\n",
       "      <th>1</th>\n",
       "      <td>32.0505</td>\n",
       "      <td>777.950119</td>\n",
       "      <td>786.992729</td>\n",
       "      <td>0.000458</td>\n",
       "      <td>-0.006048</td>\n",
       "      <td>-1.122989</td>\n",
       "      <td>-0.006506</td>\n",
       "    </tr>\n",
       "    <tr>\n",
       "      <th>2</th>\n",
       "      <td>32.0510</td>\n",
       "      <td>777.950120</td>\n",
       "      <td>786.992729</td>\n",
       "      <td>0.000443</td>\n",
       "      <td>-0.005974</td>\n",
       "      <td>-1.138911</td>\n",
       "      <td>-0.006417</td>\n",
       "    </tr>\n",
       "    <tr>\n",
       "      <th>3</th>\n",
       "      <td>32.0515</td>\n",
       "      <td>777.950119</td>\n",
       "      <td>786.992729</td>\n",
       "      <td>0.000860</td>\n",
       "      <td>-0.005568</td>\n",
       "      <td>-0.995466</td>\n",
       "      <td>-0.006428</td>\n",
       "    </tr>\n",
       "    <tr>\n",
       "      <th>4</th>\n",
       "      <td>32.0520</td>\n",
       "      <td>777.950119</td>\n",
       "      <td>786.992729</td>\n",
       "      <td>0.000522</td>\n",
       "      <td>-0.005977</td>\n",
       "      <td>-1.095825</td>\n",
       "      <td>-0.006499</td>\n",
       "    </tr>\n",
       "  </tbody>\n",
       "</table>\n",
       "</div>"
      ],
      "text/plain": [
       "                 var          w0          w1        a0        a1        a2  \\\n",
       "measurement                                                                  \n",
       "0            32.0500  777.950119  786.992730  0.000499 -0.005882 -1.118270   \n",
       "1            32.0505  777.950119  786.992729  0.000458 -0.006048 -1.122989   \n",
       "2            32.0510  777.950120  786.992729  0.000443 -0.005974 -1.138911   \n",
       "3            32.0515  777.950119  786.992729  0.000860 -0.005568 -0.995466   \n",
       "4            32.0520  777.950119  786.992729  0.000522 -0.005977 -1.095825   \n",
       "\n",
       "                    f  \n",
       "measurement            \n",
       "0           -0.006381  \n",
       "1           -0.006506  \n",
       "2           -0.006417  \n",
       "3           -0.006428  \n",
       "4           -0.006499  "
      ]
     },
     "execution_count": 6,
     "metadata": {},
     "output_type": "execute_result"
    }
   ],
   "source": [
    "# DataFrame dataset\n",
    "df = scan.df('analysis')\n",
    "df.head()"
   ]
  },
  {
   "cell_type": "code",
   "execution_count": 7,
   "metadata": {
    "scrolled": true
   },
   "outputs": [
    {
     "data": {
      "image/png": "[encoded data removed]",
      "text/plain": [
       "<Figure size 432x288 with 1 Axes>"
      ]
     },
     "metadata": {
      "needs_background": "light"
     },
     "output_type": "display_data"
    }
   ],
   "source": [
    "# plot the DataFrame for all squids\n",
    "df.sort_values('var').plot('var', 'f')\n",
    "\n",
    "# output\n",
    "plt.show()"
   ]
  },
  {
   "cell_type": "markdown",
   "metadata": {},
   "source": [
    "# `e11.H5Data()`\n",
    "---"
   ]
  },
  {
   "cell_type": "markdown",
   "metadata": {},
   "source": [
    "To access raw datasets using `e11.H5Data()` both the name of the dataset and the group in which it is located (i.e., the `squid`) must be specified."
   ]
  },
  {
   "cell_type": "code",
   "execution_count": 8,
   "metadata": {},
   "outputs": [
    {
     "data": {
      "text/plain": [
       "['AV_0', 'IMG', 'OSC_0']"
      ]
     },
     "execution_count": 8,
     "metadata": {},
     "output_type": "execute_result"
    }
   ],
   "source": [
    "fil = os.path.join(os.getcwd(), 'example_data', 'array_data.h5')\n",
    "data = H5Data(fil)\n",
    "# list the datasets that belong to the group `squid=1`.\n",
    "squid = 1\n",
    "data.datasets(squid)"
   ]
  },
  {
   "cell_type": "markdown",
   "metadata": {},
   "source": [
    "Array datasets can be read using the class method `H5Data.array(squid, dataset)`.\n",
    "\n",
    "In this example, `OSC_0` contains 1d oscilloscope traces stored as rows in a 2d array of repeat measurements."
   ]
  },
  {
   "cell_type": "code",
   "execution_count": 9,
   "metadata": {},
   "outputs": [
    {
     "name": "stderr",
     "output_type": "stream",
     "text": [
      "100%|██████████| 1/1 [00:00<00:00, 108.52it/s]\n"
     ]
    },
    {
     "data": {
      "text/plain": [
       "(25, 2502)"
      ]
     },
     "execution_count": 9,
     "metadata": {},
     "output_type": "execute_result"
    }
   ],
   "source": [
    "# Load 2D array data from the hdf5 file,\n",
    "osc = data.array(squid, 'OSC_0', ignore_missing=False)\n",
    "np.shape(osc)"
   ]
  },
  {
   "cell_type": "markdown",
   "metadata": {},
   "source": [
    "This dataset contains traces with 2501 data points; 25 repeats are stored along the first dimension of the array.\n"
   ]
  },
  {
   "cell_type": "code",
   "execution_count": 10,
   "metadata": {},
   "outputs": [
    {
     "data": {
      "text/plain": [
       "{'Manufacturer': 'LECROY',\n",
       " 'Model': 'HDO4054',\n",
       " 'Serial Number': 'LCRY3513N19955',\n",
       " 'dt': 8.000000106811456e-10,\n",
       " 'Averages': 10,\n",
       " 'squid': 1}"
      ]
     },
     "execution_count": 10,
     "metadata": {},
     "output_type": "execute_result"
    }
   ],
   "source": [
    "# information about the dataset.\n",
    "osc_info = data.attrs(squid, 'OSC_0')\n",
    "osc_info"
   ]
  },
  {
   "cell_type": "code",
   "execution_count": 11,
   "metadata": {},
   "outputs": [
    {
     "data": {
      "image/png": "[encoded data removed]",
      "text/plain": [
       "<Figure size 432x288 with 1 Axes>"
      ]
     },
     "metadata": {
      "needs_background": "light"
     },
     "output_type": "display_data"
    }
   ],
   "source": [
    "# plot\n",
    "fig, ax = plt.subplots()\n",
    "\n",
    "# average data\n",
    "dt = 1e6 * osc_info['dt']\n",
    "xvals = np.arange(0, len(osc[0])*dt, dt)\n",
    "yvals = np.mean(osc, axis=0)\n",
    "ax.plot(xvals, yvals)\n",
    "\n",
    "# format\n",
    "ax.set_xlabel('time ($\\mu$s)')\n",
    "ax.set_ylabel('signal (V)')\n",
    "\n",
    "# output\n",
    "plt.show()"
   ]
  },
  {
   "cell_type": "markdown",
   "metadata": {},
   "source": [
    "Camera data are typically stored as 3d arrays of repeating 2d exposures.  These can also be accessed using `H5Data.array(squid, dataset)`.  \n",
    "\n",
    "In the example below, the repeats are stored along axis=2.  This axis can be used to concatenate images from multiple squids into a single 3d array."
   ]
  },
  {
   "cell_type": "code",
   "execution_count": 12,
   "metadata": {},
   "outputs": [
    {
     "name": "stderr",
     "output_type": "stream",
     "text": [
      "100%|██████████| 2/2 [00:00<00:00, 116.26it/s]\n"
     ]
    },
    {
     "data": {
      "text/plain": [
       "(128, 128, 19)"
      ]
     },
     "execution_count": 12,
     "metadata": {},
     "output_type": "execute_result"
    }
   ],
   "source": [
    "# image datasets\n",
    "squids = [1, 2]\n",
    "img = data.array(squids, 'IMG', axis=2, ignore_missing=True)\n",
    "np.shape(img)"
   ]
  },
  {
   "cell_type": "markdown",
   "metadata": {},
   "source": [
    "The combined data contains 19 images of 128 x 128 pixels."
   ]
  },
  {
   "cell_type": "code",
   "execution_count": 13,
   "metadata": {},
   "outputs": [
    {
     "data": {
      "text/plain": [
       "{'Exposure (ms)': 1000,\n",
       " 'Manufacturer': 'Sirius Cybernetics Corporation',\n",
       " 'Model': 'image-o-matic',\n",
       " 'squid': 1}"
      ]
     },
     "execution_count": 13,
     "metadata": {},
     "output_type": "execute_result"
    }
   ],
   "source": [
    "# information about the dataset\n",
    "img_info = data.attrs(squid, 'IMG')\n",
    "img_info"
   ]
  },
  {
   "cell_type": "code",
   "execution_count": 14,
   "metadata": {},
   "outputs": [
    {
     "data": {
      "image/png": "[encoded data removed]",
      "text/plain": [
       "<Figure size 432x288 with 2 Axes>"
      ]
     },
     "metadata": {
      "needs_background": "light"
     },
     "output_type": "display_data"
    }
   ],
   "source": [
    "# average image\n",
    "av_img = np.mean(img, axis=2)\n",
    "cmap = 'jet'\n",
    "\n",
    "# plot\n",
    "fig, ax = plt.subplots()\n",
    "image = ax.imshow(av_img, cmap=cmap)\n",
    "cb = plt.colorbar(image)\n",
    "\n",
    "# output\n",
    "plt.show()"
   ]
  },
  {
   "cell_type": "markdown",
   "metadata": {
    "collapsed": true
   },
   "source": [
    "DataFrame data can be accessed using the class method `H5Data.df(squid, dataset)`.  As above, the arg `squid` can be a single value, or a list of values.  \n",
    "\n",
    "In this example, the datasets `AV_0` from all of the file's groups are concatented into a single DataFrame.  This is done by passing `data.squids` as the first argument."
   ]
  },
  {
   "cell_type": "code",
   "execution_count": 15,
   "metadata": {},
   "outputs": [
    {
     "name": "stderr",
     "output_type": "stream",
     "text": [
      "100%|██████████| 6/6 [00:00<00:00, 278.78it/s]\n"
     ]
    },
    {
     "data": {
      "text/html": [
       "<div>\n",
       "<style scoped>\n",
       "    .dataframe tbody tr th:only-of-type {\n",
       "        vertical-align: middle;\n",
       "    }\n",
       "\n",
       "    .dataframe tbody tr th {\n",
       "        vertical-align: top;\n",
       "    }\n",
       "\n",
       "    .dataframe thead th {\n",
       "        text-align: right;\n",
       "    }\n",
       "</style>\n",
       "<table border=\"1\" class=\"dataframe\">\n",
       "  <thead>\n",
       "    <tr style=\"text-align: right;\">\n",
       "      <th></th>\n",
       "      <th></th>\n",
       "      <th>AB</th>\n",
       "      <th>CD</th>\n",
       "      <th>EF</th>\n",
       "    </tr>\n",
       "    <tr>\n",
       "      <th>squid</th>\n",
       "      <th>measurement</th>\n",
       "      <th></th>\n",
       "      <th></th>\n",
       "      <th></th>\n",
       "    </tr>\n",
       "  </thead>\n",
       "  <tbody>\n",
       "    <tr>\n",
       "      <th rowspan=\"5\" valign=\"top\">1</th>\n",
       "      <th>0</th>\n",
       "      <td>0.983765</td>\n",
       "      <td>0.984008</td>\n",
       "      <td>0.004351</td>\n",
       "    </tr>\n",
       "    <tr>\n",
       "      <th>1</th>\n",
       "      <td>0.984163</td>\n",
       "      <td>0.984424</td>\n",
       "      <td>0.004799</td>\n",
       "    </tr>\n",
       "    <tr>\n",
       "      <th>2</th>\n",
       "      <td>0.983991</td>\n",
       "      <td>0.984383</td>\n",
       "      <td>0.004606</td>\n",
       "    </tr>\n",
       "    <tr>\n",
       "      <th>3</th>\n",
       "      <td>0.983983</td>\n",
       "      <td>0.984222</td>\n",
       "      <td>0.004568</td>\n",
       "    </tr>\n",
       "    <tr>\n",
       "      <th>4</th>\n",
       "      <td>0.983856</td>\n",
       "      <td>0.984048</td>\n",
       "      <td>0.004349</td>\n",
       "    </tr>\n",
       "  </tbody>\n",
       "</table>\n",
       "</div>"
      ],
      "text/plain": [
       "                         AB        CD        EF\n",
       "squid measurement                              \n",
       "1     0            0.983765  0.984008  0.004351\n",
       "      1            0.984163  0.984424  0.004799\n",
       "      2            0.983991  0.984383  0.004606\n",
       "      3            0.983983  0.984222  0.004568\n",
       "      4            0.983856  0.984048  0.004349"
      ]
     },
     "execution_count": 15,
     "metadata": {},
     "output_type": "execute_result"
    }
   ],
   "source": [
    "# load data from the hdf5 file,\n",
    "av = data.df(data.squids, 'AV_0', label=None, ignore_missing=False)\n",
    "av.head()"
   ]
  },
  {
   "cell_type": "markdown",
   "metadata": {},
   "source": [
    "Here, `df.AB` is the mean oscilloscope signal in the time window `A` $\\rightarrow$ `B`.  The window boundaries have been stored as dataset attributes."
   ]
  },
  {
   "cell_type": "code",
   "execution_count": 16,
   "metadata": {},
   "outputs": [
    {
     "data": {
      "text/plain": [
       "{'A': 2127, 'B': 893, 'C': 646, 'D': 709, 'E': 133, 'F': 437, 'squid': 1}"
      ]
     },
     "execution_count": 16,
     "metadata": {},
     "output_type": "execute_result"
    }
   ],
   "source": [
    "av_info = data.attrs(squid, 'AV_0')\n",
    "av_info"
   ]
  },
  {
   "cell_type": "code",
   "execution_count": 17,
   "metadata": {},
   "outputs": [
    {
     "data": {
      "image/png": "[encoded data removed]",
      "text/plain": [
       "<Figure size 432x288 with 3 Axes>"
      ]
     },
     "metadata": {
      "needs_background": "light"
     },
     "output_type": "display_data"
    }
   ],
   "source": [
    "# plot the DataFrame for squid=1\n",
    "av.loc[1, :].plot(subplots=True)\n",
    "\n",
    "# output\n",
    "plt.show()"
   ]
  },
  {
   "cell_type": "code",
   "execution_count": 18,
   "metadata": {},
   "outputs": [
    {
     "data": {
      "image/png": "[encoded data removed]",
      "text/plain": [
       "<Figure size 432x288 with 2 Axes>"
      ]
     },
     "metadata": {
      "needs_background": "light"
     },
     "output_type": "display_data"
    }
   ],
   "source": [
    "# plot the DataFrame for all squids\n",
    "av.reset_index()[['AB', 'CD']].plot(subplots=True)\n",
    "\n",
    "# output\n",
    "plt.show()"
   ]
  },
  {
   "cell_type": "markdown",
   "metadata": {},
   "source": [
    "Typically, you might want to load all of the data to process and analyse it all at once (as shown above).  \n",
    "\n",
    "However, it's also very easy to load data from a subset of the groups in the hdf5 file, e.g., to ignore a known bad measurement.  For example,"
   ]
  },
  {
   "cell_type": "code",
   "execution_count": 19,
   "metadata": {},
   "outputs": [
    {
     "name": "stderr",
     "output_type": "stream",
     "text": [
      "100%|██████████| 2/2 [00:00<00:00, 288.82it/s]\n"
     ]
    },
    {
     "data": {
      "text/html": [
       "<div>\n",
       "<style scoped>\n",
       "    .dataframe tbody tr th:only-of-type {\n",
       "        vertical-align: middle;\n",
       "    }\n",
       "\n",
       "    .dataframe tbody tr th {\n",
       "        vertical-align: top;\n",
       "    }\n",
       "\n",
       "    .dataframe thead th {\n",
       "        text-align: right;\n",
       "    }\n",
       "</style>\n",
       "<table border=\"1\" class=\"dataframe\">\n",
       "  <thead>\n",
       "    <tr style=\"text-align: right;\">\n",
       "      <th></th>\n",
       "      <th></th>\n",
       "      <th>AB</th>\n",
       "      <th>CD</th>\n",
       "      <th>EF</th>\n",
       "    </tr>\n",
       "    <tr>\n",
       "      <th>squid</th>\n",
       "      <th>measurement</th>\n",
       "      <th></th>\n",
       "      <th></th>\n",
       "      <th></th>\n",
       "    </tr>\n",
       "  </thead>\n",
       "  <tbody>\n",
       "    <tr>\n",
       "      <th rowspan=\"5\" valign=\"top\">3</th>\n",
       "      <th>0</th>\n",
       "      <td>0.984631</td>\n",
       "      <td>0.984778</td>\n",
       "      <td>0.004717</td>\n",
       "    </tr>\n",
       "    <tr>\n",
       "      <th>1</th>\n",
       "      <td>0.984521</td>\n",
       "      <td>0.984731</td>\n",
       "      <td>0.004427</td>\n",
       "    </tr>\n",
       "    <tr>\n",
       "      <th>2</th>\n",
       "      <td>0.984394</td>\n",
       "      <td>0.984799</td>\n",
       "      <td>0.004543</td>\n",
       "    </tr>\n",
       "    <tr>\n",
       "      <th>3</th>\n",
       "      <td>0.984883</td>\n",
       "      <td>0.985223</td>\n",
       "      <td>0.004971</td>\n",
       "    </tr>\n",
       "    <tr>\n",
       "      <th>4</th>\n",
       "      <td>0.985102</td>\n",
       "      <td>0.985331</td>\n",
       "      <td>0.005056</td>\n",
       "    </tr>\n",
       "  </tbody>\n",
       "</table>\n",
       "</div>"
      ],
      "text/plain": [
       "                         AB        CD        EF\n",
       "squid measurement                              \n",
       "3     0            0.984631  0.984778  0.004717\n",
       "      1            0.984521  0.984731  0.004427\n",
       "      2            0.984394  0.984799  0.004543\n",
       "      3            0.984883  0.985223  0.004971\n",
       "      4            0.985102  0.985331  0.005056"
      ]
     },
     "execution_count": 19,
     "metadata": {},
     "output_type": "execute_result"
    }
   ],
   "source": [
    "# explicit list of squid values [3, 6]\n",
    "explicit = data.df([3, 6], 'AV_0', label=None, ignore_missing=False)\n",
    "explicit.head()"
   ]
  },
  {
   "cell_type": "code",
   "execution_count": 20,
   "metadata": {},
   "outputs": [
    {
     "name": "stderr",
     "output_type": "stream",
     "text": [
      "100%|██████████| 3/3 [00:00<00:00, 341.40it/s]\n"
     ]
    },
    {
     "data": {
      "text/html": [
       "<div>\n",
       "<style scoped>\n",
       "    .dataframe tbody tr th:only-of-type {\n",
       "        vertical-align: middle;\n",
       "    }\n",
       "\n",
       "    .dataframe tbody tr th {\n",
       "        vertical-align: top;\n",
       "    }\n",
       "\n",
       "    .dataframe thead th {\n",
       "        text-align: right;\n",
       "    }\n",
       "</style>\n",
       "<table border=\"1\" class=\"dataframe\">\n",
       "  <thead>\n",
       "    <tr style=\"text-align: right;\">\n",
       "      <th></th>\n",
       "      <th></th>\n",
       "      <th>AB</th>\n",
       "      <th>CD</th>\n",
       "      <th>EF</th>\n",
       "    </tr>\n",
       "    <tr>\n",
       "      <th>squid</th>\n",
       "      <th>measurement</th>\n",
       "      <th></th>\n",
       "      <th></th>\n",
       "      <th></th>\n",
       "    </tr>\n",
       "  </thead>\n",
       "  <tbody>\n",
       "    <tr>\n",
       "      <th rowspan=\"5\" valign=\"top\">3</th>\n",
       "      <th>0</th>\n",
       "      <td>0.984631</td>\n",
       "      <td>0.984778</td>\n",
       "      <td>0.004717</td>\n",
       "    </tr>\n",
       "    <tr>\n",
       "      <th>1</th>\n",
       "      <td>0.984521</td>\n",
       "      <td>0.984731</td>\n",
       "      <td>0.004427</td>\n",
       "    </tr>\n",
       "    <tr>\n",
       "      <th>2</th>\n",
       "      <td>0.984394</td>\n",
       "      <td>0.984799</td>\n",
       "      <td>0.004543</td>\n",
       "    </tr>\n",
       "    <tr>\n",
       "      <th>3</th>\n",
       "      <td>0.984883</td>\n",
       "      <td>0.985223</td>\n",
       "      <td>0.004971</td>\n",
       "    </tr>\n",
       "    <tr>\n",
       "      <th>4</th>\n",
       "      <td>0.985102</td>\n",
       "      <td>0.985331</td>\n",
       "      <td>0.005056</td>\n",
       "    </tr>\n",
       "  </tbody>\n",
       "</table>\n",
       "</div>"
      ],
      "text/plain": [
       "                         AB        CD        EF\n",
       "squid measurement                              \n",
       "3     0            0.984631  0.984778  0.004717\n",
       "      1            0.984521  0.984731  0.004427\n",
       "      2            0.984394  0.984799  0.004543\n",
       "      3            0.984883  0.985223  0.004971\n",
       "      4            0.985102  0.985331  0.005056"
      ]
     },
     "execution_count": 20,
     "metadata": {},
     "output_type": "execute_result"
    }
   ],
   "source": [
    "# range of squid values\n",
    "func = lambda sq: 3 <= sq <= 5\n",
    "sub = data.df(list(filter(func, data.squids)), 'AV_0', label=None, ignore_missing=False)\n",
    "sub.head()"
   ]
  },
  {
   "cell_type": "code",
   "execution_count": 21,
   "metadata": {},
   "outputs": [
    {
     "name": "stderr",
     "output_type": "stream",
     "text": [
      "100%|██████████| 3/3 [00:00<00:00, 234.00it/s]\n"
     ]
    },
    {
     "data": {
      "text/html": [
       "<div>\n",
       "<style scoped>\n",
       "    .dataframe tbody tr th:only-of-type {\n",
       "        vertical-align: middle;\n",
       "    }\n",
       "\n",
       "    .dataframe tbody tr th {\n",
       "        vertical-align: top;\n",
       "    }\n",
       "\n",
       "    .dataframe thead th {\n",
       "        text-align: right;\n",
       "    }\n",
       "</style>\n",
       "<table border=\"1\" class=\"dataframe\">\n",
       "  <thead>\n",
       "    <tr style=\"text-align: right;\">\n",
       "      <th></th>\n",
       "      <th></th>\n",
       "      <th>AB</th>\n",
       "      <th>CD</th>\n",
       "      <th>EF</th>\n",
       "    </tr>\n",
       "    <tr>\n",
       "      <th>squid</th>\n",
       "      <th>measurement</th>\n",
       "      <th></th>\n",
       "      <th></th>\n",
       "      <th></th>\n",
       "    </tr>\n",
       "  </thead>\n",
       "  <tbody>\n",
       "    <tr>\n",
       "      <th rowspan=\"5\" valign=\"top\">2</th>\n",
       "      <th>0</th>\n",
       "      <td>0.984051</td>\n",
       "      <td>0.984382</td>\n",
       "      <td>0.004700</td>\n",
       "    </tr>\n",
       "    <tr>\n",
       "      <th>1</th>\n",
       "      <td>0.984060</td>\n",
       "      <td>0.984360</td>\n",
       "      <td>0.004719</td>\n",
       "    </tr>\n",
       "    <tr>\n",
       "      <th>2</th>\n",
       "      <td>0.983892</td>\n",
       "      <td>0.984213</td>\n",
       "      <td>0.004472</td>\n",
       "    </tr>\n",
       "    <tr>\n",
       "      <th>3</th>\n",
       "      <td>0.984043</td>\n",
       "      <td>0.984315</td>\n",
       "      <td>0.004631</td>\n",
       "    </tr>\n",
       "    <tr>\n",
       "      <th>4</th>\n",
       "      <td>0.984005</td>\n",
       "      <td>0.984331</td>\n",
       "      <td>0.004587</td>\n",
       "    </tr>\n",
       "  </tbody>\n",
       "</table>\n",
       "</div>"
      ],
      "text/plain": [
       "                         AB        CD        EF\n",
       "squid measurement                              \n",
       "2     0            0.984051  0.984382  0.004700\n",
       "      1            0.984060  0.984360  0.004719\n",
       "      2            0.983892  0.984213  0.004472\n",
       "      3            0.984043  0.984315  0.004631\n",
       "      4            0.984005  0.984331  0.004587"
      ]
     },
     "execution_count": 21,
     "metadata": {},
     "output_type": "execute_result"
    }
   ],
   "source": [
    "# even squid values\n",
    "func = lambda sq: sq % 2 == 0\n",
    "evens = data.df(list(filter(func, data.squids)), 'AV_0', label=None, ignore_missing=False)\n",
    "evens.head()"
   ]
  },
  {
   "cell_type": "code",
   "execution_count": null,
   "metadata": {},
   "outputs": [],
   "source": []
  }
 ],
 "metadata": {
  "kernelspec": {
   "display_name": "Python 3",
   "language": "python",
   "name": "python3"
  },
  "language_info": {
   "codemirror_mode": {
    "name": "ipython",
    "version": 3
   },
   "file_extension": ".py",
   "mimetype": "text/x-python",
   "name": "python",
   "nbconvert_exporter": "python",
   "pygments_lexer": "ipython3",
   "version": "3.7.0"
  }
 },
 "nbformat": 4,
 "nbformat_minor": 2
}
