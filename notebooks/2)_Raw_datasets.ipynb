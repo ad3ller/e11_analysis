{
 "cells": [
  {
   "cell_type": "code",
   "execution_count": null,
   "metadata": {
    "collapsed": true
   },
   "outputs": [],
   "source": [
    "%matplotlib inline"
   ]
  },
  {
   "cell_type": "markdown",
   "metadata": {},
   "source": [
    "# Raw datasets\n",
    "\n",
    "Accessing raw array data from an experiment."
   ]
  },
  {
   "cell_type": "code",
   "execution_count": null,
   "metadata": {
    "collapsed": true
   },
   "outputs": [],
   "source": [
    "import os \n",
    "import numpy as np\n",
    "import pandas as pd\n",
    "import matplotlib.pyplot as plt\n",
    "from e11 import H5Data"
   ]
  },
  {
   "cell_type": "markdown",
   "metadata": {},
   "source": [
    "## hdf5 file"
   ]
  },
  {
   "cell_type": "code",
   "execution_count": null,
   "metadata": {},
   "outputs": [],
   "source": [
    "import os \n",
    "fil = os.path.join(os.getcwd(), 'example_data', 'array_data.h5')\n",
    "# read hdf5 file\n",
    "h5 = H5Data(fil)\n",
    "h5.pprint()"
   ]
  },
  {
   "cell_type": "code",
   "execution_count": null,
   "metadata": {},
   "outputs": [],
   "source": [
    "# List the datasets that belong to the group `squid=1`.\n",
    "print(h5.datasets(1))"
   ]
  },
  {
   "cell_type": "markdown",
   "metadata": {},
   "source": [
    "## Array datasets\n",
    "\n",
    "### Oscilloscope data\n",
    "\n",
    "Oscilloscope traces are often stored as 2d arrays of repeating 1d measurements."
   ]
  },
  {
   "cell_type": "code",
   "execution_count": null,
   "metadata": {},
   "outputs": [],
   "source": [
    "# Load 2D array data from the hdf5 file,\n",
    "squid = 1\n",
    "dat, osc_info = h5.array(squid, dataset='OSC_0', ignore_missing=False, info=True)"
   ]
  },
  {
   "cell_type": "markdown",
   "metadata": {},
   "source": [
    "This data contains traces of 2501 data points and 25 repeats are stored along the first dimension.\n"
   ]
  },
  {
   "cell_type": "code",
   "execution_count": null,
   "metadata": {},
   "outputs": [],
   "source": [
    "print(np.shape(dat))"
   ]
  },
  {
   "cell_type": "code",
   "execution_count": null,
   "metadata": {},
   "outputs": [],
   "source": [
    "# information about the dataset.\n",
    "osc_info"
   ]
  },
  {
   "cell_type": "code",
   "execution_count": null,
   "metadata": {},
   "outputs": [],
   "source": [
    "# plot\n",
    "fig, ax = plt.subplots()\n",
    "\n",
    "# data\n",
    "dt = 1e6 * osc_info['dt']\n",
    "xvals = np.arange(0, len(dat[0])*dt, dt)\n",
    "yvals = np.mean(dat, axis=0)\n",
    "ax.plot(xvals, yvals)\n",
    "\n",
    "# format\n",
    "ax.set_xlabel('time ($\\mu$s)')\n",
    "ax.set_ylabel('signal (V)')\n",
    "\n",
    "# output\n",
    "plt.show()"
   ]
  },
  {
   "cell_type": "markdown",
   "metadata": {},
   "source": [
    "### Camera data\n",
    "\n",
    "Camera data are typically stored as 3d arrays of repeating 2d exposures.  Here, the repeats are stored along axis=2, in accordance with the convention of `HDFView`."
   ]
  },
  {
   "cell_type": "code",
   "execution_count": null,
   "metadata": {},
   "outputs": [],
   "source": [
    "# read image datasets\n",
    "squids = [1, 2]\n",
    "img, camera_info = h5.array(squids, dataset='IMG', axis=2, ignore_missing=True, info=True)"
   ]
  },
  {
   "cell_type": "markdown",
   "metadata": {},
   "source": [
    "The data contains 19 images of 128 x 128 pixels. Concatenation of multiple squids is performed using `axis=2`."
   ]
  },
  {
   "cell_type": "code",
   "execution_count": null,
   "metadata": {},
   "outputs": [],
   "source": [
    "print(np.shape(img))"
   ]
  },
  {
   "cell_type": "code",
   "execution_count": null,
   "metadata": {},
   "outputs": [],
   "source": [
    "# information about the dataset\n",
    "camera_info"
   ]
  },
  {
   "cell_type": "code",
   "execution_count": null,
   "metadata": {},
   "outputs": [],
   "source": [
    "# average image\n",
    "av_img = np.mean(img, axis=2)\n",
    "cmap = 'jet'\n",
    "\n",
    "# plot\n",
    "fig, ax = plt.subplots()\n",
    "image = ax.imshow(av_img, cmap=cmap)\n",
    "cb = plt.colorbar(image)\n",
    "\n",
    "# output\n",
    "plt.show()"
   ]
  },
  {
   "cell_type": "markdown",
   "metadata": {
    "collapsed": true
   },
   "source": [
    "## Dataframe datasets\n",
    "\n",
    "Another common data storage format is the dataframe-like structure, i.e., single values stored as rows in headed columns."
   ]
  },
  {
   "cell_type": "code",
   "execution_count": null,
   "metadata": {},
   "outputs": [],
   "source": [
    "# load data from the hdf5 file,\n",
    "df, df_info = h5.df(squids=h5.squids, dataset='AV_0', label=None, ignore_missing=False, info='all')\n",
    "df.head()"
   ]
  },
  {
   "cell_type": "markdown",
   "metadata": {},
   "source": [
    "In this example, AV_0 is the mean oscilloscope signal in a given window.  The window boundaries are stored as dataset attributes, here returned as `df_info`."
   ]
  },
  {
   "cell_type": "code",
   "execution_count": null,
   "metadata": {},
   "outputs": [],
   "source": [
    "df_info"
   ]
  },
  {
   "cell_type": "code",
   "execution_count": null,
   "metadata": {},
   "outputs": [],
   "source": [
    "# plot the DataFrame for squid=1\n",
    "df.loc[1, :].plot(subplots=True)\n",
    "\n",
    "# output\n",
    "plt.show()"
   ]
  },
  {
   "cell_type": "code",
   "execution_count": null,
   "metadata": {},
   "outputs": [],
   "source": [
    "# plot the DataFrame for all squids\n",
    "df.reset_index()[['AB', 'CD']].plot(subplots=True)\n",
    "\n",
    "# output\n",
    "plt.show()"
   ]
  },
  {
   "cell_type": "code",
   "execution_count": null,
   "metadata": {
    "collapsed": true
   },
   "outputs": [],
   "source": []
  }
 ],
 "metadata": {
  "kernelspec": {
   "display_name": "Python 3",
   "language": "python",
   "name": "python3"
  },
  "language_info": {
   "codemirror_mode": {
    "name": "ipython",
    "version": 3
   },
   "file_extension": ".py",
   "mimetype": "text/x-python",
   "name": "python",
   "nbconvert_exporter": "python",
   "pygments_lexer": "ipython3",
   "version": "3.6.2"
  }
 },
 "nbformat": 4,
 "nbformat_minor": 2
}
