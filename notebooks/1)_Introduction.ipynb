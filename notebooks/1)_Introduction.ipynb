{
 "cells": [
  {
   "cell_type": "code",
   "execution_count": 1,
   "metadata": {},
   "outputs": [],
   "source": [
    "%matplotlib inline"
   ]
  },
  {
   "cell_type": "code",
   "execution_count": 2,
   "metadata": {},
   "outputs": [],
   "source": [
    "import os\n",
    "import numpy as np\n",
    "import pandas as pd\n",
    "import matplotlib.pyplot as plt\n",
    "from e11 import run_file, H5Scan, H5Data\n",
    "from e11.tools import add_level"
   ]
  },
  {
   "cell_type": "markdown",
   "metadata": {},
   "source": [
    "\n",
    "# Introduction\n",
    "---\n",
    "\n",
    "`e11_analysis` is designed for processing experimental data stored in hdf5 files. \n",
    "\n",
    "This notebook introduces the core classes, `e11.H5Scan()` and `e11.H5Data()`, and provides an overview of their features. \n",
    "The two classes are written for two different structures of hdf5 files.  Both are instantiated using the path to the hdf5 file.\n",
    "\n",
    "If the data file is saved in a `[base]\\YYYY\\MM\\DD\\rid\\rid[ftype]` directory associated with a timestamp (e.g., `rid = YYYYMMDD_#`) then the path can be built using `e11.run_file()`."
   ]
  },
  {
   "cell_type": "code",
   "execution_count": 3,
   "metadata": {},
   "outputs": [
    {
     "name": "stdout",
     "output_type": "stream",
     "text": [
      "Q:\\E11_atmos\\data/2017/11/27/20171127_155753/20171127_155753_data.h5\n"
     ]
    }
   ],
   "source": [
    "from e11 import run_file\n",
    "fil = run_file(base=\"Q:\\E11_atmos\\data\", rid='20171127_155753', ftype=\"_data.h5\", check=False)\n",
    "print(fil)"
   ]
  },
  {
   "cell_type": "markdown",
   "metadata": {},
   "source": [
    "However, for the examples below we'll just use the example data."
   ]
  },
  {
   "cell_type": "markdown",
   "metadata": {},
   "source": [
    "\n",
    "# `e11.H5Scan()` \n",
    "---"
   ]
  },
  {
   "cell_type": "code",
   "execution_count": 4,
   "metadata": {},
   "outputs": [
    {
     "name": "stdout",
     "output_type": "stream",
     "text": [
      " For hdf5 files that contain only datasets (no groups), e.g.\n",
      "\n",
      "        root/\n",
      "        ├── scope_0\n",
      "        ├── scope_1\n",
      "        └── analysis\n",
      "    \n"
     ]
    }
   ],
   "source": [
    "print(H5Scan.__doc__)"
   ]
  },
  {
   "cell_type": "markdown",
   "metadata": {},
   "source": [
    "We'll start by instantiating the class for the example data and then read the root attributes."
   ]
  },
  {
   "cell_type": "code",
   "execution_count": 5,
   "metadata": {},
   "outputs": [
    {
     "data": {
      "text/plain": [
       "{'timestamp': '2018-02-05 16:11:48',\n",
       " 'run_ID': '20180205_161148',\n",
       " 'var': 'microwaves (GHz)',\n",
       " 'option': ''}"
      ]
     },
     "execution_count": 5,
     "metadata": {},
     "output_type": "execute_result"
    }
   ],
   "source": [
    "# hdf5 data file\n",
    "fil = os.path.join(os.getcwd(), 'example_data', 'microwave_scan.h5')\n",
    "scan = H5Scan(fil)\n",
    "# root attributes\n",
    "scan.attrs()"
   ]
  },
  {
   "cell_type": "code",
   "execution_count": 6,
   "metadata": {},
   "outputs": [
    {
     "name": "stdout",
     "output_type": "stream",
     "text": [
      "file: \t\t /home/adam/Git/e11_analysis/notebooks/example_data/microwave_scan.h5 \n",
      "size: \t\t 0.32 MB \n",
      "datasets: \t ['analysis', 'osc_0']\n"
     ]
    }
   ],
   "source": [
    "scan.pprint()"
   ]
  },
  {
   "cell_type": "markdown",
   "metadata": {},
   "source": [
    "Next, let's list the datasets in the file."
   ]
  },
  {
   "cell_type": "code",
   "execution_count": 7,
   "metadata": {},
   "outputs": [
    {
     "data": {
      "text/plain": [
       "['analysis', 'osc_0']"
      ]
     },
     "execution_count": 7,
     "metadata": {},
     "output_type": "execute_result"
    }
   ],
   "source": [
    "scan.datasets()"
   ]
  },
  {
   "cell_type": "markdown",
   "metadata": {},
   "source": [
    "And get the attributes associated with one of the datasets."
   ]
  },
  {
   "cell_type": "code",
   "execution_count": 8,
   "metadata": {},
   "outputs": [
    {
     "data": {
      "text/plain": [
       "{'A': 2.104375e-07,\n",
       " 'B': 2.775e-08,\n",
       " 'C': 5.018125e-07,\n",
       " 'D': 4.85625e-07,\n",
       " 'E': 5.480625e-07,\n",
       " 'F': 9.041875e-07,\n",
       " 'a0 ': (0, 0, 1),\n",
       " 'a1': (0, 1, 1),\n",
       " 'a2': (0, 2, 0),\n",
       " 'f': 'a1- a0'}"
      ]
     },
     "execution_count": 8,
     "metadata": {},
     "output_type": "execute_result"
    }
   ],
   "source": [
    "scan.attrs('analysis')"
   ]
  },
  {
   "cell_type": "markdown",
   "metadata": {},
   "source": [
    "The datasets can be accessed using `H5Scan.array(dataset)` for array data,"
   ]
  },
  {
   "cell_type": "code",
   "execution_count": 9,
   "metadata": {},
   "outputs": [
    {
     "data": {
      "text/plain": [
       "array([[ 0.00052656,  0.00054219,  0.00054219, ..., -0.00243437,\n",
       "        -0.00242656, -0.00244219],\n",
       "       [ 0.00046406,  0.00047188,  0.00046406, ..., -0.00259844,\n",
       "        -0.00259063, -0.00261406],\n",
       "       [ 0.00046406,  0.00045625,  0.00044063, ..., -0.00248125,\n",
       "        -0.00250469, -0.00249688],\n",
       "       ...,\n",
       "       [-0.00014531, -0.00014531, -0.00016094, ..., -0.00309844,\n",
       "        -0.00309063, -0.00308281],\n",
       "       [ 0.00047188,  0.00046406,  0.0004875 , ..., -0.00249688,\n",
       "        -0.0025125 , -0.0025125 ],\n",
       "       [ 0.00058125,  0.00056563,  0.00055781, ..., -0.00258281,\n",
       "        -0.00258281, -0.00256719]])"
      ]
     },
     "execution_count": 9,
     "metadata": {},
     "output_type": "execute_result"
    }
   ],
   "source": [
    "arr = scan.array('osc_0')\n",
    "arr"
   ]
  },
  {
   "cell_type": "markdown",
   "metadata": {},
   "source": [
    "Or `H5Scan.df(dataset)` for DataFrame data.\n"
   ]
  },
  {
   "cell_type": "code",
   "execution_count": 10,
   "metadata": {},
   "outputs": [
    {
     "data": {
      "text/html": [
       "<div>\n",
       "<style scoped>\n",
       "    .dataframe tbody tr th:only-of-type {\n",
       "        vertical-align: middle;\n",
       "    }\n",
       "\n",
       "    .dataframe tbody tr th {\n",
       "        vertical-align: top;\n",
       "    }\n",
       "\n",
       "    .dataframe thead th {\n",
       "        text-align: right;\n",
       "    }\n",
       "</style>\n",
       "<table border=\"1\" class=\"dataframe\">\n",
       "  <thead>\n",
       "    <tr style=\"text-align: right;\">\n",
       "      <th></th>\n",
       "      <th>var</th>\n",
       "      <th>w0</th>\n",
       "      <th>w1</th>\n",
       "      <th>a0</th>\n",
       "      <th>a1</th>\n",
       "      <th>a2</th>\n",
       "      <th>f</th>\n",
       "    </tr>\n",
       "    <tr>\n",
       "      <th>measurement</th>\n",
       "      <th></th>\n",
       "      <th></th>\n",
       "      <th></th>\n",
       "      <th></th>\n",
       "      <th></th>\n",
       "      <th></th>\n",
       "      <th></th>\n",
       "    </tr>\n",
       "  </thead>\n",
       "  <tbody>\n",
       "    <tr>\n",
       "      <th>0</th>\n",
       "      <td>32.0500</td>\n",
       "      <td>777.950119</td>\n",
       "      <td>786.992730</td>\n",
       "      <td>0.000499</td>\n",
       "      <td>-0.005882</td>\n",
       "      <td>-1.118270</td>\n",
       "      <td>-0.006381</td>\n",
       "    </tr>\n",
       "    <tr>\n",
       "      <th>1</th>\n",
       "      <td>32.0505</td>\n",
       "      <td>777.950119</td>\n",
       "      <td>786.992729</td>\n",
       "      <td>0.000458</td>\n",
       "      <td>-0.006048</td>\n",
       "      <td>-1.122989</td>\n",
       "      <td>-0.006506</td>\n",
       "    </tr>\n",
       "    <tr>\n",
       "      <th>2</th>\n",
       "      <td>32.0510</td>\n",
       "      <td>777.950120</td>\n",
       "      <td>786.992729</td>\n",
       "      <td>0.000443</td>\n",
       "      <td>-0.005974</td>\n",
       "      <td>-1.138911</td>\n",
       "      <td>-0.006417</td>\n",
       "    </tr>\n",
       "    <tr>\n",
       "      <th>3</th>\n",
       "      <td>32.0515</td>\n",
       "      <td>777.950119</td>\n",
       "      <td>786.992729</td>\n",
       "      <td>0.000860</td>\n",
       "      <td>-0.005568</td>\n",
       "      <td>-0.995466</td>\n",
       "      <td>-0.006428</td>\n",
       "    </tr>\n",
       "    <tr>\n",
       "      <th>4</th>\n",
       "      <td>32.0520</td>\n",
       "      <td>777.950119</td>\n",
       "      <td>786.992729</td>\n",
       "      <td>0.000522</td>\n",
       "      <td>-0.005977</td>\n",
       "      <td>-1.095825</td>\n",
       "      <td>-0.006499</td>\n",
       "    </tr>\n",
       "  </tbody>\n",
       "</table>\n",
       "</div>"
      ],
      "text/plain": [
       "                 var          w0          w1        a0        a1        a2  \\\n",
       "measurement                                                                  \n",
       "0            32.0500  777.950119  786.992730  0.000499 -0.005882 -1.118270   \n",
       "1            32.0505  777.950119  786.992729  0.000458 -0.006048 -1.122989   \n",
       "2            32.0510  777.950120  786.992729  0.000443 -0.005974 -1.138911   \n",
       "3            32.0515  777.950119  786.992729  0.000860 -0.005568 -0.995466   \n",
       "4            32.0520  777.950119  786.992729  0.000522 -0.005977 -1.095825   \n",
       "\n",
       "                    f  \n",
       "measurement            \n",
       "0           -0.006381  \n",
       "1           -0.006506  \n",
       "2           -0.006417  \n",
       "3           -0.006428  \n",
       "4           -0.006499  "
      ]
     },
     "execution_count": 10,
     "metadata": {},
     "output_type": "execute_result"
    }
   ],
   "source": [
    "df = scan.df('analysis')\n",
    "df.head()"
   ]
  },
  {
   "cell_type": "markdown",
   "metadata": {},
   "source": [
    "# `e11.H5Data()`\n",
    "---"
   ]
  },
  {
   "cell_type": "code",
   "execution_count": 11,
   "metadata": {},
   "outputs": [
    {
     "name": "stdout",
     "output_type": "stream",
     "text": [
      " For hdf5 files that contain datasets within a single level of numbered groups, e.g.\n",
      "\n",
      "        root/\n",
      "        ├── 0/\n",
      "        │   ├── image\n",
      "        │   ├── scope_0\n",
      "        │   ├── scope_1\n",
      "        │   └── analysis\n",
      "        ├── 1/\n",
      "        │   ├── image\n",
      "        │   ├── scope_0\n",
      "        │         ⋮\n",
      "        └──\n",
      "    \n"
     ]
    }
   ],
   "source": [
    "print(H5Data.__doc__)"
   ]
  },
  {
   "cell_type": "markdown",
   "metadata": {},
   "source": [
    "Let's create an instance of `H5Data` using example data and then read the root attributes."
   ]
  },
  {
   "cell_type": "code",
   "execution_count": 12,
   "metadata": {},
   "outputs": [
    {
     "data": {
      "text/plain": [
       "{'RID': '20171201_163143',\n",
       " 'SEQ File': 'Q:\\\\E11_atmos\\\\sequences\\\\testing\\\\wavelength_tri.jsq',\n",
       " 'Author': 'AD',\n",
       " 'Description': 'Linear up-down scan of DL pro 711 nm'}"
      ]
     },
     "execution_count": 12,
     "metadata": {},
     "output_type": "execute_result"
    }
   ],
   "source": [
    "# hdf5 data file\n",
    "fil = os.path.join(os.getcwd(), 'example_data', 'laser_data.h5')\n",
    "data = H5Data(fil)\n",
    "# root attributes\n",
    "data.attrs()"
   ]
  },
  {
   "cell_type": "code",
   "execution_count": 13,
   "metadata": {},
   "outputs": [
    {
     "name": "stdout",
     "output_type": "stream",
     "text": [
      "file: \t\t /home/adam/Git/e11_analysis/notebooks/example_data/laser_data.h5 \n",
      "size: \t\t 0.35 MB \n",
      "num groups: \t 64 \n",
      "author: \t AD \n",
      "description: \t Linear up-down scan of DL pro 711 nm\n"
     ]
    }
   ],
   "source": [
    "# pretty print run info\n",
    "data.pprint()"
   ]
  },
  {
   "cell_type": "markdown",
   "metadata": {},
   "source": [
    "The datasets in the hdf5 file are distributed within numbered groups, each identified by the `squid`."
   ]
  },
  {
   "cell_type": "code",
   "execution_count": 14,
   "metadata": {},
   "outputs": [
    {
     "data": {
      "text/plain": [
       "array([ 1,  2,  3,  4,  5,  6,  7,  8,  9, 10, 11, 12, 13, 14, 15, 16, 17,\n",
       "       18, 19, 20, 21, 22, 23, 24, 25, 26, 27, 28, 29, 30, 31, 32, 33, 34,\n",
       "       35, 36, 37, 38, 39, 40, 41, 42, 43, 44, 45, 46, 47, 48, 49, 50, 51,\n",
       "       52, 53, 54, 55, 56, 57, 58, 59, 60, 61, 62, 63, 64])"
      ]
     },
     "execution_count": 14,
     "metadata": {},
     "output_type": "execute_result"
    }
   ],
   "source": [
    "data.squids"
   ]
  },
  {
   "cell_type": "markdown",
   "metadata": {},
   "source": [
    "The attributes of a particular group can be accesed using the  `H5Data.attrs(squid)` method."
   ]
  },
  {
   "cell_type": "code",
   "execution_count": 15,
   "metadata": {},
   "outputs": [
    {
     "data": {
      "text/plain": [
       "{'VAR:WL?1': 711.4608,\n",
       " 'DATETIME': '2017-12-01 16:31:44',\n",
       " 'LOOP': 1,\n",
       " 'SQUID': 1,\n",
       " 'OVERRIDE': 0,\n",
       " 'ERROR': 0,\n",
       " 'START': 3594990704.6397753,\n",
       " 'END': 3594990714.6577516,\n",
       " 'ACQUIRE': 10.0179762840271,\n",
       " 'REC:WLM?1': 632.9910617145752,\n",
       " 'REC:WLM?2': 711.4608014137556}"
      ]
     },
     "execution_count": 15,
     "metadata": {},
     "output_type": "execute_result"
    }
   ],
   "source": [
    "squid = 1\n",
    "data.attrs(squid)"
   ]
  },
  {
   "cell_type": "markdown",
   "metadata": {},
   "source": [
    "The attributes for all of the groups are collected together into a `pandas.DataFrame()` in the class property `H5Data.log`."
   ]
  },
  {
   "cell_type": "code",
   "execution_count": 16,
   "metadata": {},
   "outputs": [
    {
     "name": "stderr",
     "output_type": "stream",
     "text": [
      "100%|██████████| 64/64 [00:00<00:00, 1132.29it/s]\n"
     ]
    },
    {
     "data": {
      "text/html": [
       "<div>\n",
       "<style scoped>\n",
       "    .dataframe tbody tr th:only-of-type {\n",
       "        vertical-align: middle;\n",
       "    }\n",
       "\n",
       "    .dataframe tbody tr th {\n",
       "        vertical-align: top;\n",
       "    }\n",
       "\n",
       "    .dataframe thead th {\n",
       "        text-align: right;\n",
       "    }\n",
       "</style>\n",
       "<table border=\"1\" class=\"dataframe\">\n",
       "  <thead>\n",
       "    <tr style=\"text-align: right;\">\n",
       "      <th></th>\n",
       "      <th>ACQUIRE</th>\n",
       "      <th>DATETIME</th>\n",
       "      <th>END</th>\n",
       "      <th>ERROR</th>\n",
       "      <th>LOOP</th>\n",
       "      <th>OVERRIDE</th>\n",
       "      <th>REC:WLM?1</th>\n",
       "      <th>REC:WLM?2</th>\n",
       "      <th>START</th>\n",
       "      <th>VAR:WL?1</th>\n",
       "      <th>ELAPSED</th>\n",
       "    </tr>\n",
       "    <tr>\n",
       "      <th>squid</th>\n",
       "      <th></th>\n",
       "      <th></th>\n",
       "      <th></th>\n",
       "      <th></th>\n",
       "      <th></th>\n",
       "      <th></th>\n",
       "      <th></th>\n",
       "      <th></th>\n",
       "      <th></th>\n",
       "      <th></th>\n",
       "      <th></th>\n",
       "    </tr>\n",
       "  </thead>\n",
       "  <tbody>\n",
       "    <tr>\n",
       "      <th>1</th>\n",
       "      <td>10.017976</td>\n",
       "      <td>2017-12-01 16:31:44</td>\n",
       "      <td>3.594991e+09</td>\n",
       "      <td>0</td>\n",
       "      <td>1</td>\n",
       "      <td>0</td>\n",
       "      <td>632.991062</td>\n",
       "      <td>711.460801</td>\n",
       "      <td>3.594991e+09</td>\n",
       "      <td>711.4608</td>\n",
       "      <td>00:00:00</td>\n",
       "    </tr>\n",
       "    <tr>\n",
       "      <th>2</th>\n",
       "      <td>10.012825</td>\n",
       "      <td>2017-12-01 16:31:57</td>\n",
       "      <td>3.594991e+09</td>\n",
       "      <td>0</td>\n",
       "      <td>1</td>\n",
       "      <td>0</td>\n",
       "      <td>632.991062</td>\n",
       "      <td>711.460900</td>\n",
       "      <td>3.594991e+09</td>\n",
       "      <td>711.4609</td>\n",
       "      <td>00:00:13</td>\n",
       "    </tr>\n",
       "    <tr>\n",
       "      <th>3</th>\n",
       "      <td>10.015001</td>\n",
       "      <td>2017-12-01 16:32:10</td>\n",
       "      <td>3.594991e+09</td>\n",
       "      <td>0</td>\n",
       "      <td>1</td>\n",
       "      <td>0</td>\n",
       "      <td>632.991062</td>\n",
       "      <td>711.461001</td>\n",
       "      <td>3.594991e+09</td>\n",
       "      <td>711.4610</td>\n",
       "      <td>00:00:26</td>\n",
       "    </tr>\n",
       "    <tr>\n",
       "      <th>4</th>\n",
       "      <td>10.012057</td>\n",
       "      <td>2017-12-01 16:32:23</td>\n",
       "      <td>3.594991e+09</td>\n",
       "      <td>0</td>\n",
       "      <td>1</td>\n",
       "      <td>0</td>\n",
       "      <td>632.991062</td>\n",
       "      <td>711.461101</td>\n",
       "      <td>3.594991e+09</td>\n",
       "      <td>711.4611</td>\n",
       "      <td>00:00:39</td>\n",
       "    </tr>\n",
       "    <tr>\n",
       "      <th>5</th>\n",
       "      <td>10.021376</td>\n",
       "      <td>2017-12-01 16:32:37</td>\n",
       "      <td>3.594991e+09</td>\n",
       "      <td>0</td>\n",
       "      <td>1</td>\n",
       "      <td>0</td>\n",
       "      <td>632.991062</td>\n",
       "      <td>711.461201</td>\n",
       "      <td>3.594991e+09</td>\n",
       "      <td>711.4612</td>\n",
       "      <td>00:00:53</td>\n",
       "    </tr>\n",
       "  </tbody>\n",
       "</table>\n",
       "</div>"
      ],
      "text/plain": [
       "         ACQUIRE            DATETIME           END  ERROR  LOOP  OVERRIDE  \\\n",
       "squid                                                                       \n",
       "1      10.017976 2017-12-01 16:31:44  3.594991e+09      0     1         0   \n",
       "2      10.012825 2017-12-01 16:31:57  3.594991e+09      0     1         0   \n",
       "3      10.015001 2017-12-01 16:32:10  3.594991e+09      0     1         0   \n",
       "4      10.012057 2017-12-01 16:32:23  3.594991e+09      0     1         0   \n",
       "5      10.021376 2017-12-01 16:32:37  3.594991e+09      0     1         0   \n",
       "\n",
       "        REC:WLM?1   REC:WLM?2         START  VAR:WL?1  ELAPSED  \n",
       "squid                                                           \n",
       "1      632.991062  711.460801  3.594991e+09  711.4608 00:00:00  \n",
       "2      632.991062  711.460900  3.594991e+09  711.4609 00:00:13  \n",
       "3      632.991062  711.461001  3.594991e+09  711.4610 00:00:26  \n",
       "4      632.991062  711.461101  3.594991e+09  711.4611 00:00:39  \n",
       "5      632.991062  711.461201  3.594991e+09  711.4612 00:00:53  "
      ]
     },
     "execution_count": 16,
     "metadata": {},
     "output_type": "execute_result"
    }
   ],
   "source": [
    "# log output\n",
    "data.log.head()"
   ]
  },
  {
   "cell_type": "markdown",
   "metadata": {},
   "source": [
    "For very large files it can take several minuets to assemble `H5Data.log`. The log can be cached to a pickle file to speed up future acess (see `6)_Caching.ipynb`), or refreshed using the method `e11.H5Data.update_log()`."
   ]
  },
  {
   "cell_type": "code",
   "execution_count": 17,
   "metadata": {},
   "outputs": [
    {
     "name": "stderr",
     "output_type": "stream",
     "text": [
      "100%|██████████| 64/64 [00:00<00:00, 932.86it/s]"
     ]
    },
    {
     "name": "stdout",
     "output_type": "stream",
     "text": [
      "CPU times: user 73.6 ms, sys: 7.76 ms, total: 81.3 ms\n",
      "Wall time: 80.5 ms\n"
     ]
    },
    {
     "name": "stderr",
     "output_type": "stream",
     "text": [
      "\n"
     ]
    }
   ],
   "source": [
    "# In our case, rebuilding the log doesn't take very long.\n",
    "%time data.update_log()"
   ]
  },
  {
   "cell_type": "markdown",
   "metadata": {},
   "source": [
    "The `H5Data.log` DataFrame is indexed using the `squid` value.  Each row contains the same information as `H5Data.attrs(squid)`."
   ]
  },
  {
   "cell_type": "code",
   "execution_count": 18,
   "metadata": {},
   "outputs": [
    {
     "data": {
      "text/plain": [
       "ACQUIRE                   10.018\n",
       "DATETIME     2017-12-01 16:31:44\n",
       "END                  3.59499e+09\n",
       "ERROR                          0\n",
       "LOOP                           1\n",
       "OVERRIDE                       0\n",
       "REC:WLM?1                632.991\n",
       "REC:WLM?2                711.461\n",
       "START                3.59499e+09\n",
       "VAR:WL?1                 711.461\n",
       "ELAPSED          0 days 00:00:00\n",
       "Name: 1, dtype: object"
      ]
     },
     "execution_count": 18,
     "metadata": {},
     "output_type": "execute_result"
    }
   ],
   "source": [
    "squid = 1\n",
    "data.log.loc[squid]"
   ]
  },
  {
   "cell_type": "markdown",
   "metadata": {},
   "source": [
    "Experimental settings are stored in the log as `VARS`; measurements are stored as `RECS`.\n",
    "\n",
    "In the example data file, these are values sent to a laser controller (`VAR:WL?1`) and measured laser wavelengths (`REC:WLM?1/2`, channel one/ two)."
   ]
  },
  {
   "cell_type": "code",
   "execution_count": 19,
   "metadata": {},
   "outputs": [
    {
     "data": {
      "text/html": [
       "<div>\n",
       "<style scoped>\n",
       "    .dataframe tbody tr th:only-of-type {\n",
       "        vertical-align: middle;\n",
       "    }\n",
       "\n",
       "    .dataframe tbody tr th {\n",
       "        vertical-align: top;\n",
       "    }\n",
       "\n",
       "    .dataframe thead tr th {\n",
       "        text-align: left;\n",
       "    }\n",
       "\n",
       "    .dataframe thead tr:last-of-type th {\n",
       "        text-align: right;\n",
       "    }\n",
       "</style>\n",
       "<table border=\"1\" class=\"dataframe\">\n",
       "  <thead>\n",
       "    <tr>\n",
       "      <th></th>\n",
       "      <th>VAR</th>\n",
       "      <th colspan=\"2\" halign=\"left\">REC</th>\n",
       "    </tr>\n",
       "    <tr>\n",
       "      <th></th>\n",
       "      <th>WL?1</th>\n",
       "      <th>WLM?1</th>\n",
       "      <th>WLM?2</th>\n",
       "    </tr>\n",
       "    <tr>\n",
       "      <th>squid</th>\n",
       "      <th></th>\n",
       "      <th></th>\n",
       "      <th></th>\n",
       "    </tr>\n",
       "  </thead>\n",
       "  <tbody>\n",
       "    <tr>\n",
       "      <th>1</th>\n",
       "      <td>711.4608</td>\n",
       "      <td>632.991062</td>\n",
       "      <td>711.460801</td>\n",
       "    </tr>\n",
       "    <tr>\n",
       "      <th>2</th>\n",
       "      <td>711.4609</td>\n",
       "      <td>632.991062</td>\n",
       "      <td>711.460900</td>\n",
       "    </tr>\n",
       "    <tr>\n",
       "      <th>3</th>\n",
       "      <td>711.4610</td>\n",
       "      <td>632.991062</td>\n",
       "      <td>711.461001</td>\n",
       "    </tr>\n",
       "    <tr>\n",
       "      <th>4</th>\n",
       "      <td>711.4611</td>\n",
       "      <td>632.991062</td>\n",
       "      <td>711.461101</td>\n",
       "    </tr>\n",
       "    <tr>\n",
       "      <th>5</th>\n",
       "      <td>711.4612</td>\n",
       "      <td>632.991062</td>\n",
       "      <td>711.461201</td>\n",
       "    </tr>\n",
       "  </tbody>\n",
       "</table>\n",
       "</div>"
      ],
      "text/plain": [
       "            VAR         REC            \n",
       "           WL?1       WLM?1       WLM?2\n",
       "squid                                  \n",
       "1      711.4608  632.991062  711.460801\n",
       "2      711.4609  632.991062  711.460900\n",
       "3      711.4610  632.991062  711.461001\n",
       "4      711.4611  632.991062  711.461101\n",
       "5      711.4612  632.991062  711.461201"
      ]
     },
     "execution_count": 19,
     "metadata": {},
     "output_type": "execute_result"
    }
   ],
   "source": [
    "# combine VAR and REC data\n",
    "df = add_level(data.var, 'VAR').join(add_level(data.rec, 'REC'))\n",
    "df.head()"
   ]
  },
  {
   "cell_type": "code",
   "execution_count": 20,
   "metadata": {},
   "outputs": [
    {
     "data": {
      "image/png": "[encoded data removed]",
      "text/plain": [
       "<Figure size 432x288 with 1 Axes>"
      ]
     },
     "metadata": {
      "needs_background": "light"
     },
     "output_type": "display_data"
    }
   ],
   "source": [
    "# plot\n",
    "fig, ax = plt.subplots()\n",
    "\n",
    "# data\n",
    "xvals = df[('VAR', 'WL?1')]    # laser wavelength PID reference\n",
    "yvals = df[('REC', 'WLM?2')]   # measured wavelength\n",
    "ax.scatter(xvals, yvals, marker='.')\n",
    "\n",
    "# format\n",
    "ax.set_xlim([xvals.min(), xvals.max()])\n",
    "ax.set_ylim([yvals.min(), yvals.max()])\n",
    "ax.set_xlabel('set wavelength (nm)')\n",
    "ax.set_ylabel('measured wavelength (nm)')\n",
    "\n",
    "# output\n",
    "plt.show()"
   ]
  },
  {
   "cell_type": "markdown",
   "metadata": {},
   "source": [
    "We can list the datasets in a particular group with `H5Data.datasets(squid)`."
   ]
  },
  {
   "cell_type": "code",
   "execution_count": 21,
   "metadata": {},
   "outputs": [
    {
     "data": {
      "text/plain": [
       "['WLM']"
      ]
     },
     "execution_count": 21,
     "metadata": {},
     "output_type": "execute_result"
    }
   ],
   "source": [
    "squid = 1\n",
    "data.datasets(squid)"
   ]
  },
  {
   "cell_type": "markdown",
   "metadata": {},
   "source": [
    "And to read the attributes of a particular dataset we use `H5Data.attrs(squid, dataset)`,"
   ]
  },
  {
   "cell_type": "code",
   "execution_count": 22,
   "metadata": {
    "scrolled": true
   },
   "outputs": [
    {
     "data": {
      "text/plain": [
       "{'type': 7,\n",
       " 'version': 1767,\n",
       " 'active channels': 'ch1,ch2',\n",
       " 'refresh (ms)': 500,\n",
       " 'squid': 1}"
      ]
     },
     "execution_count": 22,
     "metadata": {},
     "output_type": "execute_result"
    }
   ],
   "source": [
    "data.attrs(squid, 'WLM')"
   ]
  },
  {
   "cell_type": "markdown",
   "metadata": {
    "collapsed": true
   },
   "source": [
    "The raw data can be accessed using `H5Data.array(squid, dataset)` for array data, or `H5Data.df(squid, dataset)` for DataFrame data.\n",
    "\n",
    "See `2)_Raw_datasets.ipynb` for more examples."
   ]
  },
  {
   "cell_type": "code",
   "execution_count": null,
   "metadata": {},
   "outputs": [],
   "source": []
  }
 ],
 "metadata": {
  "kernelspec": {
   "display_name": "Python 3",
   "language": "python",
   "name": "python3"
  },
  "language_info": {
   "codemirror_mode": {
    "name": "ipython",
    "version": 3
   },
   "file_extension": ".py",
   "mimetype": "text/x-python",
   "name": "python",
   "nbconvert_exporter": "python",
   "pygments_lexer": "ipython3",
   "version": "3.7.0"
  }
 },
 "nbformat": 4,
 "nbformat_minor": 2
}
