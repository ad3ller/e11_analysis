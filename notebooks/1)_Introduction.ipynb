{
 "cells": [
  {
   "cell_type": "code",
   "execution_count": 1,
   "metadata": {
    "collapsed": true
   },
   "outputs": [],
   "source": [
    "%matplotlib inline"
   ]
  },
  {
   "cell_type": "code",
   "execution_count": 2,
   "metadata": {
    "collapsed": true
   },
   "outputs": [],
   "source": [
    "import numpy as np\n",
    "import pandas as pd\n",
    "import matplotlib.pyplot as plt"
   ]
  },
  {
   "cell_type": "markdown",
   "metadata": {},
   "source": [
    "# The hdf5 data file\n",
    "\n",
    "This notebook provides examples for accessing data within an oskar hdf5 datafile."
   ]
  },
  {
   "cell_type": "code",
   "execution_count": 3,
   "metadata": {
    "collapsed": true
   },
   "outputs": [],
   "source": [
    "from e11 import run_file, H5Data, add_column_index"
   ]
  },
  {
   "cell_type": "markdown",
   "metadata": {},
   "source": [
    "`run_file()`  \n",
    "    - A function that generates the path to the data file using the run ID and base directory.\n",
    "\n",
    "`H5Data`  \n",
    "    - A class that provides a convienient interface for an oskar hdf5 data file."
   ]
  },
  {
   "cell_type": "markdown",
   "metadata": {},
   "source": [
    "Normally, the datafiles files would be saved in a timestamp structure and each can be found using the `rid`.  The path to the file can then be built using `run_file`.\n",
    "\n",
    "``` python\n",
    ">>> fil = run_file(base=\"Q:\\E11_atmos\\data\", rid='20171127_155753')\n",
    "```"
   ]
  },
  {
   "cell_type": "markdown",
   "metadata": {},
   "source": [
    "But for this example we'll use the example data."
   ]
  },
  {
   "cell_type": "code",
   "execution_count": 4,
   "metadata": {},
   "outputs": [
    {
     "name": "stderr",
     "output_type": "stream",
     "text": [
      "100%|██████████| 64/64 [00:00<00:00, 509.13it/s]"
     ]
    },
    {
     "name": "stdout",
     "output_type": "stream",
     "text": [
      "file: \t\t /home/adam/Git/e11_analysis/notebooks/example_data/laser_data.h5 \n",
      "size: \t\t 2.22 MB \n",
      "groups: \t 64 \n",
      "author: \t AD \n",
      "description: \t Linear up-down scan of DL pro 711 nm\n"
     ]
    },
    {
     "name": "stderr",
     "output_type": "stream",
     "text": [
      "\n"
     ]
    }
   ],
   "source": [
    "import os \n",
    "fil = os.path.join(os.getcwd(), 'example_data', 'laser_data.h5')\n",
    "# read hdf5 file\n",
    "h5 = H5Data(fil)\n",
    "h5.pprint()"
   ]
  },
  {
   "cell_type": "markdown",
   "metadata": {},
   "source": [
    "Here, `h5` is an instance of the H5Data class.  Creating this instance generates a `pandas.DataFrame` summary of the group attributes called `h5.log`. \n",
    "\n",
    "It's a good idea to specify an `out_dire` when creating the instance,\n",
    "\n",
    "``` python\n",
    ">>> h5 = H5Data(fil, out_dire='analysis')\n",
    "```\n",
    "\n",
    "If `out_dire` is declared then the log with be cached there as a pickle file.  By default, when loading an instance H5Data checks to see if this file already exists.  The cache allows you to avoid having to rebuild the log in future, which can take a long time for large files accessed over a slow network.\n",
    "\n",
    "Another use of `out_dire` is for quickly building useful paths, e.g., for saving plots to a sub directory.\n",
    "\n",
    "``` python\n",
    ">>> out_fil = h5.sub_dire('plots', fname='signal.png')\n",
    ">>> plt.savefig(out_fil, bbox_inches='tight', dpi=200)\n",
    "```"
   ]
  },
  {
   "cell_type": "code",
   "execution_count": 5,
   "metadata": {},
   "outputs": [
    {
     "name": "stderr",
     "output_type": "stream",
     "text": [
      "100%|██████████| 64/64 [00:00<00:00, 494.06it/s]\n"
     ]
    },
    {
     "name": "stdout",
     "output_type": "stream",
     "text": [
      "CPU times: user 176 ms, sys: 12 ms, total: 188 ms\n",
      "Wall time: 185 ms\n"
     ]
    }
   ],
   "source": [
    "# In our case building the log doesn't take very long.\n",
    "%time h5.update()"
   ]
  },
  {
   "cell_type": "code",
   "execution_count": 6,
   "metadata": {},
   "outputs": [
    {
     "data": {
      "text/html": [
       "<div>\n",
       "<style>\n",
       "    .dataframe thead tr:only-child th {\n",
       "        text-align: right;\n",
       "    }\n",
       "\n",
       "    .dataframe thead th {\n",
       "        text-align: left;\n",
       "    }\n",
       "\n",
       "    .dataframe tbody tr th {\n",
       "        vertical-align: top;\n",
       "    }\n",
       "</style>\n",
       "<table border=\"1\" class=\"dataframe\">\n",
       "  <thead>\n",
       "    <tr style=\"text-align: right;\">\n",
       "      <th></th>\n",
       "      <th>ACQUIRE</th>\n",
       "      <th>DATETIME</th>\n",
       "      <th>END</th>\n",
       "      <th>ERROR</th>\n",
       "      <th>LOOP</th>\n",
       "      <th>OVERRIDE</th>\n",
       "      <th>REC:WLM?1</th>\n",
       "      <th>REC:WLM?2</th>\n",
       "      <th>START</th>\n",
       "      <th>VAR:WL?1</th>\n",
       "      <th>ELAPSED</th>\n",
       "    </tr>\n",
       "    <tr>\n",
       "      <th>squid</th>\n",
       "      <th></th>\n",
       "      <th></th>\n",
       "      <th></th>\n",
       "      <th></th>\n",
       "      <th></th>\n",
       "      <th></th>\n",
       "      <th></th>\n",
       "      <th></th>\n",
       "      <th></th>\n",
       "      <th></th>\n",
       "      <th></th>\n",
       "    </tr>\n",
       "  </thead>\n",
       "  <tbody>\n",
       "    <tr>\n",
       "      <th>1</th>\n",
       "      <td>10.017976</td>\n",
       "      <td>2017-12-01 16:31:44</td>\n",
       "      <td>3.594991e+09</td>\n",
       "      <td>0</td>\n",
       "      <td>1</td>\n",
       "      <td>0</td>\n",
       "      <td>632.991062</td>\n",
       "      <td>711.460801</td>\n",
       "      <td>3.594991e+09</td>\n",
       "      <td>711.4608</td>\n",
       "      <td>00:00:00</td>\n",
       "    </tr>\n",
       "    <tr>\n",
       "      <th>2</th>\n",
       "      <td>10.012825</td>\n",
       "      <td>2017-12-01 16:31:57</td>\n",
       "      <td>3.594991e+09</td>\n",
       "      <td>0</td>\n",
       "      <td>1</td>\n",
       "      <td>0</td>\n",
       "      <td>632.991062</td>\n",
       "      <td>711.460900</td>\n",
       "      <td>3.594991e+09</td>\n",
       "      <td>711.4609</td>\n",
       "      <td>00:00:13</td>\n",
       "    </tr>\n",
       "    <tr>\n",
       "      <th>3</th>\n",
       "      <td>10.015001</td>\n",
       "      <td>2017-12-01 16:32:10</td>\n",
       "      <td>3.594991e+09</td>\n",
       "      <td>0</td>\n",
       "      <td>1</td>\n",
       "      <td>0</td>\n",
       "      <td>632.991062</td>\n",
       "      <td>711.461001</td>\n",
       "      <td>3.594991e+09</td>\n",
       "      <td>711.4610</td>\n",
       "      <td>00:00:26</td>\n",
       "    </tr>\n",
       "    <tr>\n",
       "      <th>4</th>\n",
       "      <td>10.012057</td>\n",
       "      <td>2017-12-01 16:32:23</td>\n",
       "      <td>3.594991e+09</td>\n",
       "      <td>0</td>\n",
       "      <td>1</td>\n",
       "      <td>0</td>\n",
       "      <td>632.991062</td>\n",
       "      <td>711.461101</td>\n",
       "      <td>3.594991e+09</td>\n",
       "      <td>711.4611</td>\n",
       "      <td>00:00:39</td>\n",
       "    </tr>\n",
       "    <tr>\n",
       "      <th>5</th>\n",
       "      <td>10.021376</td>\n",
       "      <td>2017-12-01 16:32:37</td>\n",
       "      <td>3.594991e+09</td>\n",
       "      <td>0</td>\n",
       "      <td>1</td>\n",
       "      <td>0</td>\n",
       "      <td>632.991062</td>\n",
       "      <td>711.461201</td>\n",
       "      <td>3.594991e+09</td>\n",
       "      <td>711.4612</td>\n",
       "      <td>00:00:53</td>\n",
       "    </tr>\n",
       "  </tbody>\n",
       "</table>\n",
       "</div>"
      ],
      "text/plain": [
       "         ACQUIRE            DATETIME           END  ERROR  LOOP  OVERRIDE  \\\n",
       "squid                                                                       \n",
       "1      10.017976 2017-12-01 16:31:44  3.594991e+09      0     1         0   \n",
       "2      10.012825 2017-12-01 16:31:57  3.594991e+09      0     1         0   \n",
       "3      10.015001 2017-12-01 16:32:10  3.594991e+09      0     1         0   \n",
       "4      10.012057 2017-12-01 16:32:23  3.594991e+09      0     1         0   \n",
       "5      10.021376 2017-12-01 16:32:37  3.594991e+09      0     1         0   \n",
       "\n",
       "        REC:WLM?1   REC:WLM?2         START  VAR:WL?1  ELAPSED  \n",
       "squid                                                           \n",
       "1      632.991062  711.460801  3.594991e+09  711.4608 00:00:00  \n",
       "2      632.991062  711.460900  3.594991e+09  711.4609 00:00:13  \n",
       "3      632.991062  711.461001  3.594991e+09  711.4610 00:00:26  \n",
       "4      632.991062  711.461101  3.594991e+09  711.4611 00:00:39  \n",
       "5      632.991062  711.461201  3.594991e+09  711.4612 00:00:53  "
      ]
     },
     "execution_count": 6,
     "metadata": {},
     "output_type": "execute_result"
    }
   ],
   "source": [
    "# log output\n",
    "h5.log.head()"
   ]
  },
  {
   "cell_type": "markdown",
   "metadata": {},
   "source": [
    "Experimental settings are stored in the log file as VARS and measurements as RECS."
   ]
  },
  {
   "cell_type": "code",
   "execution_count": 7,
   "metadata": {},
   "outputs": [
    {
     "data": {
      "text/html": [
       "<div>\n",
       "<style>\n",
       "    .dataframe thead tr:only-child th {\n",
       "        text-align: right;\n",
       "    }\n",
       "\n",
       "    .dataframe thead th {\n",
       "        text-align: left;\n",
       "    }\n",
       "\n",
       "    .dataframe tbody tr th {\n",
       "        vertical-align: top;\n",
       "    }\n",
       "</style>\n",
       "<table border=\"1\" class=\"dataframe\">\n",
       "  <thead>\n",
       "    <tr>\n",
       "      <th></th>\n",
       "      <th>VAR</th>\n",
       "      <th colspan=\"2\" halign=\"left\">REC</th>\n",
       "    </tr>\n",
       "    <tr>\n",
       "      <th></th>\n",
       "      <th>WL?1</th>\n",
       "      <th>WLM?1</th>\n",
       "      <th>WLM?2</th>\n",
       "    </tr>\n",
       "    <tr>\n",
       "      <th>squid</th>\n",
       "      <th></th>\n",
       "      <th></th>\n",
       "      <th></th>\n",
       "    </tr>\n",
       "  </thead>\n",
       "  <tbody>\n",
       "    <tr>\n",
       "      <th>1</th>\n",
       "      <td>711.4608</td>\n",
       "      <td>632.991062</td>\n",
       "      <td>711.460801</td>\n",
       "    </tr>\n",
       "    <tr>\n",
       "      <th>2</th>\n",
       "      <td>711.4609</td>\n",
       "      <td>632.991062</td>\n",
       "      <td>711.460900</td>\n",
       "    </tr>\n",
       "    <tr>\n",
       "      <th>3</th>\n",
       "      <td>711.4610</td>\n",
       "      <td>632.991062</td>\n",
       "      <td>711.461001</td>\n",
       "    </tr>\n",
       "    <tr>\n",
       "      <th>4</th>\n",
       "      <td>711.4611</td>\n",
       "      <td>632.991062</td>\n",
       "      <td>711.461101</td>\n",
       "    </tr>\n",
       "    <tr>\n",
       "      <th>5</th>\n",
       "      <td>711.4612</td>\n",
       "      <td>632.991062</td>\n",
       "      <td>711.461201</td>\n",
       "    </tr>\n",
       "  </tbody>\n",
       "</table>\n",
       "</div>"
      ],
      "text/plain": [
       "            VAR         REC            \n",
       "           WL?1       WLM?1       WLM?2\n",
       "squid                                  \n",
       "1      711.4608  632.991062  711.460801\n",
       "2      711.4609  632.991062  711.460900\n",
       "3      711.4610  632.991062  711.461001\n",
       "4      711.4611  632.991062  711.461101\n",
       "5      711.4612  632.991062  711.461201"
      ]
     },
     "execution_count": 7,
     "metadata": {},
     "output_type": "execute_result"
    }
   ],
   "source": [
    "# combine VAR and REC data\n",
    "df = add_column_index(h5.var, 'VAR').join(add_column_index(h5.rec, 'REC'))\n",
    "df.head()"
   ]
  },
  {
   "cell_type": "code",
   "execution_count": 8,
   "metadata": {},
   "outputs": [
    {
     "data": {
      "image/png": "[encoded data removed]",
      "text/plain": [
       "<matplotlib.figure.Figure at 0x7fee76af59b0>"
      ]
     },
     "metadata": {},
     "output_type": "display_data"
    }
   ],
   "source": [
    "# plot\n",
    "fig, ax = plt.subplots()\n",
    "\n",
    "# data\n",
    "xvals = df[('VAR', 'WL?1')]    # laser wavelength PID reference\n",
    "yvals = df[('REC', 'WLM?2')]   # measured wavelength\n",
    "ax.scatter(xvals, yvals, marker='.')\n",
    "\n",
    "# format\n",
    "ax.set_xlim([xvals.min(), xvals.max()])\n",
    "ax.set_ylim([yvals.min(), yvals.max()])\n",
    "ax.set_xlabel('set wavelength (nm)')\n",
    "ax.set_ylabel('measured wavelength (nm)')\n",
    "\n",
    "# output\n",
    "plt.show()"
   ]
  },
  {
   "cell_type": "markdown",
   "metadata": {},
   "source": [
    "# Datasets\n",
    "\n",
    "The hdf5 datafile exists to store datasets.  In our case, these are distributed within groups. Each group represents one configuration of experimental variables (VARS), and they are numbered sequentually by the `squid`.\n",
    "\n",
    "See 'Raw datasets.ipynb' for accessing different types of hdf5 dataset."
   ]
  },
  {
   "cell_type": "code",
   "execution_count": 9,
   "metadata": {},
   "outputs": [
    {
     "name": "stdout",
     "output_type": "stream",
     "text": [
      "('WLM',)\n"
     ]
    }
   ],
   "source": [
    "# list the datasets in a particular group\n",
    "squid = 1\n",
    "print(h5.datasets(squid))"
   ]
  },
  {
   "cell_type": "code",
   "execution_count": null,
   "metadata": {
    "collapsed": true
   },
   "outputs": [],
   "source": []
  }
 ],
 "metadata": {
  "kernelspec": {
   "display_name": "Python 3",
   "language": "python",
   "name": "python3"
  },
  "language_info": {
   "codemirror_mode": {
    "name": "ipython",
    "version": 3
   },
   "file_extension": ".py",
   "mimetype": "text/x-python",
   "name": "python",
   "nbconvert_exporter": "python",
   "pygments_lexer": "ipython3",
   "version": "3.6.2"
  }
 },
 "nbformat": 4,
 "nbformat_minor": 2
}
