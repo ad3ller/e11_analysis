{
 "cells": [
  {
   "cell_type": "markdown",
   "metadata": {},
   "source": [
    "## Caching\n",
    "\n",
    "Often hdf5 files can be very large and processing them can take a long time.  To speed up future access, processing results can be cached.\n",
    "\n",
    "For this it is necessary to specify an `out_dire` when creating the instance of `H5Scan` or `H5Data`, e.g.\n",
    "\n",
    "``` python\n",
    ">>> data = H5Data(fil, out_dire='analysis')\n",
    "```\n",
    "\n",
    "If `out_dire` is declared then the log will automatically be cached as a pickle file in `./[out_dire]/cache/log.pkl`.  By default, when reloading the file the cache will be used for the log, unless `update_log=True` is set.\n",
    "\n",
    "Caching can be applied to the methods: `array()`, `df()`, and `apply()`. \n",
    "\n",
    "To read the contents of the cache directory,\n",
    "\n",
    "```python\n",
    ">>> from e11.tools import ls\n",
    ">>> ls(data.cache_dire)\n",
    "```\n",
    "Another use of `out_dire` is to build useful paths, e.g., for saving plots to a sub directory.\n",
    "\n",
    "``` python\n",
    ">>> from e11.tools import sub_dire\n",
    ">>> out_fil = sub_dire(data.out_dire, 'plots', fname='signal.png')\n",
    ">>> plt.savefig(out_fil, bbox_inches='tight', dpi=200)\n",
    "```"
   ]
  },
  {
   "cell_type": "code",
   "execution_count": null,
   "metadata": {
    "collapsed": true
   },
   "outputs": [],
   "source": []
  }
 ],
 "metadata": {
  "kernelspec": {
   "display_name": "Python 3",
   "language": "python",
   "name": "python3"
  },
  "language_info": {
   "codemirror_mode": {
    "name": "ipython",
    "version": 3
   },
   "file_extension": ".py",
   "mimetype": "text/x-python",
   "name": "python",
   "nbconvert_exporter": "python",
   "pygments_lexer": "ipython3",
   "version": "3.6.3"
  }
 },
 "nbformat": 4,
 "nbformat_minor": 2
}
