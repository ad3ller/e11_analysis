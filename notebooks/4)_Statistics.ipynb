{
 "cells": [
  {
   "cell_type": "code",
   "execution_count": null,
   "metadata": {
    "collapsed": true
   },
   "outputs": [],
   "source": [
    "%matplotlib inline"
   ]
  },
  {
   "cell_type": "code",
   "execution_count": null,
   "metadata": {
    "collapsed": true
   },
   "outputs": [],
   "source": [
    "import numpy as np\n",
    "import pandas as pd\n",
    "import matplotlib.pyplot as plt"
   ]
  },
  {
   "cell_type": "markdown",
   "metadata": {},
   "source": [
    "# Statistics\n",
    "\n",
    "This notebook provides examples for extracting useful statistics from processed hdf5 data."
   ]
  },
  {
   "cell_type": "code",
   "execution_count": null,
   "metadata": {
    "collapsed": true
   },
   "outputs": [],
   "source": [
    "from e11 import H5Data\n",
    "from e11.stats import statistics\n",
    "from e11.tools import add_level\n",
    "from e11.process import vrange"
   ]
  },
  {
   "cell_type": "code",
   "execution_count": null,
   "metadata": {
    "collapsed": true
   },
   "outputs": [],
   "source": [
    "# read file\n",
    "import os \n",
    "fil = os.path.join(os.getcwd(), 'example_data', 'array_data.h5')\n",
    "data = H5Data(fil)"
   ]
  },
  {
   "cell_type": "code",
   "execution_count": null,
   "metadata": {},
   "outputs": [],
   "source": [
    "data.log"
   ]
  },
  {
   "cell_type": "markdown",
   "metadata": {
    "collapsed": true
   },
   "source": [
    "## Vrange\n",
    "\n",
    "Here, we are applying the vrange function to measure the vertical range of array data."
   ]
  },
  {
   "cell_type": "code",
   "execution_count": null,
   "metadata": {},
   "outputs": [],
   "source": [
    "rng = data.apply(vrange, data.squids, 'OSC_0')\n",
    "rng.head()"
   ]
  },
  {
   "cell_type": "code",
   "execution_count": null,
   "metadata": {},
   "outputs": [],
   "source": [
    "rng.describe()"
   ]
  },
  {
   "cell_type": "markdown",
   "metadata": {},
   "source": [
    "##  Statistics\n",
    "\n",
    "The `statistics()` function can be used to find the average vrange value per squid."
   ]
  },
  {
   "cell_type": "code",
   "execution_count": null,
   "metadata": {},
   "outputs": [],
   "source": [
    "av = statistics(rng, mode='full')\n",
    "av.head()"
   ]
  },
  {
   "cell_type": "code",
   "execution_count": null,
   "metadata": {},
   "outputs": [],
   "source": [
    "# map measurements to var values\n",
    "df = add_level(data.var, 'VAR').join(av)\n",
    "df.head()"
   ]
  },
  {
   "cell_type": "code",
   "execution_count": null,
   "metadata": {},
   "outputs": [],
   "source": [
    "# plot\n",
    "fig, ax = plt.subplots()\n",
    "\n",
    "xvals = df[('VAR', 'PAUSE')]\n",
    "yvals = df[('vrange', 'mean')]\n",
    "yerr =  df[('vrange', 'err')]\n",
    "ax.errorbar(xvals, yvals, yerr=yerr, marker='o')\n",
    "\n",
    "#format\n",
    "ax.set_xlabel('Pause (ms)')\n",
    "ax.set_ylabel('signal (arb. units)')\n",
    "\n",
    "#output\n",
    "plt.show()"
   ]
  },
  {
   "cell_type": "markdown",
   "metadata": {},
   "source": [
    "## Loops\n",
    "\n",
    "It's not unusual for different squids to be run using the same experimental conditions (VARS), e.g., if looping an experiment script.\n",
    "\n",
    "The plot above indicates that there were 2 loops recorded using the same values for VAR:PAUSE.  These can simply be grouped together to find the overall statistics for unique VAR values."
   ]
  },
  {
   "cell_type": "code",
   "execution_count": null,
   "metadata": {},
   "outputs": [],
   "source": [
    "# map measurements to var values\n",
    "df2 = data.var.join(rng)\n",
    "df2.head()"
   ]
  },
  {
   "cell_type": "code",
   "execution_count": null,
   "metadata": {},
   "outputs": [],
   "source": [
    "# then evaluate the statistics when grouped by var values\n",
    "st = statistics(df2, groupby=data.var.columns, mode='full')\n",
    "st.head()"
   ]
  },
  {
   "cell_type": "code",
   "execution_count": null,
   "metadata": {},
   "outputs": [],
   "source": [
    "# plot\n",
    "fig, ax = plt.subplots()\n",
    "\n",
    "xvals = st.index.get_level_values('PAUSE')\n",
    "yvals = st[('vrange', 'mean')]\n",
    "yerr =  st[('vrange', 'err')]\n",
    "ax.errorbar(xvals, yvals, yerr=yerr, marker='o')\n",
    "\n",
    "#format\n",
    "ax.set_xlabel('pause (ms)')\n",
    "ax.set_ylabel('signal (arb. units)')\n",
    "\n",
    "#output\n",
    "plt.show()"
   ]
  },
  {
   "cell_type": "markdown",
   "metadata": {
    "collapsed": true
   },
   "source": [
    "## Combing data from multiple runs\n",
    "\n",
    "Sometimes it's useful to combine data from different runs using pandas.concat."
   ]
  },
  {
   "cell_type": "code",
   "execution_count": null,
   "metadata": {
    "collapsed": true
   },
   "outputs": [],
   "source": [
    "# import data\n",
    "run_ids = ['20180720_000', '20180720_001']\n",
    "all_data = dict()\n",
    "for rid in run_ids:\n",
    "    # normally we'd use run_file()\n",
    "    # >>> fil = run_file(base=\"Q:\\E11_atmos\\data\", rid=rid)\n",
    "    # but for now we'll use the example data, again, err.., twice.\n",
    "    fil = os.path.join(os.getcwd(), 'example_data', 'array_data.h5')\n",
    "    # open\n",
    "    all_data[rid] = H5Data(fil)"
   ]
  },
  {
   "cell_type": "markdown",
   "metadata": {},
   "source": [
    "### workflow #1\n",
    "\n",
    "Seperate results for each run -- e.g., for comparing runs."
   ]
  },
  {
   "cell_type": "code",
   "execution_count": null,
   "metadata": {},
   "outputs": [],
   "source": [
    "all_st = dict()\n",
    "for rid in run_ids:\n",
    "    # calculate vertical range\n",
    "    data = all_data[rid]\n",
    "    rng = data.apply(vrange, data.squids, 'OSC_0', tqdm_disable=True)\n",
    "    df = data.var.join(rng)\n",
    "    # calculate statistics\n",
    "    st = statistics(df2, groupby=data.var.columns, mode='full', tqdm_disable=True)\n",
    "    all_st[rid] = st\n",
    "# result\n",
    "all_st = pd.concat(all_st, names=['rid'])\n",
    "all_st"
   ]
  },
  {
   "cell_type": "markdown",
   "metadata": {},
   "source": [
    "### workflow #2\n",
    "\n",
    "Combine results -- e.g., to improve statistics (don't actually do this using identical data!)."
   ]
  },
  {
   "cell_type": "code",
   "execution_count": null,
   "metadata": {},
   "outputs": [],
   "source": [
    "all_df = dict()\n",
    "for rid in run_ids:\n",
    "    data = all_data[rid]\n",
    "    rng = data.apply(vrange, data.squids, 'OSC_0', tqdm_disable=True)\n",
    "    all_df[rid] = data.var.join(rng)\n",
    "# combine vertical range measurements\n",
    "all_df = pd.concat(all_df, names=['rid'])\n",
    "all_df.head()"
   ]
  },
  {
   "cell_type": "code",
   "execution_count": null,
   "metadata": {},
   "outputs": [],
   "source": [
    "# calculate statistics\n",
    "st = statistics(all_df, groupby=data.var.columns, mode='full')\n",
    "st"
   ]
  },
  {
   "cell_type": "code",
   "execution_count": null,
   "metadata": {
    "collapsed": true
   },
   "outputs": [],
   "source": []
  }
 ],
 "metadata": {
  "kernelspec": {
   "display_name": "Python 3",
   "language": "python",
   "name": "python3"
  },
  "language_info": {
   "codemirror_mode": {
    "name": "ipython",
    "version": 3
   },
   "file_extension": ".py",
   "mimetype": "text/x-python",
   "name": "python",
   "nbconvert_exporter": "python",
   "pygments_lexer": "ipython3",
   "version": "3.6.3"
  }
 },
 "nbformat": 4,
 "nbformat_minor": 2
}
