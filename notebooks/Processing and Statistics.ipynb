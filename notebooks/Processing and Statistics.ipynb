{
 "cells": [
  {
   "cell_type": "code",
   "execution_count": 1,
   "metadata": {
    "collapsed": true
   },
   "outputs": [],
   "source": [
    "%matplotlib inline"
   ]
  },
  {
   "cell_type": "code",
   "execution_count": 2,
   "metadata": {
    "collapsed": true
   },
   "outputs": [],
   "source": [
    "import numpy as np\n",
    "import pandas as pd\n",
    "import matplotlib.pyplot as plt"
   ]
  },
  {
   "cell_type": "markdown",
   "metadata": {},
   "source": [
    "# Processing hdf5 data\n",
    "\n",
    "This notebook provides examples for processing hdf5 data"
   ]
  },
  {
   "cell_type": "code",
   "execution_count": 3,
   "metadata": {
    "collapsed": true
   },
   "outputs": [],
   "source": [
    "from e11 import H5Data, add_column_index\n",
    "from e11.process import vrange, statistics"
   ]
  },
  {
   "cell_type": "code",
   "execution_count": 4,
   "metadata": {},
   "outputs": [
    {
     "name": "stderr",
     "output_type": "stream",
     "text": [
      "100%|███████████████████████████████████████████████████████████████████████████████████| 6/6 [00:00<00:00, 599.63it/s]\n"
     ]
    }
   ],
   "source": [
    "# read file\n",
    "import os \n",
    "fil = os.path.join(os.getcwd(), 'example_data', 'array_data.h5')\n",
    "h5 = H5Data(fil)"
   ]
  },
  {
   "cell_type": "code",
   "execution_count": 5,
   "metadata": {},
   "outputs": [
    {
     "data": {
      "text/html": [
       "<div>\n",
       "<style>\n",
       "    .dataframe thead tr:only-child th {\n",
       "        text-align: right;\n",
       "    }\n",
       "\n",
       "    .dataframe thead th {\n",
       "        text-align: left;\n",
       "    }\n",
       "\n",
       "    .dataframe tbody tr th {\n",
       "        vertical-align: top;\n",
       "    }\n",
       "</style>\n",
       "<table border=\"1\" class=\"dataframe\">\n",
       "  <thead>\n",
       "    <tr style=\"text-align: right;\">\n",
       "      <th></th>\n",
       "      <th>ACQUIRE</th>\n",
       "      <th>DATETIME</th>\n",
       "      <th>END</th>\n",
       "      <th>ERROR</th>\n",
       "      <th>LOOP</th>\n",
       "      <th>OVERRIDE</th>\n",
       "      <th>START</th>\n",
       "      <th>VAR:PAUSE</th>\n",
       "      <th>ELAPSED</th>\n",
       "    </tr>\n",
       "    <tr>\n",
       "      <th>squid</th>\n",
       "      <th></th>\n",
       "      <th></th>\n",
       "      <th></th>\n",
       "      <th></th>\n",
       "      <th></th>\n",
       "      <th></th>\n",
       "      <th></th>\n",
       "      <th></th>\n",
       "      <th></th>\n",
       "    </tr>\n",
       "  </thead>\n",
       "  <tbody>\n",
       "    <tr>\n",
       "      <th>1</th>\n",
       "      <td>10.036975</td>\n",
       "      <td>2017-12-01 15:41:22</td>\n",
       "      <td>3.594988e+09</td>\n",
       "      <td>0</td>\n",
       "      <td>1</td>\n",
       "      <td>0</td>\n",
       "      <td>3.594988e+09</td>\n",
       "      <td>300</td>\n",
       "      <td>00:00:00</td>\n",
       "    </tr>\n",
       "    <tr>\n",
       "      <th>2</th>\n",
       "      <td>10.021719</td>\n",
       "      <td>2017-12-01 15:41:33</td>\n",
       "      <td>3.594988e+09</td>\n",
       "      <td>0</td>\n",
       "      <td>1</td>\n",
       "      <td>0</td>\n",
       "      <td>3.594988e+09</td>\n",
       "      <td>600</td>\n",
       "      <td>00:00:11</td>\n",
       "    </tr>\n",
       "    <tr>\n",
       "      <th>3</th>\n",
       "      <td>10.034403</td>\n",
       "      <td>2017-12-01 15:41:45</td>\n",
       "      <td>3.594988e+09</td>\n",
       "      <td>0</td>\n",
       "      <td>1</td>\n",
       "      <td>0</td>\n",
       "      <td>3.594988e+09</td>\n",
       "      <td>900</td>\n",
       "      <td>00:00:23</td>\n",
       "    </tr>\n",
       "    <tr>\n",
       "      <th>4</th>\n",
       "      <td>10.022052</td>\n",
       "      <td>2017-12-01 15:41:55</td>\n",
       "      <td>3.594988e+09</td>\n",
       "      <td>0</td>\n",
       "      <td>2</td>\n",
       "      <td>0</td>\n",
       "      <td>3.594988e+09</td>\n",
       "      <td>300</td>\n",
       "      <td>00:00:33</td>\n",
       "    </tr>\n",
       "    <tr>\n",
       "      <th>5</th>\n",
       "      <td>10.027435</td>\n",
       "      <td>2017-12-01 15:42:06</td>\n",
       "      <td>3.594988e+09</td>\n",
       "      <td>0</td>\n",
       "      <td>2</td>\n",
       "      <td>0</td>\n",
       "      <td>3.594988e+09</td>\n",
       "      <td>600</td>\n",
       "      <td>00:00:44</td>\n",
       "    </tr>\n",
       "    <tr>\n",
       "      <th>6</th>\n",
       "      <td>10.027131</td>\n",
       "      <td>2017-12-01 15:42:18</td>\n",
       "      <td>3.594988e+09</td>\n",
       "      <td>0</td>\n",
       "      <td>2</td>\n",
       "      <td>0</td>\n",
       "      <td>3.594988e+09</td>\n",
       "      <td>900</td>\n",
       "      <td>00:00:56</td>\n",
       "    </tr>\n",
       "  </tbody>\n",
       "</table>\n",
       "</div>"
      ],
      "text/plain": [
       "         ACQUIRE            DATETIME           END  ERROR  LOOP  OVERRIDE  \\\n",
       "squid                                                                       \n",
       "1      10.036975 2017-12-01 15:41:22  3.594988e+09      0     1         0   \n",
       "2      10.021719 2017-12-01 15:41:33  3.594988e+09      0     1         0   \n",
       "3      10.034403 2017-12-01 15:41:45  3.594988e+09      0     1         0   \n",
       "4      10.022052 2017-12-01 15:41:55  3.594988e+09      0     2         0   \n",
       "5      10.027435 2017-12-01 15:42:06  3.594988e+09      0     2         0   \n",
       "6      10.027131 2017-12-01 15:42:18  3.594988e+09      0     2         0   \n",
       "\n",
       "              START  VAR:PAUSE  ELAPSED  \n",
       "squid                                    \n",
       "1      3.594988e+09        300 00:00:00  \n",
       "2      3.594988e+09        600 00:00:11  \n",
       "3      3.594988e+09        900 00:00:23  \n",
       "4      3.594988e+09        300 00:00:33  \n",
       "5      3.594988e+09        600 00:00:44  \n",
       "6      3.594988e+09        900 00:00:56  "
      ]
     },
     "execution_count": 5,
     "metadata": {},
     "output_type": "execute_result"
    }
   ],
   "source": [
    "h5.log"
   ]
  },
  {
   "cell_type": "markdown",
   "metadata": {
    "collapsed": true
   },
   "source": [
    "## Vrange\n",
    "\n",
    "Here, we are applying the vrange function to measure the vertical range of array data."
   ]
  },
  {
   "cell_type": "code",
   "execution_count": 6,
   "metadata": {},
   "outputs": [
    {
     "name": "stderr",
     "output_type": "stream",
     "text": [
      "100%|███████████████████████████████████████████████████████████████████████████████████| 6/6 [00:00<00:00, 206.77sq/s]\n"
     ]
    },
    {
     "data": {
      "text/html": [
       "<div>\n",
       "<style>\n",
       "    .dataframe thead tr:only-child th {\n",
       "        text-align: right;\n",
       "    }\n",
       "\n",
       "    .dataframe thead th {\n",
       "        text-align: left;\n",
       "    }\n",
       "\n",
       "    .dataframe tbody tr th {\n",
       "        vertical-align: top;\n",
       "    }\n",
       "</style>\n",
       "<table border=\"1\" class=\"dataframe\">\n",
       "  <thead>\n",
       "    <tr style=\"text-align: right;\">\n",
       "      <th></th>\n",
       "      <th></th>\n",
       "      <th>vrange</th>\n",
       "    </tr>\n",
       "    <tr>\n",
       "      <th>squid</th>\n",
       "      <th>repeat</th>\n",
       "      <th></th>\n",
       "    </tr>\n",
       "  </thead>\n",
       "  <tbody>\n",
       "    <tr>\n",
       "      <th rowspan=\"5\" valign=\"top\">1</th>\n",
       "      <th>0</th>\n",
       "      <td>1.033028</td>\n",
       "    </tr>\n",
       "    <tr>\n",
       "      <th>1</th>\n",
       "      <td>1.012191</td>\n",
       "    </tr>\n",
       "    <tr>\n",
       "      <th>2</th>\n",
       "      <td>1.032403</td>\n",
       "    </tr>\n",
       "    <tr>\n",
       "      <th>3</th>\n",
       "      <td>1.070328</td>\n",
       "    </tr>\n",
       "    <tr>\n",
       "      <th>4</th>\n",
       "      <td>1.062143</td>\n",
       "    </tr>\n",
       "  </tbody>\n",
       "</table>\n",
       "</div>"
      ],
      "text/plain": [
       "                vrange\n",
       "squid repeat          \n",
       "1     0       1.033028\n",
       "      1       1.012191\n",
       "      2       1.032403\n",
       "      3       1.070328\n",
       "      4       1.062143"
      ]
     },
     "execution_count": 6,
     "metadata": {},
     "output_type": "execute_result"
    }
   ],
   "source": [
    "vr, info = vrange(h5, 'OSC_0', info=True)\n",
    "vr.head()"
   ]
  },
  {
   "cell_type": "code",
   "execution_count": 7,
   "metadata": {},
   "outputs": [
    {
     "data": {
      "text/plain": [
       "{'dataset': 'OSC_0',\n",
       " 'datetime': '2018-01-10 13:00:04',\n",
       " 'process': 'process.vrange()',\n",
       " 'squids': array([1, 2, 3, 4, 5, 6])}"
      ]
     },
     "execution_count": 7,
     "metadata": {},
     "output_type": "execute_result"
    }
   ],
   "source": [
    "# information about the processing\n",
    "info"
   ]
  },
  {
   "cell_type": "markdown",
   "metadata": {},
   "source": [
    "And use the statistics function to find the average vrange per squid."
   ]
  },
  {
   "cell_type": "code",
   "execution_count": 8,
   "metadata": {},
   "outputs": [
    {
     "data": {
      "text/html": [
       "<div>\n",
       "<style>\n",
       "    .dataframe thead tr:only-child th {\n",
       "        text-align: right;\n",
       "    }\n",
       "\n",
       "    .dataframe thead th {\n",
       "        text-align: left;\n",
       "    }\n",
       "\n",
       "    .dataframe tbody tr th {\n",
       "        vertical-align: top;\n",
       "    }\n",
       "</style>\n",
       "<table border=\"1\" class=\"dataframe\">\n",
       "  <thead>\n",
       "    <tr>\n",
       "      <th></th>\n",
       "      <th colspan=\"4\" halign=\"left\">vrange</th>\n",
       "    </tr>\n",
       "    <tr>\n",
       "      <th></th>\n",
       "      <th>count</th>\n",
       "      <th>err</th>\n",
       "      <th>mean</th>\n",
       "      <th>std</th>\n",
       "    </tr>\n",
       "    <tr>\n",
       "      <th>squid</th>\n",
       "      <th></th>\n",
       "      <th></th>\n",
       "      <th></th>\n",
       "      <th></th>\n",
       "    </tr>\n",
       "  </thead>\n",
       "  <tbody>\n",
       "    <tr>\n",
       "      <th>1</th>\n",
       "      <td>25</td>\n",
       "      <td>0.003350</td>\n",
       "      <td>1.038482</td>\n",
       "      <td>0.016752</td>\n",
       "    </tr>\n",
       "    <tr>\n",
       "      <th>2</th>\n",
       "      <td>25</td>\n",
       "      <td>0.002847</td>\n",
       "      <td>1.039364</td>\n",
       "      <td>0.014236</td>\n",
       "    </tr>\n",
       "    <tr>\n",
       "      <th>3</th>\n",
       "      <td>26</td>\n",
       "      <td>0.001758</td>\n",
       "      <td>1.043457</td>\n",
       "      <td>0.008966</td>\n",
       "    </tr>\n",
       "    <tr>\n",
       "      <th>4</th>\n",
       "      <td>25</td>\n",
       "      <td>0.002988</td>\n",
       "      <td>1.044290</td>\n",
       "      <td>0.014941</td>\n",
       "    </tr>\n",
       "    <tr>\n",
       "      <th>5</th>\n",
       "      <td>25</td>\n",
       "      <td>0.003784</td>\n",
       "      <td>1.034683</td>\n",
       "      <td>0.018921</td>\n",
       "    </tr>\n",
       "  </tbody>\n",
       "</table>\n",
       "</div>"
      ],
      "text/plain": [
       "      vrange                              \n",
       "       count       err      mean       std\n",
       "squid                                     \n",
       "1         25  0.003350  1.038482  0.016752\n",
       "2         25  0.002847  1.039364  0.014236\n",
       "3         26  0.001758  1.043457  0.008966\n",
       "4         25  0.002988  1.044290  0.014941\n",
       "5         25  0.003784  1.034683  0.018921"
      ]
     },
     "execution_count": 8,
     "metadata": {},
     "output_type": "execute_result"
    }
   ],
   "source": [
    "av = statistics(vr)\n",
    "av.head()"
   ]
  },
  {
   "cell_type": "markdown",
   "metadata": {},
   "source": [
    "We can see from h5.log that there were repeat measurements with the same VAR conditions.  We can group these together and find the statistics for unique VAR values."
   ]
  },
  {
   "cell_type": "code",
   "execution_count": 9,
   "metadata": {},
   "outputs": [
    {
     "data": {
      "text/html": [
       "<div>\n",
       "<style>\n",
       "    .dataframe thead tr:only-child th {\n",
       "        text-align: right;\n",
       "    }\n",
       "\n",
       "    .dataframe thead th {\n",
       "        text-align: left;\n",
       "    }\n",
       "\n",
       "    .dataframe tbody tr th {\n",
       "        vertical-align: top;\n",
       "    }\n",
       "</style>\n",
       "<table border=\"1\" class=\"dataframe\">\n",
       "  <thead>\n",
       "    <tr>\n",
       "      <th></th>\n",
       "      <th colspan=\"8\" halign=\"left\">vrange</th>\n",
       "    </tr>\n",
       "    <tr>\n",
       "      <th></th>\n",
       "      <th>count</th>\n",
       "      <th>err</th>\n",
       "      <th>max</th>\n",
       "      <th>mean</th>\n",
       "      <th>median</th>\n",
       "      <th>min</th>\n",
       "      <th>range</th>\n",
       "      <th>std</th>\n",
       "    </tr>\n",
       "    <tr>\n",
       "      <th>PAUSE</th>\n",
       "      <th></th>\n",
       "      <th></th>\n",
       "      <th></th>\n",
       "      <th></th>\n",
       "      <th></th>\n",
       "      <th></th>\n",
       "      <th></th>\n",
       "      <th></th>\n",
       "    </tr>\n",
       "  </thead>\n",
       "  <tbody>\n",
       "    <tr>\n",
       "      <th>300</th>\n",
       "      <td>50</td>\n",
       "      <td>0.002260</td>\n",
       "      <td>1.083854</td>\n",
       "      <td>1.041386</td>\n",
       "      <td>1.040635</td>\n",
       "      <td>1.000539</td>\n",
       "      <td>0.083316</td>\n",
       "      <td>0.015981</td>\n",
       "    </tr>\n",
       "    <tr>\n",
       "      <th>600</th>\n",
       "      <td>50</td>\n",
       "      <td>0.002367</td>\n",
       "      <td>1.064080</td>\n",
       "      <td>1.037024</td>\n",
       "      <td>1.042134</td>\n",
       "      <td>0.997321</td>\n",
       "      <td>0.066759</td>\n",
       "      <td>0.016739</td>\n",
       "    </tr>\n",
       "    <tr>\n",
       "      <th>900</th>\n",
       "      <td>51</td>\n",
       "      <td>0.001702</td>\n",
       "      <td>1.069203</td>\n",
       "      <td>1.040724</td>\n",
       "      <td>1.041619</td>\n",
       "      <td>1.012878</td>\n",
       "      <td>0.056325</td>\n",
       "      <td>0.012155</td>\n",
       "    </tr>\n",
       "  </tbody>\n",
       "</table>\n",
       "</div>"
      ],
      "text/plain": [
       "      vrange                                                              \\\n",
       "       count       err       max      mean    median       min     range   \n",
       "PAUSE                                                                      \n",
       "300       50  0.002260  1.083854  1.041386  1.040635  1.000539  0.083316   \n",
       "600       50  0.002367  1.064080  1.037024  1.042134  0.997321  0.066759   \n",
       "900       51  0.001702  1.069203  1.040724  1.041619  1.012878  0.056325   \n",
       "\n",
       "                 \n",
       "            std  \n",
       "PAUSE            \n",
       "300    0.015981  \n",
       "600    0.016739  \n",
       "900    0.012155  "
      ]
     },
     "execution_count": 9,
     "metadata": {},
     "output_type": "execute_result"
    }
   ],
   "source": [
    "# map measurements to var values\n",
    "df = h5.var.join(vr)\n",
    "# evaluate the statistics when grouped by var values\n",
    "st = statistics(df, groupby=h5.var.columns, mode='full')\n",
    "st.head()"
   ]
  },
  {
   "cell_type": "code",
   "execution_count": null,
   "metadata": {
    "collapsed": true
   },
   "outputs": [],
   "source": []
  }
 ],
 "metadata": {
  "kernelspec": {
   "display_name": "Python 3",
   "language": "python",
   "name": "python3"
  },
  "language_info": {
   "codemirror_mode": {
    "name": "ipython",
    "version": 3
   },
   "file_extension": ".py",
   "mimetype": "text/x-python",
   "name": "python",
   "nbconvert_exporter": "python",
   "pygments_lexer": "ipython3",
   "version": "3.6.3"
  }
 },
 "nbformat": 4,
 "nbformat_minor": 2
}
