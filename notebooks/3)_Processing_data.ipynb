{
 "cells": [
  {
   "cell_type": "code",
   "execution_count": null,
   "metadata": {
    "collapsed": true
   },
   "outputs": [],
   "source": [
    "%matplotlib inline"
   ]
  },
  {
   "cell_type": "code",
   "execution_count": null,
   "metadata": {
    "collapsed": true
   },
   "outputs": [],
   "source": [
    "import numpy as np\n",
    "import pandas as pd\n",
    "import matplotlib.pyplot as plt"
   ]
  },
  {
   "cell_type": "markdown",
   "metadata": {},
   "source": [
    "# Processing data\n",
    "\n",
    "This notebook provides an example for how to process `H5Scan` and `H5Data` datasets."
   ]
  },
  {
   "cell_type": "code",
   "execution_count": null,
   "metadata": {
    "collapsed": true
   },
   "outputs": [],
   "source": [
    "from e11 import H5Scan, H5Data\n",
    "from e11.tools import t_index\n",
    "from e11.process import vrange, mean, total"
   ]
  },
  {
   "cell_type": "markdown",
   "metadata": {},
   "source": [
    "## Simple processing\n",
    "\n",
    "The functions in `e11.process` are designed to be applied to one or more datasets."
   ]
  },
  {
   "cell_type": "code",
   "execution_count": null,
   "metadata": {
    "collapsed": true
   },
   "outputs": [],
   "source": [
    "import os\n",
    "fil = os.path.join(os.getcwd(), 'example_data', 'microwave_scan.h5')\n",
    "scan = H5Scan(fil)"
   ]
  },
  {
   "cell_type": "markdown",
   "metadata": {},
   "source": [
    "First, we load up the raw data to decide how to process it."
   ]
  },
  {
   "cell_type": "code",
   "execution_count": null,
   "metadata": {},
   "outputs": [],
   "source": [
    "dat = scan.array('osc_0')\n",
    "osc = scan.attrs('osc_0')\n",
    "\n",
    "# plot\n",
    "fig, ax = plt.subplots()\n",
    "\n",
    "# data\n",
    "dt = 1e6 * osc['dt']\n",
    "xvals = np.arange(0, len(dat[0])*dt, dt)\n",
    "yvals = dat[0]\n",
    "ax.plot(xvals, yvals - np.mean(yvals[:100]))\n",
    "yvals = dat[80]\n",
    "ax.plot(xvals, yvals - np.mean(yvals[:100]))\n",
    "\n",
    "# background\n",
    "t_bk = (0.06, 0.18)\n",
    "ax.axvline(t_bk[0], c='r', lw=1, ls='--')\n",
    "ax.axvline(t_bk[1], c='r', lw=1, ls='--')\n",
    "# signal 0\n",
    "t_sig0 = (0.465, 0.510)\n",
    "ax.axvline(t_sig0[0], c='k', lw=1, ls='--')\n",
    "ax.axvline(t_sig0[1], c='k', lw=1, ls='--')\n",
    "# signal 1\n",
    "t_sig1 = (0.77, 0.85)\n",
    "ax.axvline(t_sig1[0], c='g', lw=1, ls='--')\n",
    "ax.axvline(t_sig1[1], c='g', lw=1, ls='--')\n",
    "\n",
    "# format\n",
    "ax.set_xlabel('time ($\\mu$s)')\n",
    "ax.set_ylabel('signal (V)')\n",
    "\n",
    "# output\n",
    "plt.show()"
   ]
  },
  {
   "cell_type": "markdown",
   "metadata": {},
   "source": [
    "For this example, we will calculate the mean value of the scope data in the first window using `mean()`.  This provides the background offset values."
   ]
  },
  {
   "cell_type": "code",
   "execution_count": null,
   "metadata": {
    "collapsed": true
   },
   "outputs": [],
   "source": [
    "# background\n",
    "background = mean(scan.array('osc_0'), subset=[slice(None), slice(*t_index(t_bk, dt=dt))])\n",
    "background.columns = ['offset']"
   ]
  },
  {
   "cell_type": "markdown",
   "metadata": {},
   "source": [
    "We subtract the background from each trace and then calculate the total value in the second and third windows using `total()`.  The ratio between these two values is the final result."
   ]
  },
  {
   "cell_type": "code",
   "execution_count": null,
   "metadata": {},
   "outputs": [],
   "source": [
    "# signal\n",
    "bksub = np.subtract(scan.array('osc_0'), background.values)\n",
    "res0 = total(bksub, subset=[slice(None), slice(*t_index(t_sig0, dt=dt))])\n",
    "res0.columns = [('total_0')]\n",
    "res1 = total(bksub, subset=[slice(None), slice(*t_index(t_sig1, dt=dt))])\n",
    "res1.columns = [('total_1')]\n",
    "\n",
    "# map result to microwave frequency\n",
    "df = scan.df('analysis').join(res0).join(res1)\n",
    "# combine the two sums\n",
    "df['f2'] = (df['total_1'] / df['total_0'])\n",
    "# normalise f and f2\n",
    "df['f1'] = (df['f'] - df['f'].min()) / ( df['f'].max() -  df['f'].min())\n",
    "df['f2'] = (df['f2'] - df['f2'].min()) / ( df['f2'].max() -  df['f2'].min())\n",
    "df.head()"
   ]
  },
  {
   "cell_type": "code",
   "execution_count": null,
   "metadata": {},
   "outputs": [],
   "source": [
    "# plot\n",
    "fig, ax = plt.subplots()\n",
    "ax.plot(df['var'], df['f1'], label='f1')\n",
    "ax.plot(df['var'], df['f2'], label='f2')\n",
    "ax.set_xlabel(\"microwave frequency (GHz)\")\n",
    "ax.set_ylabel(\"signal (arb. units)\")\n",
    "ax.legend()\n",
    "plt.show()"
   ]
  },
  {
   "cell_type": "markdown",
   "metadata": {},
   "source": [
    "## Advanced processing\n",
    "\n",
    "Using the `e11.process` functions as demonstrated above with `H5Scan` would work for `H5Data` datasets too, however, it is usually better to use them with `H5Data.apply()`.  This will apply the function to each group, and the results are indexed using the `squid` to keep track of where each came from. "
   ]
  },
  {
   "cell_type": "markdown",
   "metadata": {
    "collapsed": true
   },
   "source": [
    "### Vrange\n",
    "\n",
    "Here, we are applying the `vrange` function to measure the vertical range of array data."
   ]
  },
  {
   "cell_type": "code",
   "execution_count": null,
   "metadata": {
    "collapsed": true
   },
   "outputs": [],
   "source": [
    "# load data\n",
    "fil = os.path.join(os.getcwd(), 'example_data', 'array_data.h5')\n",
    "data = H5Data(fil)"
   ]
  },
  {
   "cell_type": "code",
   "execution_count": null,
   "metadata": {},
   "outputs": [],
   "source": [
    "rng, info = data.apply(vrange, data.squids, ['OSC_0'], info=True, name='vr')\n",
    "rng.head()"
   ]
  },
  {
   "cell_type": "code",
   "execution_count": null,
   "metadata": {},
   "outputs": [],
   "source": [
    "rng.describe()"
   ]
  },
  {
   "cell_type": "code",
   "execution_count": null,
   "metadata": {},
   "outputs": [],
   "source": [
    "# information about the processing\n",
    "info"
   ]
  },
  {
   "cell_type": "code",
   "execution_count": null,
   "metadata": {},
   "outputs": [],
   "source": [
    "# plot\n",
    "rng.reset_index().plot(subplots=True)\n",
    "\n",
    "#output\n",
    "plt.show()"
   ]
  },
  {
   "cell_type": "markdown",
   "metadata": {},
   "source": [
    "### _apply()_ with multiple datasets"
   ]
  },
  {
   "cell_type": "code",
   "execution_count": null,
   "metadata": {
    "collapsed": true
   },
   "outputs": [],
   "source": [
    "from e11.process import stats, mean"
   ]
  },
  {
   "cell_type": "code",
   "execution_count": null,
   "metadata": {},
   "outputs": [],
   "source": [
    "avg = data.apply(mean, data.squids, ['OSC_0', 'OSC_0'], keys=['av_A', 'av_B']).head()\n",
    "avg.head()"
   ]
  },
  {
   "cell_type": "code",
   "execution_count": null,
   "metadata": {},
   "outputs": [],
   "source": [
    "sta = data.apply(stats, data.squids, ['OSC_0', 'OSC_0'], keys=['A', 'B'])\n",
    "sta.head()"
   ]
  },
  {
   "cell_type": "markdown",
   "metadata": {
    "collapsed": true
   },
   "source": [
    "### _apply()_ with lambda functions\n",
    "\n",
    "The _apply()_ method can accept lambda functions that return either a _pd.Series()_ or a _pd.DataFrame()_."
   ]
  },
  {
   "cell_type": "code",
   "execution_count": null,
   "metadata": {},
   "outputs": [],
   "source": [
    "mx = data.apply(lambda arr: pd.Series(np.max(arr, axis=1), name=\"max\"), data.squids, 'OSC_0')\n",
    "mx.head()"
   ]
  },
  {
   "cell_type": "markdown",
   "metadata": {},
   "source": [
    "The input to the function must include kwargs if you call _apply()_ with any.  If you call _apply()_ with multiple datasets they are passed to the function as an unpacked list."
   ]
  },
  {
   "cell_type": "code",
   "execution_count": null,
   "metadata": {},
   "outputs": [],
   "source": [
    "func = lambda *arr, **kwargs: pd.DataFrame(np.array([np.max(arr[0], axis=1), np.min(arr[1], axis=1)]).T, columns=kwargs[\"columns\"])\n",
    "mxs = data.apply(func, data.squids, ['OSC_0', 'OSC_0'], columns=[\"max_0\", \"min_1\"])\n",
    "mxs.head()"
   ]
  },
  {
   "cell_type": "code",
   "execution_count": null,
   "metadata": {
    "collapsed": true
   },
   "outputs": [],
   "source": []
  }
 ],
 "metadata": {
  "kernelspec": {
   "display_name": "Python 3",
   "language": "python",
   "name": "python3"
  },
  "language_info": {
   "codemirror_mode": {
    "name": "ipython",
    "version": 3
   },
   "file_extension": ".py",
   "mimetype": "text/x-python",
   "name": "python",
   "nbconvert_exporter": "python",
   "pygments_lexer": "ipython3",
   "version": "3.6.3"
  }
 },
 "nbformat": 4,
 "nbformat_minor": 2
}
