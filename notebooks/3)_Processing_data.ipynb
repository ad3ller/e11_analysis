{
 "cells": [
  {
   "cell_type": "code",
   "execution_count": 1,
   "metadata": {
    "collapsed": true
   },
   "outputs": [],
   "source": [
    "%matplotlib inline"
   ]
  },
  {
   "cell_type": "code",
   "execution_count": 2,
   "metadata": {
    "collapsed": true
   },
   "outputs": [],
   "source": [
    "import numpy as np\n",
    "import pandas as pd\n",
    "import matplotlib.pyplot as plt"
   ]
  },
  {
   "cell_type": "markdown",
   "metadata": {},
   "source": [
    "# Processing data\n",
    "\n",
    "This notebook provides an example for how to process `H5Scan` and `H5Data` datasets."
   ]
  },
  {
   "cell_type": "code",
   "execution_count": 3,
   "metadata": {
    "collapsed": true
   },
   "outputs": [],
   "source": [
    "from e11 import H5Scan, H5Data\n",
    "from e11.tools import t_index\n",
    "from e11.process import vrange, mean, total"
   ]
  },
  {
   "cell_type": "markdown",
   "metadata": {},
   "source": [
    "## Simple processing\n",
    "\n",
    "The functions in `e11.process` are designed to be applied to one or more datasets."
   ]
  },
  {
   "cell_type": "code",
   "execution_count": 4,
   "metadata": {
    "collapsed": true
   },
   "outputs": [],
   "source": [
    "import os\n",
    "fil = os.path.join(os.getcwd(), 'example_data', 'microwave_scan.h5')\n",
    "scan = H5Scan(fil)"
   ]
  },
  {
   "cell_type": "markdown",
   "metadata": {},
   "source": [
    "First, we load up the raw data to decide how to process it."
   ]
  },
  {
   "cell_type": "code",
   "execution_count": 5,
   "metadata": {},
   "outputs": [
    {
     "data": {
      "image/png": "[encoded data removed]",
      "text/plain": [
       "<matplotlib.figure.Figure at 0x23187413da0>"
      ]
     },
     "metadata": {},
     "output_type": "display_data"
    }
   ],
   "source": [
    "dat = scan.array('osc_0')\n",
    "osc = scan.attrs('osc_0')\n",
    "\n",
    "# plot\n",
    "fig, ax = plt.subplots()\n",
    "\n",
    "# data\n",
    "dt = 1e6 * osc['dt']\n",
    "xvals = np.arange(0, len(dat[0])*dt, dt)\n",
    "yvals = -dat[0]\n",
    "ax.plot(xvals, yvals - np.mean(yvals[:100]))\n",
    "yvals = -dat[80]\n",
    "ax.plot(xvals, yvals - np.mean(yvals[:100]))\n",
    "ax.axhline(0, lw=1, c='k', ls='--')\n",
    "\n",
    "# regions of interest\n",
    "# background\n",
    "t_bk = (0.06, 0.18)\n",
    "ax.axvspan(*t_bk, color='k', alpha=0.2)\n",
    "# signal 0\n",
    "t_sig0 = (0.465, 0.510)\n",
    "ax.axvspan(*t_sig0, color='C2', alpha=0.2)\n",
    "# signal 1\n",
    "t_sig1 = (0.77, 0.85)\n",
    "ax.axvspan(*t_sig1, color='C4', alpha=0.2)\n",
    "\n",
    "# format\n",
    "ax.set_xlabel('time ($\\mu$s)')\n",
    "ax.set_ylabel('-signal (V)')\n",
    "\n",
    "# output\n",
    "plt.show()"
   ]
  },
  {
   "cell_type": "markdown",
   "metadata": {},
   "source": [
    "Calculate the mean value of the scope data in the first time region using `mean()`.  This provides the background offset values."
   ]
  },
  {
   "cell_type": "code",
   "execution_count": 6,
   "metadata": {
    "collapsed": true
   },
   "outputs": [],
   "source": [
    "# background\n",
    "background = mean(scan.array('osc_0'), subset=tuple([slice(None), slice(*t_index(t_bk, dt=dt))]))\n",
    "background.columns = ['offset']"
   ]
  },
  {
   "cell_type": "markdown",
   "metadata": {},
   "source": [
    "Subtract the background from each trace and then calculate the total value in the second and third regions using `total()`.  \n",
    "\n",
    "The ratio between these is the final result."
   ]
  },
  {
   "cell_type": "code",
   "execution_count": 7,
   "metadata": {},
   "outputs": [
    {
     "data": {
      "text/html": [
       "<div>\n",
       "<style scoped>\n",
       "    .dataframe tbody tr th:only-of-type {\n",
       "        vertical-align: middle;\n",
       "    }\n",
       "\n",
       "    .dataframe tbody tr th {\n",
       "        vertical-align: top;\n",
       "    }\n",
       "\n",
       "    .dataframe thead th {\n",
       "        text-align: right;\n",
       "    }\n",
       "</style>\n",
       "<table border=\"1\" class=\"dataframe\">\n",
       "  <thead>\n",
       "    <tr style=\"text-align: right;\">\n",
       "      <th></th>\n",
       "      <th>var</th>\n",
       "      <th>w0</th>\n",
       "      <th>w1</th>\n",
       "      <th>a0</th>\n",
       "      <th>a1</th>\n",
       "      <th>a2</th>\n",
       "      <th>f</th>\n",
       "      <th>total_0</th>\n",
       "      <th>total_1</th>\n",
       "      <th>f2</th>\n",
       "      <th>f1</th>\n",
       "    </tr>\n",
       "    <tr>\n",
       "      <th>measurement</th>\n",
       "      <th></th>\n",
       "      <th></th>\n",
       "      <th></th>\n",
       "      <th></th>\n",
       "      <th></th>\n",
       "      <th></th>\n",
       "      <th></th>\n",
       "      <th></th>\n",
       "      <th></th>\n",
       "      <th></th>\n",
       "      <th></th>\n",
       "    </tr>\n",
       "  </thead>\n",
       "  <tbody>\n",
       "    <tr>\n",
       "      <th>0</th>\n",
       "      <td>32.0500</td>\n",
       "      <td>777.950119</td>\n",
       "      <td>786.992730</td>\n",
       "      <td>0.000499</td>\n",
       "      <td>-0.005882</td>\n",
       "      <td>-1.118270</td>\n",
       "      <td>-0.006381</td>\n",
       "      <td>-0.250957</td>\n",
       "      <td>-0.266740</td>\n",
       "      <td>0.118938</td>\n",
       "      <td>0.193245</td>\n",
       "    </tr>\n",
       "    <tr>\n",
       "      <th>1</th>\n",
       "      <td>32.0505</td>\n",
       "      <td>777.950119</td>\n",
       "      <td>786.992729</td>\n",
       "      <td>0.000458</td>\n",
       "      <td>-0.006048</td>\n",
       "      <td>-1.122989</td>\n",
       "      <td>-0.006506</td>\n",
       "      <td>-0.258617</td>\n",
       "      <td>-0.268857</td>\n",
       "      <td>0.054865</td>\n",
       "      <td>0.112717</td>\n",
       "    </tr>\n",
       "    <tr>\n",
       "      <th>2</th>\n",
       "      <td>32.0510</td>\n",
       "      <td>777.950120</td>\n",
       "      <td>786.992729</td>\n",
       "      <td>0.000443</td>\n",
       "      <td>-0.005974</td>\n",
       "      <td>-1.138911</td>\n",
       "      <td>-0.006417</td>\n",
       "      <td>-0.255175</td>\n",
       "      <td>-0.271211</td>\n",
       "      <td>0.118813</td>\n",
       "      <td>0.170390</td>\n",
       "    </tr>\n",
       "    <tr>\n",
       "      <th>3</th>\n",
       "      <td>32.0515</td>\n",
       "      <td>777.950119</td>\n",
       "      <td>786.992729</td>\n",
       "      <td>0.000860</td>\n",
       "      <td>-0.005568</td>\n",
       "      <td>-0.995466</td>\n",
       "      <td>-0.006428</td>\n",
       "      <td>-0.253729</td>\n",
       "      <td>-0.278458</td>\n",
       "      <td>0.214038</td>\n",
       "      <td>0.163247</td>\n",
       "    </tr>\n",
       "    <tr>\n",
       "      <th>4</th>\n",
       "      <td>32.0520</td>\n",
       "      <td>777.950119</td>\n",
       "      <td>786.992729</td>\n",
       "      <td>0.000522</td>\n",
       "      <td>-0.005977</td>\n",
       "      <td>-1.095825</td>\n",
       "      <td>-0.006499</td>\n",
       "      <td>-0.259907</td>\n",
       "      <td>-0.272130</td>\n",
       "      <td>0.075313</td>\n",
       "      <td>0.116918</td>\n",
       "    </tr>\n",
       "  </tbody>\n",
       "</table>\n",
       "</div>"
      ],
      "text/plain": [
       "                 var          w0          w1        a0        a1        a2  \\\n",
       "measurement                                                                  \n",
       "0            32.0500  777.950119  786.992730  0.000499 -0.005882 -1.118270   \n",
       "1            32.0505  777.950119  786.992729  0.000458 -0.006048 -1.122989   \n",
       "2            32.0510  777.950120  786.992729  0.000443 -0.005974 -1.138911   \n",
       "3            32.0515  777.950119  786.992729  0.000860 -0.005568 -0.995466   \n",
       "4            32.0520  777.950119  786.992729  0.000522 -0.005977 -1.095825   \n",
       "\n",
       "                    f   total_0   total_1        f2        f1  \n",
       "measurement                                                    \n",
       "0           -0.006381 -0.250957 -0.266740  0.118938  0.193245  \n",
       "1           -0.006506 -0.258617 -0.268857  0.054865  0.112717  \n",
       "2           -0.006417 -0.255175 -0.271211  0.118813  0.170390  \n",
       "3           -0.006428 -0.253729 -0.278458  0.214038  0.163247  \n",
       "4           -0.006499 -0.259907 -0.272130  0.075313  0.116918  "
      ]
     },
     "execution_count": 7,
     "metadata": {},
     "output_type": "execute_result"
    }
   ],
   "source": [
    "# signal\n",
    "bksub = np.subtract(scan.array('osc_0'), background.values)\n",
    "res0 = total(bksub, subset=tuple([slice(None), slice(*t_index(t_sig0, dt=dt))]))\n",
    "res0.columns = [('total_0')]\n",
    "res1 = total(bksub, subset=tuple([slice(None), slice(*t_index(t_sig1, dt=dt))]))\n",
    "res1.columns = [('total_1')]\n",
    "\n",
    "# map result to microwave frequency\n",
    "df = scan.df('analysis').join(res0).join(res1)\n",
    "# combine the two sums\n",
    "df['f2'] = (df['total_1'] / df['total_0'])\n",
    "# normalise f and f2\n",
    "df['f1'] = (df['f'] - df['f'].min()) / ( df['f'].max() -  df['f'].min())\n",
    "df['f2'] = (df['f2'] - df['f2'].min()) / ( df['f2'].max() -  df['f2'].min())\n",
    "df.head()"
   ]
  },
  {
   "cell_type": "code",
   "execution_count": 8,
   "metadata": {},
   "outputs": [
    {
     "data": {
      "image/png": "[encoded data removed]",
      "text/plain": [
       "<matplotlib.figure.Figure at 0x231878456a0>"
      ]
     },
     "metadata": {},
     "output_type": "display_data"
    }
   ],
   "source": [
    "# plot\n",
    "fig, ax = plt.subplots()\n",
    "ax.plot(df['var'], df['f1'], label='f1')\n",
    "ax.plot(df['var'], df['f2'], label='f2')\n",
    "ax.set_xlabel(\"microwave frequency (GHz)\")\n",
    "ax.set_ylabel(\"signal (arb. units)\")\n",
    "ax.legend()\n",
    "plt.show()"
   ]
  },
  {
   "cell_type": "markdown",
   "metadata": {},
   "source": [
    "## Advanced processing\n",
    "\n",
    "Using the `e11.process` functions as demonstrated above also works for `H5Data` datasets.\n",
    "\n",
    "The functions can be individually applied to the datasets inside of each group using `H5Data.apply()`, which then indexes the result using the `squid`. "
   ]
  },
  {
   "cell_type": "markdown",
   "metadata": {
    "collapsed": true
   },
   "source": [
    "### Vrange\n",
    "\n",
    "Here, we are applying the `vrange` function to measure the vertical range of array data."
   ]
  },
  {
   "cell_type": "code",
   "execution_count": 9,
   "metadata": {
    "collapsed": true
   },
   "outputs": [],
   "source": [
    "# load data\n",
    "fil = os.path.join(os.getcwd(), 'example_data', 'array_data.h5')\n",
    "data = H5Data(fil)"
   ]
  },
  {
   "cell_type": "code",
   "execution_count": 10,
   "metadata": {},
   "outputs": [
    {
     "name": "stderr",
     "output_type": "stream",
     "text": [
      "100%|███████████████████████████████████████████████████████████████████████████████████| 6/6 [00:00<00:00, 176.57sq/s]\n"
     ]
    },
    {
     "data": {
      "text/html": [
       "<div>\n",
       "<style scoped>\n",
       "    .dataframe tbody tr th:only-of-type {\n",
       "        vertical-align: middle;\n",
       "    }\n",
       "\n",
       "    .dataframe tbody tr th {\n",
       "        vertical-align: top;\n",
       "    }\n",
       "\n",
       "    .dataframe thead th {\n",
       "        text-align: right;\n",
       "    }\n",
       "</style>\n",
       "<table border=\"1\" class=\"dataframe\">\n",
       "  <thead>\n",
       "    <tr style=\"text-align: right;\">\n",
       "      <th></th>\n",
       "      <th></th>\n",
       "      <th>vr</th>\n",
       "    </tr>\n",
       "    <tr>\n",
       "      <th>squid</th>\n",
       "      <th>measurement</th>\n",
       "      <th></th>\n",
       "    </tr>\n",
       "  </thead>\n",
       "  <tbody>\n",
       "    <tr>\n",
       "      <th rowspan=\"5\" valign=\"top\">1</th>\n",
       "      <th>0</th>\n",
       "      <td>1.033028</td>\n",
       "    </tr>\n",
       "    <tr>\n",
       "      <th>1</th>\n",
       "      <td>1.012191</td>\n",
       "    </tr>\n",
       "    <tr>\n",
       "      <th>2</th>\n",
       "      <td>1.032403</td>\n",
       "    </tr>\n",
       "    <tr>\n",
       "      <th>3</th>\n",
       "      <td>1.070328</td>\n",
       "    </tr>\n",
       "    <tr>\n",
       "      <th>4</th>\n",
       "      <td>1.062143</td>\n",
       "    </tr>\n",
       "  </tbody>\n",
       "</table>\n",
       "</div>"
      ],
      "text/plain": [
       "                         vr\n",
       "squid measurement          \n",
       "1     0            1.033028\n",
       "      1            1.012191\n",
       "      2            1.032403\n",
       "      3            1.070328\n",
       "      4            1.062143"
      ]
     },
     "execution_count": 10,
     "metadata": {},
     "output_type": "execute_result"
    }
   ],
   "source": [
    "rng, info = data.apply(vrange, data.squids, ['OSC_0'], info=True, name='vr')\n",
    "rng.head()"
   ]
  },
  {
   "cell_type": "code",
   "execution_count": 11,
   "metadata": {},
   "outputs": [
    {
     "data": {
      "text/html": [
       "<div>\n",
       "<style scoped>\n",
       "    .dataframe tbody tr th:only-of-type {\n",
       "        vertical-align: middle;\n",
       "    }\n",
       "\n",
       "    .dataframe tbody tr th {\n",
       "        vertical-align: top;\n",
       "    }\n",
       "\n",
       "    .dataframe thead th {\n",
       "        text-align: right;\n",
       "    }\n",
       "</style>\n",
       "<table border=\"1\" class=\"dataframe\">\n",
       "  <thead>\n",
       "    <tr style=\"text-align: right;\">\n",
       "      <th></th>\n",
       "      <th>vr</th>\n",
       "    </tr>\n",
       "  </thead>\n",
       "  <tbody>\n",
       "    <tr>\n",
       "      <th>count</th>\n",
       "      <td>151.000000</td>\n",
       "    </tr>\n",
       "    <tr>\n",
       "      <th>mean</th>\n",
       "      <td>1.039718</td>\n",
       "    </tr>\n",
       "    <tr>\n",
       "      <th>std</th>\n",
       "      <td>0.015097</td>\n",
       "    </tr>\n",
       "    <tr>\n",
       "      <th>min</th>\n",
       "      <td>0.997321</td>\n",
       "    </tr>\n",
       "    <tr>\n",
       "      <th>25%</th>\n",
       "      <td>1.031731</td>\n",
       "    </tr>\n",
       "    <tr>\n",
       "      <th>50%</th>\n",
       "      <td>1.041619</td>\n",
       "    </tr>\n",
       "    <tr>\n",
       "      <th>75%</th>\n",
       "      <td>1.050006</td>\n",
       "    </tr>\n",
       "    <tr>\n",
       "      <th>max</th>\n",
       "      <td>1.083854</td>\n",
       "    </tr>\n",
       "  </tbody>\n",
       "</table>\n",
       "</div>"
      ],
      "text/plain": [
       "               vr\n",
       "count  151.000000\n",
       "mean     1.039718\n",
       "std      0.015097\n",
       "min      0.997321\n",
       "25%      1.031731\n",
       "50%      1.041619\n",
       "75%      1.050006\n",
       "max      1.083854"
      ]
     },
     "execution_count": 11,
     "metadata": {},
     "output_type": "execute_result"
    }
   ],
   "source": [
    "rng.describe()"
   ]
  },
  {
   "cell_type": "code",
   "execution_count": 12,
   "metadata": {},
   "outputs": [
    {
     "data": {
      "text/plain": [
       "{'cache': False,\n",
       " 'dataset': ['OSC_0'],\n",
       " 'datetime': '2018-09-18 19:54:22',\n",
       " 'func': 'vrange',\n",
       " 'method': 'apply',\n",
       " 'squids': array([1, 2, 3, 4, 5, 6])}"
      ]
     },
     "execution_count": 12,
     "metadata": {},
     "output_type": "execute_result"
    }
   ],
   "source": [
    "# information about the processing\n",
    "info"
   ]
  },
  {
   "cell_type": "code",
   "execution_count": 13,
   "metadata": {},
   "outputs": [
    {
     "data": {
      "image/png": "[encoded data removed]",
      "text/plain": [
       "<matplotlib.figure.Figure at 0x23188a154e0>"
      ]
     },
     "metadata": {},
     "output_type": "display_data"
    }
   ],
   "source": [
    "# plot\n",
    "rng.reset_index().plot(subplots=True)\n",
    "\n",
    "#output\n",
    "plt.show()"
   ]
  },
  {
   "cell_type": "markdown",
   "metadata": {},
   "source": [
    "### _apply()_ with multiple datasets"
   ]
  },
  {
   "cell_type": "code",
   "execution_count": 14,
   "metadata": {
    "collapsed": true
   },
   "outputs": [],
   "source": [
    "from e11.process import mean, mean_std"
   ]
  },
  {
   "cell_type": "code",
   "execution_count": 15,
   "metadata": {},
   "outputs": [
    {
     "name": "stderr",
     "output_type": "stream",
     "text": [
      "100%|███████████████████████████████████████████████████████████████████████████████████| 6/6 [00:00<00:00, 111.18sq/s]\n"
     ]
    },
    {
     "data": {
      "text/html": [
       "<div>\n",
       "<style scoped>\n",
       "    .dataframe tbody tr th:only-of-type {\n",
       "        vertical-align: middle;\n",
       "    }\n",
       "\n",
       "    .dataframe tbody tr th {\n",
       "        vertical-align: top;\n",
       "    }\n",
       "\n",
       "    .dataframe thead th {\n",
       "        text-align: right;\n",
       "    }\n",
       "</style>\n",
       "<table border=\"1\" class=\"dataframe\">\n",
       "  <thead>\n",
       "    <tr style=\"text-align: right;\">\n",
       "      <th></th>\n",
       "      <th></th>\n",
       "      <th>av_A</th>\n",
       "      <th>av_B</th>\n",
       "    </tr>\n",
       "    <tr>\n",
       "      <th>squid</th>\n",
       "      <th>measurement</th>\n",
       "      <th></th>\n",
       "      <th></th>\n",
       "    </tr>\n",
       "  </thead>\n",
       "  <tbody>\n",
       "    <tr>\n",
       "      <th rowspan=\"5\" valign=\"top\">1</th>\n",
       "      <th>0</th>\n",
       "      <td>0.738350</td>\n",
       "      <td>0.738350</td>\n",
       "    </tr>\n",
       "    <tr>\n",
       "      <th>1</th>\n",
       "      <td>0.738752</td>\n",
       "      <td>0.738752</td>\n",
       "    </tr>\n",
       "    <tr>\n",
       "      <th>2</th>\n",
       "      <td>0.738586</td>\n",
       "      <td>0.738586</td>\n",
       "    </tr>\n",
       "    <tr>\n",
       "      <th>3</th>\n",
       "      <td>0.738578</td>\n",
       "      <td>0.738578</td>\n",
       "    </tr>\n",
       "    <tr>\n",
       "      <th>4</th>\n",
       "      <td>0.738438</td>\n",
       "      <td>0.738438</td>\n",
       "    </tr>\n",
       "  </tbody>\n",
       "</table>\n",
       "</div>"
      ],
      "text/plain": [
       "                       av_A      av_B\n",
       "squid measurement                    \n",
       "1     0            0.738350  0.738350\n",
       "      1            0.738752  0.738752\n",
       "      2            0.738586  0.738586\n",
       "      3            0.738578  0.738578\n",
       "      4            0.738438  0.738438"
      ]
     },
     "execution_count": 15,
     "metadata": {},
     "output_type": "execute_result"
    }
   ],
   "source": [
    "avg = data.apply(mean, data.squids, ['OSC_0', 'OSC_0'], keys=['av_A', 'av_B']).head()\n",
    "avg.head()"
   ]
  },
  {
   "cell_type": "code",
   "execution_count": 16,
   "metadata": {},
   "outputs": [
    {
     "name": "stderr",
     "output_type": "stream",
     "text": [
      "100%|███████████████████████████████████████████████████████████████████████████████████| 6/6 [00:00<00:00, 122.52sq/s]\n"
     ]
    },
    {
     "data": {
      "text/html": [
       "<div>\n",
       "<style scoped>\n",
       "    .dataframe tbody tr th:only-of-type {\n",
       "        vertical-align: middle;\n",
       "    }\n",
       "\n",
       "    .dataframe tbody tr th {\n",
       "        vertical-align: top;\n",
       "    }\n",
       "\n",
       "    .dataframe thead tr th {\n",
       "        text-align: left;\n",
       "    }\n",
       "\n",
       "    .dataframe thead tr:last-of-type th {\n",
       "        text-align: right;\n",
       "    }\n",
       "</style>\n",
       "<table border=\"1\" class=\"dataframe\">\n",
       "  <thead>\n",
       "    <tr>\n",
       "      <th></th>\n",
       "      <th></th>\n",
       "      <th colspan=\"2\" halign=\"left\">A</th>\n",
       "      <th colspan=\"2\" halign=\"left\">B</th>\n",
       "    </tr>\n",
       "    <tr>\n",
       "      <th></th>\n",
       "      <th></th>\n",
       "      <th>mean</th>\n",
       "      <th>std</th>\n",
       "      <th>mean</th>\n",
       "      <th>std</th>\n",
       "    </tr>\n",
       "    <tr>\n",
       "      <th>squid</th>\n",
       "      <th>measurement</th>\n",
       "      <th></th>\n",
       "      <th></th>\n",
       "      <th></th>\n",
       "      <th></th>\n",
       "    </tr>\n",
       "  </thead>\n",
       "  <tbody>\n",
       "    <tr>\n",
       "      <th rowspan=\"5\" valign=\"top\">1</th>\n",
       "      <th>0</th>\n",
       "      <td>0.738350</td>\n",
       "      <td>0.423929</td>\n",
       "      <td>0.738350</td>\n",
       "      <td>0.423929</td>\n",
       "    </tr>\n",
       "    <tr>\n",
       "      <th>1</th>\n",
       "      <td>0.738752</td>\n",
       "      <td>0.423923</td>\n",
       "      <td>0.738752</td>\n",
       "      <td>0.423923</td>\n",
       "    </tr>\n",
       "    <tr>\n",
       "      <th>2</th>\n",
       "      <td>0.738586</td>\n",
       "      <td>0.423920</td>\n",
       "      <td>0.738586</td>\n",
       "      <td>0.423920</td>\n",
       "    </tr>\n",
       "    <tr>\n",
       "      <th>3</th>\n",
       "      <td>0.738578</td>\n",
       "      <td>0.423958</td>\n",
       "      <td>0.738578</td>\n",
       "      <td>0.423958</td>\n",
       "    </tr>\n",
       "    <tr>\n",
       "      <th>4</th>\n",
       "      <td>0.738438</td>\n",
       "      <td>0.423983</td>\n",
       "      <td>0.738438</td>\n",
       "      <td>0.423983</td>\n",
       "    </tr>\n",
       "  </tbody>\n",
       "</table>\n",
       "</div>"
      ],
      "text/plain": [
       "                          A                   B          \n",
       "                       mean       std      mean       std\n",
       "squid measurement                                        \n",
       "1     0            0.738350  0.423929  0.738350  0.423929\n",
       "      1            0.738752  0.423923  0.738752  0.423923\n",
       "      2            0.738586  0.423920  0.738586  0.423920\n",
       "      3            0.738578  0.423958  0.738578  0.423958\n",
       "      4            0.738438  0.423983  0.738438  0.423983"
      ]
     },
     "execution_count": 16,
     "metadata": {},
     "output_type": "execute_result"
    }
   ],
   "source": [
    "sta = data.apply(mean_std, data.squids, ['OSC_0', 'OSC_0'], keys=['A', 'B'])\n",
    "sta.head()"
   ]
  },
  {
   "cell_type": "markdown",
   "metadata": {
    "collapsed": true
   },
   "source": [
    "### _apply()_ with lambda functions\n",
    "\n",
    "The _apply()_ method accepts any function that returns either a _pd.Series()_ or a _pd.DataFrame()_."
   ]
  },
  {
   "cell_type": "code",
   "execution_count": 17,
   "metadata": {},
   "outputs": [
    {
     "name": "stderr",
     "output_type": "stream",
     "text": [
      "100%|███████████████████████████████████████████████████████████████████████████████████| 6/6 [00:00<00:00, 240.15sq/s]\n"
     ]
    },
    {
     "data": {
      "text/plain": [
       "squid   \n",
       "1      0    1.035434\n",
       "       1    1.015597\n",
       "       2    1.035778\n",
       "       3    1.072609\n",
       "       4    1.064456\n",
       "Name: max, dtype: float64"
      ]
     },
     "execution_count": 17,
     "metadata": {},
     "output_type": "execute_result"
    }
   ],
   "source": [
    "mx = data.apply(lambda arr: pd.Series(np.max(arr, axis=1), name=\"max\"), data.squids, 'OSC_0')\n",
    "mx.head()"
   ]
  },
  {
   "cell_type": "markdown",
   "metadata": {},
   "source": [
    "The input to the function must include kwargs if you call _apply()_ with any.  If you call _apply()_ with multiple datasets they are passed to the function as an unpacked list."
   ]
  },
  {
   "cell_type": "code",
   "execution_count": 18,
   "metadata": {},
   "outputs": [
    {
     "name": "stderr",
     "output_type": "stream",
     "text": [
      "100%|███████████████████████████████████████████████████████████████████████████████████| 6/6 [00:00<00:00, 142.95sq/s]\n"
     ]
    },
    {
     "data": {
      "text/html": [
       "<div>\n",
       "<style scoped>\n",
       "    .dataframe tbody tr th:only-of-type {\n",
       "        vertical-align: middle;\n",
       "    }\n",
       "\n",
       "    .dataframe tbody tr th {\n",
       "        vertical-align: top;\n",
       "    }\n",
       "\n",
       "    .dataframe thead th {\n",
       "        text-align: right;\n",
       "    }\n",
       "</style>\n",
       "<table border=\"1\" class=\"dataframe\">\n",
       "  <thead>\n",
       "    <tr style=\"text-align: right;\">\n",
       "      <th></th>\n",
       "      <th></th>\n",
       "      <th>max_0</th>\n",
       "      <th>min_1</th>\n",
       "    </tr>\n",
       "    <tr>\n",
       "      <th>squid</th>\n",
       "      <th></th>\n",
       "      <th></th>\n",
       "      <th></th>\n",
       "    </tr>\n",
       "  </thead>\n",
       "  <tbody>\n",
       "    <tr>\n",
       "      <th rowspan=\"5\" valign=\"top\">1</th>\n",
       "      <th>0</th>\n",
       "      <td>1.035434</td>\n",
       "      <td>0.002406</td>\n",
       "    </tr>\n",
       "    <tr>\n",
       "      <th>1</th>\n",
       "      <td>1.015597</td>\n",
       "      <td>0.003406</td>\n",
       "    </tr>\n",
       "    <tr>\n",
       "      <th>2</th>\n",
       "      <td>1.035778</td>\n",
       "      <td>0.003375</td>\n",
       "    </tr>\n",
       "    <tr>\n",
       "      <th>3</th>\n",
       "      <td>1.072609</td>\n",
       "      <td>0.002281</td>\n",
       "    </tr>\n",
       "    <tr>\n",
       "      <th>4</th>\n",
       "      <td>1.064456</td>\n",
       "      <td>0.002313</td>\n",
       "    </tr>\n",
       "  </tbody>\n",
       "</table>\n",
       "</div>"
      ],
      "text/plain": [
       "            max_0     min_1\n",
       "squid                      \n",
       "1     0  1.035434  0.002406\n",
       "      1  1.015597  0.003406\n",
       "      2  1.035778  0.003375\n",
       "      3  1.072609  0.002281\n",
       "      4  1.064456  0.002313"
      ]
     },
     "execution_count": 18,
     "metadata": {},
     "output_type": "execute_result"
    }
   ],
   "source": [
    "func = lambda *arr, **kwargs: pd.DataFrame(np.array([np.max(arr[0], axis=1), np.min(arr[1], axis=1)]).T, columns=kwargs[\"columns\"])\n",
    "mxs = data.apply(func, data.squids, ['OSC_0', 'OSC_0'], columns=[\"max_0\", \"min_1\"])\n",
    "mxs.head()"
   ]
  },
  {
   "cell_type": "code",
   "execution_count": null,
   "metadata": {
    "collapsed": true
   },
   "outputs": [],
   "source": []
  }
 ],
 "metadata": {
  "kernelspec": {
   "display_name": "Python 3",
   "language": "python",
   "name": "python3"
  },
  "language_info": {
   "codemirror_mode": {
    "name": "ipython",
    "version": 3
   },
   "file_extension": ".py",
   "mimetype": "text/x-python",
   "name": "python",
   "nbconvert_exporter": "python",
   "pygments_lexer": "ipython3",
   "version": "3.6.3"
  }
 },
 "nbformat": 4,
 "nbformat_minor": 2
}
