{
 "cells": [
  {
   "cell_type": "code",
   "execution_count": 1,
   "metadata": {
    "collapsed": true
   },
   "outputs": [],
   "source": [
    "%matplotlib inline\n",
    "import os\n",
    "import matplotlib.pyplot as plt\n",
    "import pandas as pd\n",
    "from pprint import pprint"
   ]
  },
  {
   "cell_type": "markdown",
   "metadata": {},
   "source": [
    "## Caching\n",
    "\n",
    "hdf5 files can be very large and processing them can take a long time.  However, processing results can be cached to speed up future access.\n",
    "\n",
    "To enable caching, specify an `out_dire` when creating the instance of `H5Scan` or `H5Data`.\n",
    "\n",
    "``` python\n",
    ">>> data = H5Data(fil, out_dire='analysis')\n",
    "```\n",
    "\n",
    "`out_dire` can be an absolute path, or relative to the location of the hdf5 file."
   ]
  },
  {
   "cell_type": "code",
   "execution_count": 2,
   "metadata": {
    "collapsed": true
   },
   "outputs": [],
   "source": [
    "from e11 import H5Data\n",
    "fil = os.path.join(os.getcwd(), 'example_data', 'array_data.h5')\n",
    "data = H5Data(fil, out_dire='analysis')"
   ]
  },
  {
   "cell_type": "markdown",
   "metadata": {},
   "source": [
    "If `out_dire` is specified then `cache_dire` is created as a sub directory of it."
   ]
  },
  {
   "cell_type": "code",
   "execution_count": 3,
   "metadata": {},
   "outputs": [
    {
     "name": "stdout",
     "output_type": "stream",
     "text": [
      "C:\\Users\\Adam\\Documents\\Git\\e11_analysis\\notebooks\\example_data\\analysis\\cache\n"
     ]
    }
   ],
   "source": [
    "print(data.cache_dire)"
   ]
  },
  {
   "cell_type": "markdown",
   "metadata": {},
   "source": [
    "The first time that an instance of `H5Data(fil)` is created the log will be cached as a pickle file called `[cache_dire]/log.pkl`.  In future, when loading the hdf5 file the cached log will be used.\n",
    "\n",
    "An update of the log and its cache can be forced at any time using the method `H5Data.update_log()`."
   ]
  },
  {
   "cell_type": "code",
   "execution_count": 4,
   "metadata": {},
   "outputs": [
    {
     "name": "stderr",
     "output_type": "stream",
     "text": [
      "100%|██████████████████████████████████████████████████████████████████████████████████| 6/6 [00:00<00:00, 1501.27it/s]\n"
     ]
    }
   ],
   "source": [
    "data.update_log()"
   ]
  },
  {
   "cell_type": "markdown",
   "metadata": {},
   "source": [
    "Caching is also available for the methods: `array()`, `df()`, and `apply()`.  It is enabled using the kwarg \"cache\"."
   ]
  },
  {
   "cell_type": "code",
   "execution_count": 5,
   "metadata": {},
   "outputs": [
    {
     "name": "stderr",
     "output_type": "stream",
     "text": [
      "100%|███████████████████████████████████████████████████████████████████████████████████| 6/6 [00:00<00:00, 428.84it/s]\n"
     ]
    },
    {
     "name": "stdout",
     "output_type": "stream",
     "text": [
      "Wall time: 26 ms\n"
     ]
    },
    {
     "data": {
      "text/html": [
       "<div>\n",
       "<style scoped>\n",
       "    .dataframe tbody tr th:only-of-type {\n",
       "        vertical-align: middle;\n",
       "    }\n",
       "\n",
       "    .dataframe tbody tr th {\n",
       "        vertical-align: top;\n",
       "    }\n",
       "\n",
       "    .dataframe thead th {\n",
       "        text-align: right;\n",
       "    }\n",
       "</style>\n",
       "<table border=\"1\" class=\"dataframe\">\n",
       "  <thead>\n",
       "    <tr style=\"text-align: right;\">\n",
       "      <th></th>\n",
       "      <th></th>\n",
       "      <th>AB</th>\n",
       "      <th>CD</th>\n",
       "      <th>EF</th>\n",
       "    </tr>\n",
       "    <tr>\n",
       "      <th>squid</th>\n",
       "      <th>measurement</th>\n",
       "      <th></th>\n",
       "      <th></th>\n",
       "      <th></th>\n",
       "    </tr>\n",
       "  </thead>\n",
       "  <tbody>\n",
       "    <tr>\n",
       "      <th rowspan=\"5\" valign=\"top\">1</th>\n",
       "      <th>0</th>\n",
       "      <td>0.983765</td>\n",
       "      <td>0.984008</td>\n",
       "      <td>0.004351</td>\n",
       "    </tr>\n",
       "    <tr>\n",
       "      <th>1</th>\n",
       "      <td>0.984163</td>\n",
       "      <td>0.984424</td>\n",
       "      <td>0.004799</td>\n",
       "    </tr>\n",
       "    <tr>\n",
       "      <th>2</th>\n",
       "      <td>0.983991</td>\n",
       "      <td>0.984383</td>\n",
       "      <td>0.004606</td>\n",
       "    </tr>\n",
       "    <tr>\n",
       "      <th>3</th>\n",
       "      <td>0.983983</td>\n",
       "      <td>0.984222</td>\n",
       "      <td>0.004568</td>\n",
       "    </tr>\n",
       "    <tr>\n",
       "      <th>4</th>\n",
       "      <td>0.983856</td>\n",
       "      <td>0.984048</td>\n",
       "      <td>0.004349</td>\n",
       "    </tr>\n",
       "  </tbody>\n",
       "</table>\n",
       "</div>"
      ],
      "text/plain": [
       "                         AB        CD        EF\n",
       "squid measurement                              \n",
       "1     0            0.983765  0.984008  0.004351\n",
       "      1            0.984163  0.984424  0.004799\n",
       "      2            0.983991  0.984383  0.004606\n",
       "      3            0.983983  0.984222  0.004568\n",
       "      4            0.983856  0.984048  0.004349"
      ]
     },
     "execution_count": 5,
     "metadata": {},
     "output_type": "execute_result"
    }
   ],
   "source": [
    "# for the first call of data.df() the data is read from the hdf5 file\n",
    "%time av, cache_info = data.df(data.squids, 'AV_0', \\\n",
    "                               label=None, ignore_missing=False, \\\n",
    "                               cache=\"av_0\", cache_update=True, cache_info=True)\n",
    "av.head()"
   ]
  },
  {
   "cell_type": "markdown",
   "metadata": {},
   "source": [
    "If `cache_info=True` then information about the method call (e.g., args and kwargs values) are returned alongside the result."
   ]
  },
  {
   "cell_type": "code",
   "execution_count": 6,
   "metadata": {},
   "outputs": [
    {
     "name": "stdout",
     "output_type": "stream",
     "text": [
      "{'cache': 'C:\\\\Users\\\\Adam\\\\Documents\\\\Git\\\\e11_analysis\\\\notebooks\\\\example_data\\\\analysis\\\\cache\\\\av_0.df.pkl',\n",
      " 'dataset': 'AV_0',\n",
      " 'datetime': '2019-01-02 14:05:49',\n",
      " 'ignore_missing': False,\n",
      " 'label': None,\n",
      " 'method': 'df',\n",
      " 'squids': array([1, 2, 3, 4, 5, 6])}\n"
     ]
    }
   ],
   "source": [
    "pprint(cache_info)"
   ]
  },
  {
   "cell_type": "markdown",
   "metadata": {},
   "source": [
    "Future calls of same method will return the cached result.  To force an overwrite of an existing cache, use  `cache_update=True`."
   ]
  },
  {
   "cell_type": "code",
   "execution_count": 7,
   "metadata": {},
   "outputs": [
    {
     "name": "stdout",
     "output_type": "stream",
     "text": [
      "Wall time: 3 ms\n"
     ]
    },
    {
     "data": {
      "text/html": [
       "<div>\n",
       "<style scoped>\n",
       "    .dataframe tbody tr th:only-of-type {\n",
       "        vertical-align: middle;\n",
       "    }\n",
       "\n",
       "    .dataframe tbody tr th {\n",
       "        vertical-align: top;\n",
       "    }\n",
       "\n",
       "    .dataframe thead th {\n",
       "        text-align: right;\n",
       "    }\n",
       "</style>\n",
       "<table border=\"1\" class=\"dataframe\">\n",
       "  <thead>\n",
       "    <tr style=\"text-align: right;\">\n",
       "      <th></th>\n",
       "      <th></th>\n",
       "      <th>AB</th>\n",
       "      <th>CD</th>\n",
       "      <th>EF</th>\n",
       "    </tr>\n",
       "    <tr>\n",
       "      <th>squid</th>\n",
       "      <th>measurement</th>\n",
       "      <th></th>\n",
       "      <th></th>\n",
       "      <th></th>\n",
       "    </tr>\n",
       "  </thead>\n",
       "  <tbody>\n",
       "    <tr>\n",
       "      <th rowspan=\"5\" valign=\"top\">1</th>\n",
       "      <th>0</th>\n",
       "      <td>0.983765</td>\n",
       "      <td>0.984008</td>\n",
       "      <td>0.004351</td>\n",
       "    </tr>\n",
       "    <tr>\n",
       "      <th>1</th>\n",
       "      <td>0.984163</td>\n",
       "      <td>0.984424</td>\n",
       "      <td>0.004799</td>\n",
       "    </tr>\n",
       "    <tr>\n",
       "      <th>2</th>\n",
       "      <td>0.983991</td>\n",
       "      <td>0.984383</td>\n",
       "      <td>0.004606</td>\n",
       "    </tr>\n",
       "    <tr>\n",
       "      <th>3</th>\n",
       "      <td>0.983983</td>\n",
       "      <td>0.984222</td>\n",
       "      <td>0.004568</td>\n",
       "    </tr>\n",
       "    <tr>\n",
       "      <th>4</th>\n",
       "      <td>0.983856</td>\n",
       "      <td>0.984048</td>\n",
       "      <td>0.004349</td>\n",
       "    </tr>\n",
       "  </tbody>\n",
       "</table>\n",
       "</div>"
      ],
      "text/plain": [
       "                         AB        CD        EF\n",
       "squid measurement                              \n",
       "1     0            0.983765  0.984008  0.004351\n",
       "      1            0.984163  0.984424  0.004799\n",
       "      2            0.983991  0.984383  0.004606\n",
       "      3            0.983983  0.984222  0.004568\n",
       "      4            0.983856  0.984048  0.004349"
      ]
     },
     "execution_count": 7,
     "metadata": {},
     "output_type": "execute_result"
    }
   ],
   "source": [
    "# however, next time data.df() is called the data is loaded from the cache (much quicker).\n",
    "%time av, cache_info = data.df(data.squids, 'AV_0', \\\n",
    "                               label=None, ignore_missing=False, \\\n",
    "                               cache=\"av_0\", cache_update=False, cache_info=True)\n",
    "av.head()"
   ]
  },
  {
   "cell_type": "code",
   "execution_count": 8,
   "metadata": {},
   "outputs": [
    {
     "name": "stdout",
     "output_type": "stream",
     "text": [
      "{'cache': 'C:\\\\Users\\\\Adam\\\\Documents\\\\Git\\\\e11_analysis\\\\notebooks\\\\example_data\\\\analysis\\\\cache\\\\av_0.df.pkl',\n",
      " 'dataset': 'AV_0',\n",
      " 'datetime': '2019-01-02 14:05:49',\n",
      " 'ignore_missing': False,\n",
      " 'label': None,\n",
      " 'method': 'df',\n",
      " 'squids': array([1, 2, 3, 4, 5, 6])}\n"
     ]
    }
   ],
   "source": [
    "pprint(cache_info)"
   ]
  },
  {
   "cell_type": "markdown",
   "metadata": {},
   "source": [
    "The cost of using a cache is the extra space used on the disk. The gain is faster future access to subsets of the data.  The speed-up is especially significant when using `data.apply()` with high-level processing techniques, such as searching data for trigger events."
   ]
  },
  {
   "cell_type": "markdown",
   "metadata": {},
   "source": [
    "## Read from the cache\n",
    "\n",
    "Reading from the cache is automatic for repeat calls of a compatible method.  However, files in the cache are simply a pickle of the method result [and cache_info], and can be read manually.\n",
    "\n",
    "To read the contents of the cache directory:"
   ]
  },
  {
   "cell_type": "code",
   "execution_count": 9,
   "metadata": {},
   "outputs": [
    {
     "name": "stdout",
     "output_type": "stream",
     "text": [
      "['C:\\\\Users\\\\Adam\\\\Documents\\\\Git\\\\e11_analysis\\\\notebooks\\\\example_data\\\\analysis\\\\cache\\\\av_0.df.pkl',\n",
      " 'C:\\\\Users\\\\Adam\\\\Documents\\\\Git\\\\e11_analysis\\\\notebooks\\\\example_data\\\\analysis\\\\cache\\\\log.pkl']\n"
     ]
    }
   ],
   "source": [
    "from e11.tools import ls\n",
    "fils = ls(data.cache_dire)\n",
    "pprint(fils)"
   ]
  },
  {
   "cell_type": "code",
   "execution_count": 10,
   "metadata": {},
   "outputs": [
    {
     "name": "stdout",
     "output_type": "stream",
     "text": [
      "Wall time: 3 ms\n",
      "{'dataset': 'AV_0',\n",
      " 'datetime': '2019-01-02 14:05:49',\n",
      " 'ignore_missing': False,\n",
      " 'label': None,\n",
      " 'method': 'df',\n",
      " 'squids': array([1, 2, 3, 4, 5, 6])}\n"
     ]
    }
   ],
   "source": [
    "%time result, info = pd.read_pickle(fils[0])\n",
    "pprint(info)"
   ]
  },
  {
   "cell_type": "code",
   "execution_count": 11,
   "metadata": {},
   "outputs": [
    {
     "data": {
      "text/html": [
       "<div>\n",
       "<style scoped>\n",
       "    .dataframe tbody tr th:only-of-type {\n",
       "        vertical-align: middle;\n",
       "    }\n",
       "\n",
       "    .dataframe tbody tr th {\n",
       "        vertical-align: top;\n",
       "    }\n",
       "\n",
       "    .dataframe thead th {\n",
       "        text-align: right;\n",
       "    }\n",
       "</style>\n",
       "<table border=\"1\" class=\"dataframe\">\n",
       "  <thead>\n",
       "    <tr style=\"text-align: right;\">\n",
       "      <th></th>\n",
       "      <th></th>\n",
       "      <th>AB</th>\n",
       "      <th>CD</th>\n",
       "      <th>EF</th>\n",
       "    </tr>\n",
       "    <tr>\n",
       "      <th>squid</th>\n",
       "      <th>measurement</th>\n",
       "      <th></th>\n",
       "      <th></th>\n",
       "      <th></th>\n",
       "    </tr>\n",
       "  </thead>\n",
       "  <tbody>\n",
       "    <tr>\n",
       "      <th rowspan=\"5\" valign=\"top\">1</th>\n",
       "      <th>0</th>\n",
       "      <td>0.983765</td>\n",
       "      <td>0.984008</td>\n",
       "      <td>0.004351</td>\n",
       "    </tr>\n",
       "    <tr>\n",
       "      <th>1</th>\n",
       "      <td>0.984163</td>\n",
       "      <td>0.984424</td>\n",
       "      <td>0.004799</td>\n",
       "    </tr>\n",
       "    <tr>\n",
       "      <th>2</th>\n",
       "      <td>0.983991</td>\n",
       "      <td>0.984383</td>\n",
       "      <td>0.004606</td>\n",
       "    </tr>\n",
       "    <tr>\n",
       "      <th>3</th>\n",
       "      <td>0.983983</td>\n",
       "      <td>0.984222</td>\n",
       "      <td>0.004568</td>\n",
       "    </tr>\n",
       "    <tr>\n",
       "      <th>4</th>\n",
       "      <td>0.983856</td>\n",
       "      <td>0.984048</td>\n",
       "      <td>0.004349</td>\n",
       "    </tr>\n",
       "  </tbody>\n",
       "</table>\n",
       "</div>"
      ],
      "text/plain": [
       "                         AB        CD        EF\n",
       "squid measurement                              \n",
       "1     0            0.983765  0.984008  0.004351\n",
       "      1            0.984163  0.984424  0.004799\n",
       "      2            0.983991  0.984383  0.004606\n",
       "      3            0.983983  0.984222  0.004568\n",
       "      4            0.983856  0.984048  0.004349"
      ]
     },
     "execution_count": 11,
     "metadata": {},
     "output_type": "execute_result"
    }
   ],
   "source": [
    "result.head()"
   ]
  },
  {
   "cell_type": "markdown",
   "metadata": {},
   "source": [
    "## Saving to out_dire\n",
    "\n",
    "`H5Data.out_dire` is also useful for saving files that are related to the data, e.g., analysis results or plots.\n",
    "\n",
    "To quickly build paths to sub directories of `out_dire` use the function `e11_tools.sub_dire()`."
   ]
  },
  {
   "cell_type": "code",
   "execution_count": 12,
   "metadata": {},
   "outputs": [
    {
     "name": "stdout",
     "output_type": "stream",
     "text": [
      "C:\\Users\\Adam\\Documents\\Git\\e11_analysis\\notebooks\\example_data\\analysis\\plots\\signal.png\n"
     ]
    }
   ],
   "source": [
    "from e11.tools import sub_dire\n",
    "fname = sub_dire(data.out_dire, 'plots', fil='signal.png')\n",
    "print(fname)"
   ]
  },
  {
   "cell_type": "code",
   "execution_count": 13,
   "metadata": {},
   "outputs": [
    {
     "data": {
      "image/png": "[encoded data removed]",
      "text/plain": [
       "<matplotlib.figure.Figure at 0x252ba4d2b38>"
      ]
     },
     "metadata": {},
     "output_type": "display_data"
    }
   ],
   "source": [
    "fig, ax = plt.subplots()\n",
    "\n",
    "result.loc[1].plot(y=\"AB\", ax=ax)\n",
    "\n",
    "plt.savefig(fname, bbox_inches=\"tight\", dpi=300)\n",
    "plt.show()"
   ]
  },
  {
   "cell_type": "code",
   "execution_count": null,
   "metadata": {
    "collapsed": true
   },
   "outputs": [],
   "source": []
  }
 ],
 "metadata": {
  "kernelspec": {
   "display_name": "Python 3",
   "language": "python",
   "name": "python3"
  },
  "language_info": {
   "codemirror_mode": {
    "name": "ipython",
    "version": 3
   },
   "file_extension": ".py",
   "mimetype": "text/x-python",
   "name": "python",
   "nbconvert_exporter": "python",
   "pygments_lexer": "ipython3",
   "version": "3.6.3"
  }
 },
 "nbformat": 4,
 "nbformat_minor": 2
}
