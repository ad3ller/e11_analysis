{
 "cells": [
  {
   "cell_type": "code",
   "execution_count": 1,
   "metadata": {},
   "outputs": [],
   "source": [
    "%matplotlib inline\n",
    "import os\n",
    "import matplotlib.pyplot as plt\n",
    "import pandas as pd\n",
    "from pprint import pprint\n",
    "# e11 analysis\n",
    "from e11 import H5Data, H5Scan, statistics, run_dire, run_file"
   ]
  },
  {
   "cell_type": "markdown",
   "metadata": {},
   "source": [
    "# Caching\n",
    "\n",
    "Data files can be very large and processing them can take a long time.  However, the processing results can be cached to speed up future access.\n",
    "\n",
    "To enable caching, specify an `out_dire` when creating the instance of `H5Scan` or `H5Data`."
   ]
  },
  {
   "cell_type": "code",
   "execution_count": 2,
   "metadata": {},
   "outputs": [],
   "source": [
    "fil = os.path.join(os.getcwd(), 'example_data', 'array_data.h5')\n",
    "data = H5Data(fil, out_dire='analysis')"
   ]
  },
  {
   "cell_type": "markdown",
   "metadata": {},
   "source": [
    "If `out_dire` is specified then `cache_dire` is created as a sub directory of it."
   ]
  },
  {
   "cell_type": "code",
   "execution_count": 3,
   "metadata": {},
   "outputs": [
    {
     "name": "stdout",
     "output_type": "stream",
     "text": [
      "C:\\Users\\Adam\\Documents\\Git\\e11_analysis\\notebooks\\example_data\\analysis\\cache\n"
     ]
    }
   ],
   "source": [
    "print(data.cache_dire)"
   ]
  },
  {
   "cell_type": "markdown",
   "metadata": {},
   "source": [
    "## `log()`\n",
    "\n",
    "The first time that an instance of `H5Data(fil)` is created the log will be cached as `[cache_dire]/log.feather`.\n",
    "\n",
    "An update of the log can be forced at any time using the method `H5Data.update_log()`."
   ]
  },
  {
   "cell_type": "code",
   "execution_count": 4,
   "metadata": {},
   "outputs": [
    {
     "name": "stderr",
     "output_type": "stream",
     "text": [
      "100%|██████████████████████████████████████████████████████████████████████████████████| 6/6 [00:00<00:00, 2006.04it/s]\n"
     ]
    },
    {
     "name": "stdout",
     "output_type": "stream",
     "text": [
      "Wall time: 17 ms\n"
     ]
    }
   ],
   "source": [
    "# update log\n",
    "%time data.update_log(cache=False)"
   ]
  },
  {
   "cell_type": "code",
   "execution_count": 7,
   "metadata": {},
   "outputs": [
    {
     "name": "stderr",
     "output_type": "stream",
     "text": [
      "100%|██████████████████████████████████████████████████████████████████████████████████| 6/6 [00:00<00:00, 2006.04it/s]\n"
     ]
    },
    {
     "name": "stdout",
     "output_type": "stream",
     "text": [
      "Wall time: 15 ms\n"
     ]
    }
   ],
   "source": [
    "# also update cached version (default behaviour)\n",
    "%time data.update_log(cache=True)"
   ]
  },
  {
   "cell_type": "code",
   "execution_count": 9,
   "metadata": {},
   "outputs": [
    {
     "name": "stdout",
     "output_type": "stream",
     "text": [
      "Wall time: 2.98 ms\n"
     ]
    },
    {
     "data": {
      "text/html": [
       "<div>\n",
       "<style scoped>\n",
       "    .dataframe tbody tr th:only-of-type {\n",
       "        vertical-align: middle;\n",
       "    }\n",
       "\n",
       "    .dataframe tbody tr th {\n",
       "        vertical-align: top;\n",
       "    }\n",
       "\n",
       "    .dataframe thead th {\n",
       "        text-align: right;\n",
       "    }\n",
       "</style>\n",
       "<table border=\"1\" class=\"dataframe\">\n",
       "  <thead>\n",
       "    <tr style=\"text-align: right;\">\n",
       "      <th></th>\n",
       "      <th>ACQUIRE</th>\n",
       "      <th>DATETIME</th>\n",
       "      <th>END</th>\n",
       "      <th>ERROR</th>\n",
       "      <th>LOOP</th>\n",
       "      <th>OVERRIDE</th>\n",
       "      <th>START</th>\n",
       "      <th>VAR:PAUSE</th>\n",
       "    </tr>\n",
       "    <tr>\n",
       "      <th>squid</th>\n",
       "      <th></th>\n",
       "      <th></th>\n",
       "      <th></th>\n",
       "      <th></th>\n",
       "      <th></th>\n",
       "      <th></th>\n",
       "      <th></th>\n",
       "      <th></th>\n",
       "    </tr>\n",
       "  </thead>\n",
       "  <tbody>\n",
       "    <tr>\n",
       "      <th>1</th>\n",
       "      <td>10.036975</td>\n",
       "      <td>2017-12-01 15:41:22</td>\n",
       "      <td>3.594988e+09</td>\n",
       "      <td>0</td>\n",
       "      <td>1</td>\n",
       "      <td>0</td>\n",
       "      <td>3.594988e+09</td>\n",
       "      <td>300</td>\n",
       "    </tr>\n",
       "    <tr>\n",
       "      <th>2</th>\n",
       "      <td>10.021719</td>\n",
       "      <td>2017-12-01 15:41:33</td>\n",
       "      <td>3.594988e+09</td>\n",
       "      <td>0</td>\n",
       "      <td>1</td>\n",
       "      <td>0</td>\n",
       "      <td>3.594988e+09</td>\n",
       "      <td>600</td>\n",
       "    </tr>\n",
       "    <tr>\n",
       "      <th>3</th>\n",
       "      <td>10.034403</td>\n",
       "      <td>2017-12-01 15:41:45</td>\n",
       "      <td>3.594988e+09</td>\n",
       "      <td>0</td>\n",
       "      <td>1</td>\n",
       "      <td>0</td>\n",
       "      <td>3.594988e+09</td>\n",
       "      <td>900</td>\n",
       "    </tr>\n",
       "    <tr>\n",
       "      <th>4</th>\n",
       "      <td>10.022052</td>\n",
       "      <td>2017-12-01 15:41:55</td>\n",
       "      <td>3.594988e+09</td>\n",
       "      <td>0</td>\n",
       "      <td>2</td>\n",
       "      <td>0</td>\n",
       "      <td>3.594988e+09</td>\n",
       "      <td>300</td>\n",
       "    </tr>\n",
       "    <tr>\n",
       "      <th>5</th>\n",
       "      <td>10.027435</td>\n",
       "      <td>2017-12-01 15:42:06</td>\n",
       "      <td>3.594988e+09</td>\n",
       "      <td>0</td>\n",
       "      <td>2</td>\n",
       "      <td>0</td>\n",
       "      <td>3.594988e+09</td>\n",
       "      <td>600</td>\n",
       "    </tr>\n",
       "    <tr>\n",
       "      <th>6</th>\n",
       "      <td>10.027131</td>\n",
       "      <td>2017-12-01 15:42:18</td>\n",
       "      <td>3.594988e+09</td>\n",
       "      <td>0</td>\n",
       "      <td>2</td>\n",
       "      <td>0</td>\n",
       "      <td>3.594988e+09</td>\n",
       "      <td>900</td>\n",
       "    </tr>\n",
       "  </tbody>\n",
       "</table>\n",
       "</div>"
      ],
      "text/plain": [
       "         ACQUIRE            DATETIME           END  ERROR  LOOP  OVERRIDE  \\\n",
       "squid                                                                       \n",
       "1      10.036975 2017-12-01 15:41:22  3.594988e+09      0     1         0   \n",
       "2      10.021719 2017-12-01 15:41:33  3.594988e+09      0     1         0   \n",
       "3      10.034403 2017-12-01 15:41:45  3.594988e+09      0     1         0   \n",
       "4      10.022052 2017-12-01 15:41:55  3.594988e+09      0     2         0   \n",
       "5      10.027435 2017-12-01 15:42:06  3.594988e+09      0     2         0   \n",
       "6      10.027131 2017-12-01 15:42:18  3.594988e+09      0     2         0   \n",
       "\n",
       "              START  VAR:PAUSE  \n",
       "squid                           \n",
       "1      3.594988e+09        300  \n",
       "2      3.594988e+09        600  \n",
       "3      3.594988e+09        900  \n",
       "4      3.594988e+09        300  \n",
       "5      3.594988e+09        600  \n",
       "6      3.594988e+09        900  "
      ]
     },
     "execution_count": 9,
     "metadata": {},
     "output_type": "execute_result"
    }
   ],
   "source": [
    "# read log from cache\n",
    "%time data.load_log()"
   ]
  },
  {
   "cell_type": "code",
   "execution_count": 10,
   "metadata": {},
   "outputs": [
    {
     "data": {
      "text/plain": [
       "'C:\\\\Users\\\\Adam\\\\Documents\\\\Git\\\\e11_analysis\\\\notebooks\\\\example_data\\\\analysis\\\\cache\\\\log.feather'"
      ]
     },
     "execution_count": 10,
     "metadata": {},
     "output_type": "execute_result"
    }
   ],
   "source": [
    "data.log_file"
   ]
  },
  {
   "cell_type": "code",
   "execution_count": 12,
   "metadata": {},
   "outputs": [
    {
     "name": "stdout",
     "output_type": "stream",
     "text": [
      "Wall time: 2.99 ms\n"
     ]
    },
    {
     "data": {
      "text/html": [
       "<div>\n",
       "<style scoped>\n",
       "    .dataframe tbody tr th:only-of-type {\n",
       "        vertical-align: middle;\n",
       "    }\n",
       "\n",
       "    .dataframe tbody tr th {\n",
       "        vertical-align: top;\n",
       "    }\n",
       "\n",
       "    .dataframe thead th {\n",
       "        text-align: right;\n",
       "    }\n",
       "</style>\n",
       "<table border=\"1\" class=\"dataframe\">\n",
       "  <thead>\n",
       "    <tr style=\"text-align: right;\">\n",
       "      <th></th>\n",
       "      <th>ACQUIRE</th>\n",
       "      <th>DATETIME</th>\n",
       "      <th>END</th>\n",
       "      <th>ERROR</th>\n",
       "      <th>LOOP</th>\n",
       "      <th>OVERRIDE</th>\n",
       "      <th>START</th>\n",
       "      <th>VAR:PAUSE</th>\n",
       "    </tr>\n",
       "    <tr>\n",
       "      <th>squid</th>\n",
       "      <th></th>\n",
       "      <th></th>\n",
       "      <th></th>\n",
       "      <th></th>\n",
       "      <th></th>\n",
       "      <th></th>\n",
       "      <th></th>\n",
       "      <th></th>\n",
       "    </tr>\n",
       "  </thead>\n",
       "  <tbody>\n",
       "    <tr>\n",
       "      <th>1</th>\n",
       "      <td>10.036975</td>\n",
       "      <td>2017-12-01 15:41:22</td>\n",
       "      <td>3.594988e+09</td>\n",
       "      <td>0</td>\n",
       "      <td>1</td>\n",
       "      <td>0</td>\n",
       "      <td>3.594988e+09</td>\n",
       "      <td>300</td>\n",
       "    </tr>\n",
       "    <tr>\n",
       "      <th>2</th>\n",
       "      <td>10.021719</td>\n",
       "      <td>2017-12-01 15:41:33</td>\n",
       "      <td>3.594988e+09</td>\n",
       "      <td>0</td>\n",
       "      <td>1</td>\n",
       "      <td>0</td>\n",
       "      <td>3.594988e+09</td>\n",
       "      <td>600</td>\n",
       "    </tr>\n",
       "    <tr>\n",
       "      <th>3</th>\n",
       "      <td>10.034403</td>\n",
       "      <td>2017-12-01 15:41:45</td>\n",
       "      <td>3.594988e+09</td>\n",
       "      <td>0</td>\n",
       "      <td>1</td>\n",
       "      <td>0</td>\n",
       "      <td>3.594988e+09</td>\n",
       "      <td>900</td>\n",
       "    </tr>\n",
       "    <tr>\n",
       "      <th>4</th>\n",
       "      <td>10.022052</td>\n",
       "      <td>2017-12-01 15:41:55</td>\n",
       "      <td>3.594988e+09</td>\n",
       "      <td>0</td>\n",
       "      <td>2</td>\n",
       "      <td>0</td>\n",
       "      <td>3.594988e+09</td>\n",
       "      <td>300</td>\n",
       "    </tr>\n",
       "    <tr>\n",
       "      <th>5</th>\n",
       "      <td>10.027435</td>\n",
       "      <td>2017-12-01 15:42:06</td>\n",
       "      <td>3.594988e+09</td>\n",
       "      <td>0</td>\n",
       "      <td>2</td>\n",
       "      <td>0</td>\n",
       "      <td>3.594988e+09</td>\n",
       "      <td>600</td>\n",
       "    </tr>\n",
       "    <tr>\n",
       "      <th>6</th>\n",
       "      <td>10.027131</td>\n",
       "      <td>2017-12-01 15:42:18</td>\n",
       "      <td>3.594988e+09</td>\n",
       "      <td>0</td>\n",
       "      <td>2</td>\n",
       "      <td>0</td>\n",
       "      <td>3.594988e+09</td>\n",
       "      <td>900</td>\n",
       "    </tr>\n",
       "  </tbody>\n",
       "</table>\n",
       "</div>"
      ],
      "text/plain": [
       "         ACQUIRE            DATETIME           END  ERROR  LOOP  OVERRIDE  \\\n",
       "squid                                                                       \n",
       "1      10.036975 2017-12-01 15:41:22  3.594988e+09      0     1         0   \n",
       "2      10.021719 2017-12-01 15:41:33  3.594988e+09      0     1         0   \n",
       "3      10.034403 2017-12-01 15:41:45  3.594988e+09      0     1         0   \n",
       "4      10.022052 2017-12-01 15:41:55  3.594988e+09      0     2         0   \n",
       "5      10.027435 2017-12-01 15:42:06  3.594988e+09      0     2         0   \n",
       "6      10.027131 2017-12-01 15:42:18  3.594988e+09      0     2         0   \n",
       "\n",
       "              START  VAR:PAUSE  \n",
       "squid                           \n",
       "1      3.594988e+09        300  \n",
       "2      3.594988e+09        600  \n",
       "3      3.594988e+09        900  \n",
       "4      3.594988e+09        300  \n",
       "5      3.594988e+09        600  \n",
       "6      3.594988e+09        900  "
      ]
     },
     "execution_count": 12,
     "metadata": {},
     "output_type": "execute_result"
    }
   ],
   "source": [
    "# explicit read\n",
    "import pyarrow.feather as feather\n",
    "%time feather.read_feather(data.log_file).set_index(\"squid\")"
   ]
  },
  {
   "cell_type": "markdown",
   "metadata": {},
   "source": [
    "## `array()`, `df()` and `apply()`\n",
    "\n",
    "Caching is also available for the methods: `array()`, `df()`, and `apply()`. It is enabled by setting the name of the `cache`.\n",
    "\n",
    "This pickles the python objects with a dictionary of metadata (will probably switch to a more portable format in future)."
   ]
  },
  {
   "cell_type": "code",
   "execution_count": 13,
   "metadata": {},
   "outputs": [
    {
     "name": "stderr",
     "output_type": "stream",
     "text": [
      "100%|███████████████████████████████████████████████████████████████████████████████████| 6/6 [00:00<00:00, 376.00it/s]\n"
     ]
    },
    {
     "name": "stdout",
     "output_type": "stream",
     "text": [
      "Wall time: 30.9 ms\n"
     ]
    },
    {
     "data": {
      "text/html": [
       "<div>\n",
       "<style scoped>\n",
       "    .dataframe tbody tr th:only-of-type {\n",
       "        vertical-align: middle;\n",
       "    }\n",
       "\n",
       "    .dataframe tbody tr th {\n",
       "        vertical-align: top;\n",
       "    }\n",
       "\n",
       "    .dataframe thead th {\n",
       "        text-align: right;\n",
       "    }\n",
       "</style>\n",
       "<table border=\"1\" class=\"dataframe\">\n",
       "  <thead>\n",
       "    <tr style=\"text-align: right;\">\n",
       "      <th></th>\n",
       "      <th></th>\n",
       "      <th>AB</th>\n",
       "      <th>CD</th>\n",
       "      <th>EF</th>\n",
       "    </tr>\n",
       "    <tr>\n",
       "      <th>squid</th>\n",
       "      <th>measurement</th>\n",
       "      <th></th>\n",
       "      <th></th>\n",
       "      <th></th>\n",
       "    </tr>\n",
       "  </thead>\n",
       "  <tbody>\n",
       "    <tr>\n",
       "      <th rowspan=\"5\" valign=\"top\">1</th>\n",
       "      <th>0</th>\n",
       "      <td>0.983765</td>\n",
       "      <td>0.984008</td>\n",
       "      <td>0.004351</td>\n",
       "    </tr>\n",
       "    <tr>\n",
       "      <th>1</th>\n",
       "      <td>0.984163</td>\n",
       "      <td>0.984424</td>\n",
       "      <td>0.004799</td>\n",
       "    </tr>\n",
       "    <tr>\n",
       "      <th>2</th>\n",
       "      <td>0.983991</td>\n",
       "      <td>0.984383</td>\n",
       "      <td>0.004606</td>\n",
       "    </tr>\n",
       "    <tr>\n",
       "      <th>3</th>\n",
       "      <td>0.983983</td>\n",
       "      <td>0.984222</td>\n",
       "      <td>0.004568</td>\n",
       "    </tr>\n",
       "    <tr>\n",
       "      <th>4</th>\n",
       "      <td>0.983856</td>\n",
       "      <td>0.984048</td>\n",
       "      <td>0.004349</td>\n",
       "    </tr>\n",
       "  </tbody>\n",
       "</table>\n",
       "</div>"
      ],
      "text/plain": [
       "                         AB        CD        EF\n",
       "squid measurement                              \n",
       "1     0            0.983765  0.984008  0.004351\n",
       "      1            0.984163  0.984424  0.004799\n",
       "      2            0.983991  0.984383  0.004606\n",
       "      3            0.983983  0.984222  0.004568\n",
       "      4            0.983856  0.984048  0.004349"
      ]
     },
     "execution_count": 13,
     "metadata": {},
     "output_type": "execute_result"
    }
   ],
   "source": [
    "# First call of data.df(). Data is read from the hdf5 file.\n",
    "%time av = data.df(data.squids, 'AV_0', ignore_missing=False, \\\n",
    "                   cache=\"av_0\", update_cache=True)\n",
    "av.head()"
   ]
  },
  {
   "cell_type": "markdown",
   "metadata": {},
   "source": [
    "Future calls of same method with the same cache name will return the cached result."
   ]
  },
  {
   "cell_type": "code",
   "execution_count": 14,
   "metadata": {},
   "outputs": [
    {
     "name": "stdout",
     "output_type": "stream",
     "text": [
      "Wall time: 2.97 ms\n"
     ]
    },
    {
     "data": {
      "text/html": [
       "<div>\n",
       "<style scoped>\n",
       "    .dataframe tbody tr th:only-of-type {\n",
       "        vertical-align: middle;\n",
       "    }\n",
       "\n",
       "    .dataframe tbody tr th {\n",
       "        vertical-align: top;\n",
       "    }\n",
       "\n",
       "    .dataframe thead th {\n",
       "        text-align: right;\n",
       "    }\n",
       "</style>\n",
       "<table border=\"1\" class=\"dataframe\">\n",
       "  <thead>\n",
       "    <tr style=\"text-align: right;\">\n",
       "      <th></th>\n",
       "      <th></th>\n",
       "      <th>AB</th>\n",
       "      <th>CD</th>\n",
       "      <th>EF</th>\n",
       "    </tr>\n",
       "    <tr>\n",
       "      <th>squid</th>\n",
       "      <th>measurement</th>\n",
       "      <th></th>\n",
       "      <th></th>\n",
       "      <th></th>\n",
       "    </tr>\n",
       "  </thead>\n",
       "  <tbody>\n",
       "    <tr>\n",
       "      <th rowspan=\"5\" valign=\"top\">1</th>\n",
       "      <th>0</th>\n",
       "      <td>0.983765</td>\n",
       "      <td>0.984008</td>\n",
       "      <td>0.004351</td>\n",
       "    </tr>\n",
       "    <tr>\n",
       "      <th>1</th>\n",
       "      <td>0.984163</td>\n",
       "      <td>0.984424</td>\n",
       "      <td>0.004799</td>\n",
       "    </tr>\n",
       "    <tr>\n",
       "      <th>2</th>\n",
       "      <td>0.983991</td>\n",
       "      <td>0.984383</td>\n",
       "      <td>0.004606</td>\n",
       "    </tr>\n",
       "    <tr>\n",
       "      <th>3</th>\n",
       "      <td>0.983983</td>\n",
       "      <td>0.984222</td>\n",
       "      <td>0.004568</td>\n",
       "    </tr>\n",
       "    <tr>\n",
       "      <th>4</th>\n",
       "      <td>0.983856</td>\n",
       "      <td>0.984048</td>\n",
       "      <td>0.004349</td>\n",
       "    </tr>\n",
       "  </tbody>\n",
       "</table>\n",
       "</div>"
      ],
      "text/plain": [
       "                         AB        CD        EF\n",
       "squid measurement                              \n",
       "1     0            0.983765  0.984008  0.004351\n",
       "      1            0.984163  0.984424  0.004799\n",
       "      2            0.983991  0.984383  0.004606\n",
       "      3            0.983983  0.984222  0.004568\n",
       "      4            0.983856  0.984048  0.004349"
      ]
     },
     "execution_count": 14,
     "metadata": {},
     "output_type": "execute_result"
    }
   ],
   "source": [
    "# Next call of data.df(). Data is loaded from the cache (quicker).\n",
    "%time av = data.df(data.squids, 'AV_0', ignore_missing=False, \\\n",
    "                   cache=\"av_0\")\n",
    "av.head()"
   ]
  },
  {
   "cell_type": "markdown",
   "metadata": {},
   "source": [
    " To force an overwrite of an existing cache, call the method with  `update_cache=True`."
   ]
  },
  {
   "cell_type": "code",
   "execution_count": 15,
   "metadata": {},
   "outputs": [
    {
     "name": "stderr",
     "output_type": "stream",
     "text": [
      "100%|███████████████████████████████████████████████████████████████████████████████████| 6/6 [00:00<00:00, 546.90it/s]\n"
     ]
    },
    {
     "name": "stdout",
     "output_type": "stream",
     "text": [
      "Wall time: 25.9 ms\n"
     ]
    },
    {
     "data": {
      "text/html": [
       "<div>\n",
       "<style scoped>\n",
       "    .dataframe tbody tr th:only-of-type {\n",
       "        vertical-align: middle;\n",
       "    }\n",
       "\n",
       "    .dataframe tbody tr th {\n",
       "        vertical-align: top;\n",
       "    }\n",
       "\n",
       "    .dataframe thead th {\n",
       "        text-align: right;\n",
       "    }\n",
       "</style>\n",
       "<table border=\"1\" class=\"dataframe\">\n",
       "  <thead>\n",
       "    <tr style=\"text-align: right;\">\n",
       "      <th></th>\n",
       "      <th></th>\n",
       "      <th>AB</th>\n",
       "      <th>CD</th>\n",
       "      <th>EF</th>\n",
       "    </tr>\n",
       "    <tr>\n",
       "      <th>squid</th>\n",
       "      <th>measurement</th>\n",
       "      <th></th>\n",
       "      <th></th>\n",
       "      <th></th>\n",
       "    </tr>\n",
       "  </thead>\n",
       "  <tbody>\n",
       "    <tr>\n",
       "      <th rowspan=\"5\" valign=\"top\">1</th>\n",
       "      <th>0</th>\n",
       "      <td>0.983765</td>\n",
       "      <td>0.984008</td>\n",
       "      <td>0.004351</td>\n",
       "    </tr>\n",
       "    <tr>\n",
       "      <th>1</th>\n",
       "      <td>0.984163</td>\n",
       "      <td>0.984424</td>\n",
       "      <td>0.004799</td>\n",
       "    </tr>\n",
       "    <tr>\n",
       "      <th>2</th>\n",
       "      <td>0.983991</td>\n",
       "      <td>0.984383</td>\n",
       "      <td>0.004606</td>\n",
       "    </tr>\n",
       "    <tr>\n",
       "      <th>3</th>\n",
       "      <td>0.983983</td>\n",
       "      <td>0.984222</td>\n",
       "      <td>0.004568</td>\n",
       "    </tr>\n",
       "    <tr>\n",
       "      <th>4</th>\n",
       "      <td>0.983856</td>\n",
       "      <td>0.984048</td>\n",
       "      <td>0.004349</td>\n",
       "    </tr>\n",
       "  </tbody>\n",
       "</table>\n",
       "</div>"
      ],
      "text/plain": [
       "                         AB        CD        EF\n",
       "squid measurement                              \n",
       "1     0            0.983765  0.984008  0.004351\n",
       "      1            0.984163  0.984424  0.004799\n",
       "      2            0.983991  0.984383  0.004606\n",
       "      3            0.983983  0.984222  0.004568\n",
       "      4            0.983856  0.984048  0.004349"
      ]
     },
     "execution_count": 15,
     "metadata": {},
     "output_type": "execute_result"
    }
   ],
   "source": [
    "%time av, info = data.df(data.squids, 'AV_0', ignore_missing=False, \\\n",
    "                         cache=\"av_0\", get_info=True, update_cache=True)\n",
    "av.head()"
   ]
  },
  {
   "cell_type": "markdown",
   "metadata": {},
   "source": [
    "With `get_info=True`, the metadata about the method call (e.g., args and kwargs values) are also returned."
   ]
  },
  {
   "cell_type": "code",
   "execution_count": 16,
   "metadata": {},
   "outputs": [
    {
     "name": "stdout",
     "output_type": "stream",
     "text": [
      "{'cache': 'C:\\\\Users\\\\Adam\\\\Documents\\\\Git\\\\e11_analysis\\\\notebooks\\\\example_data\\\\analysis\\\\cache\\\\av_0.df.pkl',\n",
      " 'dataset': 'AV_0',\n",
      " 'datetime': '2019-08-14 13:51:09',\n",
      " 'ignore_missing': False,\n",
      " 'method': 'df',\n",
      " 'self': 'H5Data',\n",
      " 'squids': array([1, 2, 3, 4, 5, 6])}\n"
     ]
    }
   ],
   "source": [
    "pprint(info)"
   ]
  },
  {
   "cell_type": "markdown",
   "metadata": {},
   "source": [
    "## cache location\n",
    "\n",
    "Rather than using `H5Data.cache_dire`, it's possible to set an absolute path for the cache name. E.g.,"
   ]
  },
  {
   "cell_type": "code",
   "execution_count": 17,
   "metadata": {},
   "outputs": [
    {
     "data": {
      "text/html": [
       "<div>\n",
       "<style scoped>\n",
       "    .dataframe tbody tr th:only-of-type {\n",
       "        vertical-align: middle;\n",
       "    }\n",
       "\n",
       "    .dataframe tbody tr th {\n",
       "        vertical-align: top;\n",
       "    }\n",
       "\n",
       "    .dataframe thead th {\n",
       "        text-align: right;\n",
       "    }\n",
       "</style>\n",
       "<table border=\"1\" class=\"dataframe\">\n",
       "  <thead>\n",
       "    <tr style=\"text-align: right;\">\n",
       "      <th></th>\n",
       "      <th></th>\n",
       "      <th>AB</th>\n",
       "      <th>CD</th>\n",
       "      <th>EF</th>\n",
       "    </tr>\n",
       "    <tr>\n",
       "      <th>squid</th>\n",
       "      <th>measurement</th>\n",
       "      <th></th>\n",
       "      <th></th>\n",
       "      <th></th>\n",
       "    </tr>\n",
       "  </thead>\n",
       "  <tbody>\n",
       "    <tr>\n",
       "      <th rowspan=\"5\" valign=\"top\">1</th>\n",
       "      <th>0</th>\n",
       "      <td>0.983765</td>\n",
       "      <td>0.984008</td>\n",
       "      <td>0.004351</td>\n",
       "    </tr>\n",
       "    <tr>\n",
       "      <th>1</th>\n",
       "      <td>0.984163</td>\n",
       "      <td>0.984424</td>\n",
       "      <td>0.004799</td>\n",
       "    </tr>\n",
       "    <tr>\n",
       "      <th>2</th>\n",
       "      <td>0.983991</td>\n",
       "      <td>0.984383</td>\n",
       "      <td>0.004606</td>\n",
       "    </tr>\n",
       "    <tr>\n",
       "      <th>3</th>\n",
       "      <td>0.983983</td>\n",
       "      <td>0.984222</td>\n",
       "      <td>0.004568</td>\n",
       "    </tr>\n",
       "    <tr>\n",
       "      <th>4</th>\n",
       "      <td>0.983856</td>\n",
       "      <td>0.984048</td>\n",
       "      <td>0.004349</td>\n",
       "    </tr>\n",
       "  </tbody>\n",
       "</table>\n",
       "</div>"
      ],
      "text/plain": [
       "                         AB        CD        EF\n",
       "squid measurement                              \n",
       "1     0            0.983765  0.984008  0.004351\n",
       "      1            0.984163  0.984424  0.004799\n",
       "      2            0.983991  0.984383  0.004606\n",
       "      3            0.983983  0.984222  0.004568\n",
       "      4            0.983856  0.984048  0.004349"
      ]
     },
     "execution_count": 17,
     "metadata": {},
     "output_type": "execute_result"
    }
   ],
   "source": [
    "cache_file = os.path.join(os.path.expanduser(\"~\"), 'test.pkl')\n",
    "av = data.df(data.squids, 'AV_0', ignore_missing=False, cache=cache_file)\n",
    "av.head()"
   ]
  },
  {
   "cell_type": "markdown",
   "metadata": {},
   "source": [
    "Or explicitly set the `cache_dire` instead."
   ]
  },
  {
   "cell_type": "code",
   "execution_count": 18,
   "metadata": {},
   "outputs": [
    {
     "data": {
      "text/html": [
       "<div>\n",
       "<style scoped>\n",
       "    .dataframe tbody tr th:only-of-type {\n",
       "        vertical-align: middle;\n",
       "    }\n",
       "\n",
       "    .dataframe tbody tr th {\n",
       "        vertical-align: top;\n",
       "    }\n",
       "\n",
       "    .dataframe thead th {\n",
       "        text-align: right;\n",
       "    }\n",
       "</style>\n",
       "<table border=\"1\" class=\"dataframe\">\n",
       "  <thead>\n",
       "    <tr style=\"text-align: right;\">\n",
       "      <th></th>\n",
       "      <th></th>\n",
       "      <th>AB</th>\n",
       "      <th>CD</th>\n",
       "      <th>EF</th>\n",
       "    </tr>\n",
       "    <tr>\n",
       "      <th>squid</th>\n",
       "      <th>measurement</th>\n",
       "      <th></th>\n",
       "      <th></th>\n",
       "      <th></th>\n",
       "    </tr>\n",
       "  </thead>\n",
       "  <tbody>\n",
       "    <tr>\n",
       "      <th rowspan=\"5\" valign=\"top\">1</th>\n",
       "      <th>0</th>\n",
       "      <td>0.983765</td>\n",
       "      <td>0.984008</td>\n",
       "      <td>0.004351</td>\n",
       "    </tr>\n",
       "    <tr>\n",
       "      <th>1</th>\n",
       "      <td>0.984163</td>\n",
       "      <td>0.984424</td>\n",
       "      <td>0.004799</td>\n",
       "    </tr>\n",
       "    <tr>\n",
       "      <th>2</th>\n",
       "      <td>0.983991</td>\n",
       "      <td>0.984383</td>\n",
       "      <td>0.004606</td>\n",
       "    </tr>\n",
       "    <tr>\n",
       "      <th>3</th>\n",
       "      <td>0.983983</td>\n",
       "      <td>0.984222</td>\n",
       "      <td>0.004568</td>\n",
       "    </tr>\n",
       "    <tr>\n",
       "      <th>4</th>\n",
       "      <td>0.983856</td>\n",
       "      <td>0.984048</td>\n",
       "      <td>0.004349</td>\n",
       "    </tr>\n",
       "  </tbody>\n",
       "</table>\n",
       "</div>"
      ],
      "text/plain": [
       "                         AB        CD        EF\n",
       "squid measurement                              \n",
       "1     0            0.983765  0.984008  0.004351\n",
       "      1            0.984163  0.984424  0.004799\n",
       "      2            0.983991  0.984383  0.004606\n",
       "      3            0.983983  0.984222  0.004568\n",
       "      4            0.983856  0.984048  0.004349"
      ]
     },
     "execution_count": 18,
     "metadata": {},
     "output_type": "execute_result"
    }
   ],
   "source": [
    "dire = os.path.expanduser(\"~\")\n",
    "av = data.df(data.squids, 'AV_0', ignore_missing=False, cache_dire=dire, cache='test2.pkl')\n",
    "av.head()"
   ]
  },
  {
   "cell_type": "markdown",
   "metadata": {},
   "source": [
    "## access the cache\n",
    "\n",
    "Reading from the cache is automatic for calls of a compatible method with an existing cache file.  However, cache files are simply a pickle of the method result, and can be read manually.\n",
    "\n",
    "To read the contents of the cache directory,"
   ]
  },
  {
   "cell_type": "code",
   "execution_count": 19,
   "metadata": {},
   "outputs": [],
   "source": [
    "from e11.tools import ls"
   ]
  },
  {
   "cell_type": "code",
   "execution_count": 20,
   "metadata": {},
   "outputs": [
    {
     "name": "stdout",
     "output_type": "stream",
     "text": [
      "['C:\\\\Users\\\\Adam\\\\Documents\\\\Git\\\\e11_analysis\\\\notebooks\\\\example_data\\\\analysis\\\\cache\\\\av_0.df.pkl']\n"
     ]
    }
   ],
   "source": [
    "fils = ls(data.cache_dire, regex=\"*.df.pkl\")\n",
    "pprint(fils)"
   ]
  },
  {
   "cell_type": "code",
   "execution_count": 21,
   "metadata": {},
   "outputs": [
    {
     "name": "stdout",
     "output_type": "stream",
     "text": [
      "Wall time: 2 ms\n",
      "{'dataset': 'AV_0',\n",
      " 'datetime': '2019-08-14 13:51:09',\n",
      " 'ignore_missing': False,\n",
      " 'method': 'df',\n",
      " 'self': 'H5Data',\n",
      " 'squids': array([1, 2, 3, 4, 5, 6])}\n"
     ]
    }
   ],
   "source": [
    "%time result, info = pd.read_pickle(fils[0])\n",
    "pprint(info)"
   ]
  },
  {
   "cell_type": "code",
   "execution_count": 22,
   "metadata": {},
   "outputs": [
    {
     "data": {
      "text/html": [
       "<div>\n",
       "<style scoped>\n",
       "    .dataframe tbody tr th:only-of-type {\n",
       "        vertical-align: middle;\n",
       "    }\n",
       "\n",
       "    .dataframe tbody tr th {\n",
       "        vertical-align: top;\n",
       "    }\n",
       "\n",
       "    .dataframe thead th {\n",
       "        text-align: right;\n",
       "    }\n",
       "</style>\n",
       "<table border=\"1\" class=\"dataframe\">\n",
       "  <thead>\n",
       "    <tr style=\"text-align: right;\">\n",
       "      <th></th>\n",
       "      <th></th>\n",
       "      <th>AB</th>\n",
       "      <th>CD</th>\n",
       "      <th>EF</th>\n",
       "    </tr>\n",
       "    <tr>\n",
       "      <th>squid</th>\n",
       "      <th>measurement</th>\n",
       "      <th></th>\n",
       "      <th></th>\n",
       "      <th></th>\n",
       "    </tr>\n",
       "  </thead>\n",
       "  <tbody>\n",
       "    <tr>\n",
       "      <th rowspan=\"5\" valign=\"top\">1</th>\n",
       "      <th>0</th>\n",
       "      <td>0.983765</td>\n",
       "      <td>0.984008</td>\n",
       "      <td>0.004351</td>\n",
       "    </tr>\n",
       "    <tr>\n",
       "      <th>1</th>\n",
       "      <td>0.984163</td>\n",
       "      <td>0.984424</td>\n",
       "      <td>0.004799</td>\n",
       "    </tr>\n",
       "    <tr>\n",
       "      <th>2</th>\n",
       "      <td>0.983991</td>\n",
       "      <td>0.984383</td>\n",
       "      <td>0.004606</td>\n",
       "    </tr>\n",
       "    <tr>\n",
       "      <th>3</th>\n",
       "      <td>0.983983</td>\n",
       "      <td>0.984222</td>\n",
       "      <td>0.004568</td>\n",
       "    </tr>\n",
       "    <tr>\n",
       "      <th>4</th>\n",
       "      <td>0.983856</td>\n",
       "      <td>0.984048</td>\n",
       "      <td>0.004349</td>\n",
       "    </tr>\n",
       "  </tbody>\n",
       "</table>\n",
       "</div>"
      ],
      "text/plain": [
       "                         AB        CD        EF\n",
       "squid measurement                              \n",
       "1     0            0.983765  0.984008  0.004351\n",
       "      1            0.984163  0.984424  0.004799\n",
       "      2            0.983991  0.984383  0.004606\n",
       "      3            0.983983  0.984222  0.004568\n",
       "      4            0.983856  0.984048  0.004349"
      ]
     },
     "execution_count": 22,
     "metadata": {},
     "output_type": "execute_result"
    }
   ],
   "source": [
    "result.head()"
   ]
  },
  {
   "cell_type": "markdown",
   "metadata": {},
   "source": [
    "Actually, saving / recalling any python object to / from the cache is pretty trivial."
   ]
  },
  {
   "cell_type": "code",
   "execution_count": 23,
   "metadata": {},
   "outputs": [
    {
     "data": {
      "text/html": [
       "<div>\n",
       "<style scoped>\n",
       "    .dataframe tbody tr th:only-of-type {\n",
       "        vertical-align: middle;\n",
       "    }\n",
       "\n",
       "    .dataframe tbody tr th {\n",
       "        vertical-align: top;\n",
       "    }\n",
       "\n",
       "    .dataframe thead tr th {\n",
       "        text-align: left;\n",
       "    }\n",
       "\n",
       "    .dataframe thead tr:last-of-type th {\n",
       "        text-align: right;\n",
       "    }\n",
       "</style>\n",
       "<table border=\"1\" class=\"dataframe\">\n",
       "  <thead>\n",
       "    <tr>\n",
       "      <th></th>\n",
       "      <th colspan=\"4\" halign=\"left\">AB</th>\n",
       "      <th colspan=\"4\" halign=\"left\">CD</th>\n",
       "      <th colspan=\"4\" halign=\"left\">EF</th>\n",
       "    </tr>\n",
       "    <tr>\n",
       "      <th></th>\n",
       "      <th>count</th>\n",
       "      <th>err</th>\n",
       "      <th>mean</th>\n",
       "      <th>std</th>\n",
       "      <th>count</th>\n",
       "      <th>err</th>\n",
       "      <th>mean</th>\n",
       "      <th>std</th>\n",
       "      <th>count</th>\n",
       "      <th>err</th>\n",
       "      <th>mean</th>\n",
       "      <th>std</th>\n",
       "    </tr>\n",
       "    <tr>\n",
       "      <th>squid</th>\n",
       "      <th></th>\n",
       "      <th></th>\n",
       "      <th></th>\n",
       "      <th></th>\n",
       "      <th></th>\n",
       "      <th></th>\n",
       "      <th></th>\n",
       "      <th></th>\n",
       "      <th></th>\n",
       "      <th></th>\n",
       "      <th></th>\n",
       "      <th></th>\n",
       "    </tr>\n",
       "  </thead>\n",
       "  <tbody>\n",
       "    <tr>\n",
       "      <th>1</th>\n",
       "      <td>25</td>\n",
       "      <td>0.000044</td>\n",
       "      <td>0.983988</td>\n",
       "      <td>0.000221</td>\n",
       "      <td>25</td>\n",
       "      <td>0.000055</td>\n",
       "      <td>0.984273</td>\n",
       "      <td>0.000276</td>\n",
       "      <td>25</td>\n",
       "      <td>0.000043</td>\n",
       "      <td>0.004603</td>\n",
       "      <td>0.000214</td>\n",
       "    </tr>\n",
       "    <tr>\n",
       "      <th>2</th>\n",
       "      <td>25</td>\n",
       "      <td>0.000059</td>\n",
       "      <td>0.984423</td>\n",
       "      <td>0.000297</td>\n",
       "      <td>25</td>\n",
       "      <td>0.000058</td>\n",
       "      <td>0.984697</td>\n",
       "      <td>0.000289</td>\n",
       "      <td>25</td>\n",
       "      <td>0.000043</td>\n",
       "      <td>0.004871</td>\n",
       "      <td>0.000216</td>\n",
       "    </tr>\n",
       "    <tr>\n",
       "      <th>3</th>\n",
       "      <td>26</td>\n",
       "      <td>0.000044</td>\n",
       "      <td>0.984914</td>\n",
       "      <td>0.000225</td>\n",
       "      <td>26</td>\n",
       "      <td>0.000052</td>\n",
       "      <td>0.985240</td>\n",
       "      <td>0.000266</td>\n",
       "      <td>26</td>\n",
       "      <td>0.000049</td>\n",
       "      <td>0.004922</td>\n",
       "      <td>0.000251</td>\n",
       "    </tr>\n",
       "    <tr>\n",
       "      <th>4</th>\n",
       "      <td>25</td>\n",
       "      <td>0.000074</td>\n",
       "      <td>0.984682</td>\n",
       "      <td>0.000370</td>\n",
       "      <td>25</td>\n",
       "      <td>0.000082</td>\n",
       "      <td>0.984966</td>\n",
       "      <td>0.000409</td>\n",
       "      <td>25</td>\n",
       "      <td>0.000063</td>\n",
       "      <td>0.004794</td>\n",
       "      <td>0.000316</td>\n",
       "    </tr>\n",
       "    <tr>\n",
       "      <th>5</th>\n",
       "      <td>25</td>\n",
       "      <td>0.000077</td>\n",
       "      <td>0.984261</td>\n",
       "      <td>0.000385</td>\n",
       "      <td>25</td>\n",
       "      <td>0.000079</td>\n",
       "      <td>0.984565</td>\n",
       "      <td>0.000393</td>\n",
       "      <td>25</td>\n",
       "      <td>0.000060</td>\n",
       "      <td>0.004731</td>\n",
       "      <td>0.000302</td>\n",
       "    </tr>\n",
       "  </tbody>\n",
       "</table>\n",
       "</div>"
      ],
      "text/plain": [
       "         AB                                  CD                                \\\n",
       "      count       err      mean       std count       err      mean       std   \n",
       "squid                                                                           \n",
       "1        25  0.000044  0.983988  0.000221    25  0.000055  0.984273  0.000276   \n",
       "2        25  0.000059  0.984423  0.000297    25  0.000058  0.984697  0.000289   \n",
       "3        26  0.000044  0.984914  0.000225    26  0.000052  0.985240  0.000266   \n",
       "4        25  0.000074  0.984682  0.000370    25  0.000082  0.984966  0.000409   \n",
       "5        25  0.000077  0.984261  0.000385    25  0.000079  0.984565  0.000393   \n",
       "\n",
       "         EF                                \n",
       "      count       err      mean       std  \n",
       "squid                                      \n",
       "1        25  0.000043  0.004603  0.000214  \n",
       "2        25  0.000043  0.004871  0.000216  \n",
       "3        26  0.000049  0.004922  0.000251  \n",
       "4        25  0.000063  0.004794  0.000316  \n",
       "5        25  0.000060  0.004731  0.000302  "
      ]
     },
     "execution_count": 23,
     "metadata": {},
     "output_type": "execute_result"
    }
   ],
   "source": [
    "stats = statistics(av, groupby=\"squid\")\n",
    "stats.head()"
   ]
  },
  {
   "cell_type": "code",
   "execution_count": 24,
   "metadata": {},
   "outputs": [],
   "source": [
    "fname = \"stats.pkl\"\n",
    "fil = os.path.join(data.cache_dire, fname)\n",
    "pd.to_pickle(stats, fil)"
   ]
  },
  {
   "cell_type": "code",
   "execution_count": 25,
   "metadata": {},
   "outputs": [
    {
     "data": {
      "text/html": [
       "<div>\n",
       "<style scoped>\n",
       "    .dataframe tbody tr th:only-of-type {\n",
       "        vertical-align: middle;\n",
       "    }\n",
       "\n",
       "    .dataframe tbody tr th {\n",
       "        vertical-align: top;\n",
       "    }\n",
       "\n",
       "    .dataframe thead tr th {\n",
       "        text-align: left;\n",
       "    }\n",
       "\n",
       "    .dataframe thead tr:last-of-type th {\n",
       "        text-align: right;\n",
       "    }\n",
       "</style>\n",
       "<table border=\"1\" class=\"dataframe\">\n",
       "  <thead>\n",
       "    <tr>\n",
       "      <th></th>\n",
       "      <th colspan=\"4\" halign=\"left\">AB</th>\n",
       "      <th colspan=\"4\" halign=\"left\">CD</th>\n",
       "      <th colspan=\"4\" halign=\"left\">EF</th>\n",
       "    </tr>\n",
       "    <tr>\n",
       "      <th></th>\n",
       "      <th>count</th>\n",
       "      <th>err</th>\n",
       "      <th>mean</th>\n",
       "      <th>std</th>\n",
       "      <th>count</th>\n",
       "      <th>err</th>\n",
       "      <th>mean</th>\n",
       "      <th>std</th>\n",
       "      <th>count</th>\n",
       "      <th>err</th>\n",
       "      <th>mean</th>\n",
       "      <th>std</th>\n",
       "    </tr>\n",
       "    <tr>\n",
       "      <th>squid</th>\n",
       "      <th></th>\n",
       "      <th></th>\n",
       "      <th></th>\n",
       "      <th></th>\n",
       "      <th></th>\n",
       "      <th></th>\n",
       "      <th></th>\n",
       "      <th></th>\n",
       "      <th></th>\n",
       "      <th></th>\n",
       "      <th></th>\n",
       "      <th></th>\n",
       "    </tr>\n",
       "  </thead>\n",
       "  <tbody>\n",
       "    <tr>\n",
       "      <th>1</th>\n",
       "      <td>25</td>\n",
       "      <td>0.000044</td>\n",
       "      <td>0.983988</td>\n",
       "      <td>0.000221</td>\n",
       "      <td>25</td>\n",
       "      <td>0.000055</td>\n",
       "      <td>0.984273</td>\n",
       "      <td>0.000276</td>\n",
       "      <td>25</td>\n",
       "      <td>0.000043</td>\n",
       "      <td>0.004603</td>\n",
       "      <td>0.000214</td>\n",
       "    </tr>\n",
       "    <tr>\n",
       "      <th>2</th>\n",
       "      <td>25</td>\n",
       "      <td>0.000059</td>\n",
       "      <td>0.984423</td>\n",
       "      <td>0.000297</td>\n",
       "      <td>25</td>\n",
       "      <td>0.000058</td>\n",
       "      <td>0.984697</td>\n",
       "      <td>0.000289</td>\n",
       "      <td>25</td>\n",
       "      <td>0.000043</td>\n",
       "      <td>0.004871</td>\n",
       "      <td>0.000216</td>\n",
       "    </tr>\n",
       "    <tr>\n",
       "      <th>3</th>\n",
       "      <td>26</td>\n",
       "      <td>0.000044</td>\n",
       "      <td>0.984914</td>\n",
       "      <td>0.000225</td>\n",
       "      <td>26</td>\n",
       "      <td>0.000052</td>\n",
       "      <td>0.985240</td>\n",
       "      <td>0.000266</td>\n",
       "      <td>26</td>\n",
       "      <td>0.000049</td>\n",
       "      <td>0.004922</td>\n",
       "      <td>0.000251</td>\n",
       "    </tr>\n",
       "    <tr>\n",
       "      <th>4</th>\n",
       "      <td>25</td>\n",
       "      <td>0.000074</td>\n",
       "      <td>0.984682</td>\n",
       "      <td>0.000370</td>\n",
       "      <td>25</td>\n",
       "      <td>0.000082</td>\n",
       "      <td>0.984966</td>\n",
       "      <td>0.000409</td>\n",
       "      <td>25</td>\n",
       "      <td>0.000063</td>\n",
       "      <td>0.004794</td>\n",
       "      <td>0.000316</td>\n",
       "    </tr>\n",
       "    <tr>\n",
       "      <th>5</th>\n",
       "      <td>25</td>\n",
       "      <td>0.000077</td>\n",
       "      <td>0.984261</td>\n",
       "      <td>0.000385</td>\n",
       "      <td>25</td>\n",
       "      <td>0.000079</td>\n",
       "      <td>0.984565</td>\n",
       "      <td>0.000393</td>\n",
       "      <td>25</td>\n",
       "      <td>0.000060</td>\n",
       "      <td>0.004731</td>\n",
       "      <td>0.000302</td>\n",
       "    </tr>\n",
       "  </tbody>\n",
       "</table>\n",
       "</div>"
      ],
      "text/plain": [
       "         AB                                  CD                                \\\n",
       "      count       err      mean       std count       err      mean       std   \n",
       "squid                                                                           \n",
       "1        25  0.000044  0.983988  0.000221    25  0.000055  0.984273  0.000276   \n",
       "2        25  0.000059  0.984423  0.000297    25  0.000058  0.984697  0.000289   \n",
       "3        26  0.000044  0.984914  0.000225    26  0.000052  0.985240  0.000266   \n",
       "4        25  0.000074  0.984682  0.000370    25  0.000082  0.984966  0.000409   \n",
       "5        25  0.000077  0.984261  0.000385    25  0.000079  0.984565  0.000393   \n",
       "\n",
       "         EF                                \n",
       "      count       err      mean       std  \n",
       "squid                                      \n",
       "1        25  0.000043  0.004603  0.000214  \n",
       "2        25  0.000043  0.004871  0.000216  \n",
       "3        26  0.000049  0.004922  0.000251  \n",
       "4        25  0.000063  0.004794  0.000316  \n",
       "5        25  0.000060  0.004731  0.000302  "
      ]
     },
     "execution_count": 25,
     "metadata": {},
     "output_type": "execute_result"
    }
   ],
   "source": [
    "pd.read_pickle(fil).head()"
   ]
  },
  {
   "cell_type": "markdown",
   "metadata": {},
   "source": [
    "# Saving to out_dire\n",
    "\n",
    "`H5Data.out_dire` or `H5Scan.out_dire` is also useful for saving files that are related to the data, e.g., analysis results, notebooks or plots.\n",
    "\n",
    "To build paths to sub-directories of `out_dire` use the function `e11_tools.sub_dire()`."
   ]
  },
  {
   "cell_type": "code",
   "execution_count": 26,
   "metadata": {},
   "outputs": [],
   "source": [
    "from e11.tools import sub_dire"
   ]
  },
  {
   "cell_type": "code",
   "execution_count": 27,
   "metadata": {},
   "outputs": [
    {
     "data": {
      "image/png": "[encoded data removed]",
      "text/plain": [
       "<Figure size 432x288 with 1 Axes>"
      ]
     },
     "metadata": {
      "needs_background": "light"
     },
     "output_type": "display_data"
    }
   ],
   "source": [
    "fig, ax = plt.subplots()\n",
    "\n",
    "result.loc[1].plot(y=\"AB\", ax=ax)\n",
    "\n",
    "# output\n",
    "fil = sub_dire(data.out_dire, 'plots', fname='signal.png')\n",
    "plt.savefig(fil, bbox_inches=\"tight\", dpi=300)\n",
    "plt.show()"
   ]
  },
  {
   "cell_type": "code",
   "execution_count": 28,
   "metadata": {},
   "outputs": [],
   "source": [
    "# export notebook\n",
    "fil = sub_dire(data.out_dire, \"notebooks\", \"caching.ipynb\")\n",
    "%notebook $fil"
   ]
  },
  {
   "cell_type": "markdown",
   "metadata": {},
   "source": [
    "# Remote data, local cache\n",
    "\n",
    "You may use a remote server for your data but wish to use local storage for the cache.  E.g., for the fastest possible access to the cache, or because you don't have write access to the remote server.\n",
    "\n",
    "Assuming you have a run_id data structure:"
   ]
  },
  {
   "cell_type": "code",
   "execution_count": 29,
   "metadata": {},
   "outputs": [],
   "source": [
    "# data\n",
    "remote = r\"Q:\\E11_atmos\\scan_data\"\n",
    "rid = \"20190307_007\"\n",
    "fil = run_file(remote, rid, ftype=\"_scan.h5\")\n",
    "# output\n",
    "local = r\"C:\\Users\\Adam\\scan_data\"\n",
    "out_dire = run_dire(local, rid, \"analysis\", create=True)\n",
    "# connect to file\n",
    "scan = H5Scan(fil, out_dire=out_dire)"
   ]
  },
  {
   "cell_type": "code",
   "execution_count": 30,
   "metadata": {},
   "outputs": [
    {
     "data": {
      "text/plain": [
       "'Q:\\\\E11_atmos\\\\scan_data\\\\2019\\\\03\\\\07\\\\20190307_007\\\\20190307_007_scan.h5'"
      ]
     },
     "execution_count": 30,
     "metadata": {},
     "output_type": "execute_result"
    }
   ],
   "source": [
    "scan.fil"
   ]
  },
  {
   "cell_type": "code",
   "execution_count": 31,
   "metadata": {},
   "outputs": [
    {
     "data": {
      "text/plain": [
       "'C:\\\\Users\\\\Adam\\\\scan_data\\\\2019\\\\03\\\\07\\\\20190307_007\\\\analysis\\\\cache'"
      ]
     },
     "execution_count": 31,
     "metadata": {},
     "output_type": "execute_result"
    }
   ],
   "source": [
    "scan.cache_dire"
   ]
  },
  {
   "cell_type": "code",
   "execution_count": 32,
   "metadata": {},
   "outputs": [
    {
     "data": {
      "text/html": [
       "<div>\n",
       "<style scoped>\n",
       "    .dataframe tbody tr th:only-of-type {\n",
       "        vertical-align: middle;\n",
       "    }\n",
       "\n",
       "    .dataframe tbody tr th {\n",
       "        vertical-align: top;\n",
       "    }\n",
       "\n",
       "    .dataframe thead th {\n",
       "        text-align: right;\n",
       "    }\n",
       "</style>\n",
       "<table border=\"1\" class=\"dataframe\">\n",
       "  <thead>\n",
       "    <tr style=\"text-align: right;\">\n",
       "      <th></th>\n",
       "      <th>v0</th>\n",
       "      <th>v1</th>\n",
       "      <th>w0</th>\n",
       "      <th>w1</th>\n",
       "      <th>a0</th>\n",
       "      <th>a1</th>\n",
       "      <th>a2</th>\n",
       "      <th>f</th>\n",
       "    </tr>\n",
       "    <tr>\n",
       "      <th>measurement</th>\n",
       "      <th></th>\n",
       "      <th></th>\n",
       "      <th></th>\n",
       "      <th></th>\n",
       "      <th></th>\n",
       "      <th></th>\n",
       "      <th></th>\n",
       "      <th></th>\n",
       "    </tr>\n",
       "  </thead>\n",
       "  <tbody>\n",
       "    <tr>\n",
       "      <th>0</th>\n",
       "      <td>327.785</td>\n",
       "      <td>0.0</td>\n",
       "      <td>655.565811</td>\n",
       "      <td>0.0</td>\n",
       "      <td>-0.000071</td>\n",
       "      <td>-0.000127</td>\n",
       "      <td>-0.000116</td>\n",
       "      <td>0.000056</td>\n",
       "    </tr>\n",
       "    <tr>\n",
       "      <th>1</th>\n",
       "      <td>327.785</td>\n",
       "      <td>0.0</td>\n",
       "      <td>655.565838</td>\n",
       "      <td>0.0</td>\n",
       "      <td>-0.000067</td>\n",
       "      <td>-0.000129</td>\n",
       "      <td>-0.000120</td>\n",
       "      <td>0.000062</td>\n",
       "    </tr>\n",
       "    <tr>\n",
       "      <th>2</th>\n",
       "      <td>327.785</td>\n",
       "      <td>0.0</td>\n",
       "      <td>655.565844</td>\n",
       "      <td>0.0</td>\n",
       "      <td>-0.000064</td>\n",
       "      <td>-0.000120</td>\n",
       "      <td>-0.000108</td>\n",
       "      <td>0.000056</td>\n",
       "    </tr>\n",
       "    <tr>\n",
       "      <th>3</th>\n",
       "      <td>327.785</td>\n",
       "      <td>0.0</td>\n",
       "      <td>655.565830</td>\n",
       "      <td>0.0</td>\n",
       "      <td>-0.000055</td>\n",
       "      <td>-0.000116</td>\n",
       "      <td>-0.000110</td>\n",
       "      <td>0.000061</td>\n",
       "    </tr>\n",
       "    <tr>\n",
       "      <th>4</th>\n",
       "      <td>327.785</td>\n",
       "      <td>0.0</td>\n",
       "      <td>655.565836</td>\n",
       "      <td>0.0</td>\n",
       "      <td>-0.000053</td>\n",
       "      <td>-0.000111</td>\n",
       "      <td>-0.000103</td>\n",
       "      <td>0.000058</td>\n",
       "    </tr>\n",
       "  </tbody>\n",
       "</table>\n",
       "</div>"
      ],
      "text/plain": [
       "                  v0   v1          w0   w1        a0        a1        a2  \\\n",
       "measurement                                                                \n",
       "0            327.785  0.0  655.565811  0.0 -0.000071 -0.000127 -0.000116   \n",
       "1            327.785  0.0  655.565838  0.0 -0.000067 -0.000129 -0.000120   \n",
       "2            327.785  0.0  655.565844  0.0 -0.000064 -0.000120 -0.000108   \n",
       "3            327.785  0.0  655.565830  0.0 -0.000055 -0.000116 -0.000110   \n",
       "4            327.785  0.0  655.565836  0.0 -0.000053 -0.000111 -0.000103   \n",
       "\n",
       "                    f  \n",
       "measurement            \n",
       "0            0.000056  \n",
       "1            0.000062  \n",
       "2            0.000056  \n",
       "3            0.000061  \n",
       "4            0.000058  "
      ]
     },
     "execution_count": 32,
     "metadata": {},
     "output_type": "execute_result"
    }
   ],
   "source": [
    "df = scan.df(\"analysis\", cache=True)\n",
    "df.head()"
   ]
  },
  {
   "cell_type": "markdown",
   "metadata": {},
   "source": [
    "### offline mode\n",
    "\n",
    "By setting `check_datafile=False` when creating an instance of `H5Data` or `H5Scan` you can continue to access data stored locally under `out_dire` after you have disconnected from the remote data server.  The instance will be created in offline mode, which skips the steps that require access to the hdf5 data file. Calling any previously cached methods *should* work as normal.  Uncached methods, however, won't work (obvs.)."
   ]
  },
  {
   "cell_type": "code",
   "execution_count": 33,
   "metadata": {},
   "outputs": [
    {
     "data": {
      "text/html": [
       "<div>\n",
       "<style scoped>\n",
       "    .dataframe tbody tr th:only-of-type {\n",
       "        vertical-align: middle;\n",
       "    }\n",
       "\n",
       "    .dataframe tbody tr th {\n",
       "        vertical-align: top;\n",
       "    }\n",
       "\n",
       "    .dataframe thead th {\n",
       "        text-align: right;\n",
       "    }\n",
       "</style>\n",
       "<table border=\"1\" class=\"dataframe\">\n",
       "  <thead>\n",
       "    <tr style=\"text-align: right;\">\n",
       "      <th></th>\n",
       "      <th>v0</th>\n",
       "      <th>v1</th>\n",
       "      <th>w0</th>\n",
       "      <th>w1</th>\n",
       "      <th>a0</th>\n",
       "      <th>a1</th>\n",
       "      <th>a2</th>\n",
       "      <th>f</th>\n",
       "    </tr>\n",
       "    <tr>\n",
       "      <th>measurement</th>\n",
       "      <th></th>\n",
       "      <th></th>\n",
       "      <th></th>\n",
       "      <th></th>\n",
       "      <th></th>\n",
       "      <th></th>\n",
       "      <th></th>\n",
       "      <th></th>\n",
       "    </tr>\n",
       "  </thead>\n",
       "  <tbody>\n",
       "    <tr>\n",
       "      <th>0</th>\n",
       "      <td>327.785</td>\n",
       "      <td>0.0</td>\n",
       "      <td>655.565811</td>\n",
       "      <td>0.0</td>\n",
       "      <td>-0.000071</td>\n",
       "      <td>-0.000127</td>\n",
       "      <td>-0.000116</td>\n",
       "      <td>0.000056</td>\n",
       "    </tr>\n",
       "    <tr>\n",
       "      <th>1</th>\n",
       "      <td>327.785</td>\n",
       "      <td>0.0</td>\n",
       "      <td>655.565838</td>\n",
       "      <td>0.0</td>\n",
       "      <td>-0.000067</td>\n",
       "      <td>-0.000129</td>\n",
       "      <td>-0.000120</td>\n",
       "      <td>0.000062</td>\n",
       "    </tr>\n",
       "    <tr>\n",
       "      <th>2</th>\n",
       "      <td>327.785</td>\n",
       "      <td>0.0</td>\n",
       "      <td>655.565844</td>\n",
       "      <td>0.0</td>\n",
       "      <td>-0.000064</td>\n",
       "      <td>-0.000120</td>\n",
       "      <td>-0.000108</td>\n",
       "      <td>0.000056</td>\n",
       "    </tr>\n",
       "    <tr>\n",
       "      <th>3</th>\n",
       "      <td>327.785</td>\n",
       "      <td>0.0</td>\n",
       "      <td>655.565830</td>\n",
       "      <td>0.0</td>\n",
       "      <td>-0.000055</td>\n",
       "      <td>-0.000116</td>\n",
       "      <td>-0.000110</td>\n",
       "      <td>0.000061</td>\n",
       "    </tr>\n",
       "    <tr>\n",
       "      <th>4</th>\n",
       "      <td>327.785</td>\n",
       "      <td>0.0</td>\n",
       "      <td>655.565836</td>\n",
       "      <td>0.0</td>\n",
       "      <td>-0.000053</td>\n",
       "      <td>-0.000111</td>\n",
       "      <td>-0.000103</td>\n",
       "      <td>0.000058</td>\n",
       "    </tr>\n",
       "  </tbody>\n",
       "</table>\n",
       "</div>"
      ],
      "text/plain": [
       "                  v0   v1          w0   w1        a0        a1        a2  \\\n",
       "measurement                                                                \n",
       "0            327.785  0.0  655.565811  0.0 -0.000071 -0.000127 -0.000116   \n",
       "1            327.785  0.0  655.565838  0.0 -0.000067 -0.000129 -0.000120   \n",
       "2            327.785  0.0  655.565844  0.0 -0.000064 -0.000120 -0.000108   \n",
       "3            327.785  0.0  655.565830  0.0 -0.000055 -0.000116 -0.000110   \n",
       "4            327.785  0.0  655.565836  0.0 -0.000053 -0.000111 -0.000103   \n",
       "\n",
       "                    f  \n",
       "measurement            \n",
       "0            0.000056  \n",
       "1            0.000062  \n",
       "2            0.000056  \n",
       "3            0.000061  \n",
       "4            0.000058  "
      ]
     },
     "execution_count": 33,
     "metadata": {},
     "output_type": "execute_result"
    }
   ],
   "source": [
    "# pretend to connect to the datafile\n",
    "scan2 = H5Scan(fil, out_dire=out_dire, check_datafile=False)\n",
    "df = scan2.df('analysis', cache=True)\n",
    "df.head()"
   ]
  },
  {
   "cell_type": "code",
   "execution_count": 34,
   "metadata": {},
   "outputs": [],
   "source": [
    "# returns None (data file has not been read)\n",
    "assert scan2.num_datasets is None"
   ]
  },
  {
   "cell_type": "code",
   "execution_count": 35,
   "metadata": {},
   "outputs": [],
   "source": [
    "# run checks manually (only works if the hdf5 file is now accessible, which it is)\n",
    "scan2.check_datafile()"
   ]
  },
  {
   "cell_type": "code",
   "execution_count": 36,
   "metadata": {},
   "outputs": [
    {
     "data": {
      "text/plain": [
       "2"
      ]
     },
     "execution_count": 36,
     "metadata": {},
     "output_type": "execute_result"
    }
   ],
   "source": [
    "# now it works\n",
    "scan2.num_datasets"
   ]
  },
  {
   "cell_type": "code",
   "execution_count": null,
   "metadata": {},
   "outputs": [],
   "source": []
  }
 ],
 "metadata": {
  "kernelspec": {
   "display_name": "Python 3",
   "language": "python",
   "name": "python3"
  },
  "language_info": {
   "codemirror_mode": {
    "name": "ipython",
    "version": 3
   },
   "file_extension": ".py",
   "mimetype": "text/x-python",
   "name": "python",
   "nbconvert_exporter": "python",
   "pygments_lexer": "ipython3",
   "version": "3.7.3"
  }
 },
 "nbformat": 4,
 "nbformat_minor": 2
}
